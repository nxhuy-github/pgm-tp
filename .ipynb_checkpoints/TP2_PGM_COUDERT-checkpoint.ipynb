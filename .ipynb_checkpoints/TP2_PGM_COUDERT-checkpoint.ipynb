{
 "cells": [
  {
   "cell_type": "markdown",
   "metadata": {},
   "source": [
    "# Master Data Science, Lyon 1\n",
    "# TP2 PGM (durée 6h) \n",
    "Compte-rendu COUDERT Rémi-Vinh p1115674"
   ]
  },
  {
   "cell_type": "markdown",
   "metadata": {},
   "source": [
    "### Demande spéciale"
   ]
  },
  {
   "cell_type": "markdown",
   "metadata": {},
   "source": [
    "Monsieur, il y avait la correction en cachée dans votre dossier et il y en a pas mal qui ont/vont pomper dessus. Alors, c'est sûr que je l'ai aussi regardé comme les autres mais j'ai beaucoup travaillé entre le tutorial PyTorch et votre correction pour essayer de comprendre le fonctionnement et les subtilités du chatbot. J'y ai passé 17 heures en tout.<br>Tout ça pour vous demander si cela a été utile ou non, est-ce que cela va me différencier de ceux qui ont simplement copié niveau notes ? Je vous avoue que je suis un peu perdu par ce système de notes et de TPs et j'ai juste besoin d'être rassuré par un petit mot de votre part. N'hésitez pas à m'écrire."
   ]
  },
  {
   "cell_type": "markdown",
   "metadata": {},
   "source": [
    "# Plan\n",
    "On construit un chatbot avec un encodeur, un décodeur et un système d'attention.\n",
    "\n",
    "- La première reconnaissance de mots s'appuie sur un word2index pour l'input_lang et l'output_lang.\n",
    "- La deuxième reconnaissance de mots s'appuie sur un word2vec entraîné sur la base de données.\n",
    "- La troisième reconnaissance de mots s'appuie sur le même word2vec entraîné sur la base de données mais permet de reconnaître certains mots inconnus en les associant à des mots similaires du vocabulaire via un word2vec pré-entraîné sur Wikipédia."
   ]
  },
  {
   "cell_type": "markdown",
   "metadata": {},
   "source": [
    "# Master Data Science, Lyon 1\n",
    "# TP2 PGM (durée 6h) \n",
    "\n",
    "Alex Aussem (alexandre.aussem@univ-lyon1.fr)\n",
    "\n",
    "***\n",
    "\n",
    "## Chatbot with a sequence to sequence network and attention\n",
    "*************************************************************\n",
    "\n",
    "In this tutorial, you will learn how to teach a recurrent neural network to anwers various questions about the admission to the master in Data Science of Lyon 1** to varying degrees of success... \n",
    "\n",
    "From Siri to Google Translate, deep neural networks have enabled breakthroughs in machine understanding of natural language. Most of these models treat language as a flat sequence of words or characters, and use a kind of model called a recurrent neural network (RNN) to process this sequence\n",
    "\n",
    "The code was adapated by Alex Aussem from the Pytorch example \"Translation with a Sequence to Sequence Network and Attention\". **Author**: `Sean Robertson <https://github.com/spro/practical-pytorch>`\n",
    "\n",
    "Sentences are in French. Example: [> input, = target, < output]\n",
    "\n",
    "    \n",
    "    > pourriez vous me renseigner ?\n",
    "    = oui volontiers d ou venez vous ?\n",
    "    < oui volontiers <EOS>\n",
    "\n",
    "    > quel est le corps professoral ?\n",
    "    = il est compose de chercheurs du liris \n",
    "    < il est compose de chercheurs du liris  <EOS>\n",
    "    \n",
    "To deal with these types of variable-length input and output, we need to use a recurrent neural network (RNN). Feed-forward neural networks, such as convolutional neural networks, do not maintain internal state other than the network’s own parameters. An RNN maintains its internal state while reading a sequence of inputs, which in our case will be a sequence of words, thereby being able to process an input of any length.\n",
    "\n",
    "This is made possible by the simple but powerful idea of the `sequence\n",
    "to sequence network <http://arxiv.org/abs/1409.3215>`, in which two\n",
    "recurrent neural networks work together to transform one sequence to\n",
    "another. An encoder network condenses an input sequence into a vector,\n",
    "and a decoder network unfolds that vector into a new sequence.\n",
    "\n",
    "To improve upon this model we'll use an **attention mechanism**, which lets the decoder\n",
    "learn to focus over a specific range of the input sequence. The approach of incorporating attention mechanism has become one of the hottest topics in deep learning recently (<https://arxiv.org/abs/1507.01053>, <https://arxiv.org/abs/1409.0473>`).\n",
    "\n",
    "\n",
    "**Recommended Reading:**\n",
    "\n",
    "-  http://pytorch.org/ For installation instructions\n",
    "-  doc:`/beginner/deep_learning_60min_blitz` to get started with PyTorch in general\n",
    "-  doc:`/beginner/pytorch_with_examples` for a wide and deep overview\n",
    "\n",
    "\n",
    "It would also be useful to know about Sequence to Sequence networks and\n",
    "how they work:\n",
    "\n",
    "-  'Recursive Neural Networks with PyTorch with a recurrent tracker and TreeLSTM nodes\n",
    "    <https://devblogs.nvidia.com/parallelforall/recursive-neural-networks-pytorch>`\n",
    "-  `Learning Phrase Representations using RNN Encoder-Decoder for\n",
    "   Statistical Machine Translation <http://arxiv.org/abs/1406.1078>`\n",
    "-  `Sequence to Sequence Learning with Neural\n",
    "   Networks <http://arxiv.org/abs/1409.3215>`\n",
    "-  `Neural Machine Translation by Jointly Learning to Align and\n",
    "   Translate <https://arxiv.org/abs/1409.0473>`\n",
    "-  `A Neural Conversational Model <http://arxiv.org/abs/1506.05869>`\n",
    "-  `Sequence to Sequence Learning with Neural\n",
    "   Networks <http://arxiv.org/abs/1409.3215>`\n",
    "-  `Neural Machine Translation by Jointly Learning to Align and\n",
    "   Translate <https://arxiv.org/abs/1409.0473>`\n",
    "-  `A Neural Conversational Model <http://arxiv.org/abs/1506.05869>`\n"
   ]
  },
  {
   "cell_type": "code",
   "execution_count": 1,
   "metadata": {},
   "outputs": [],
   "source": [
    "from __future__ import unicode_literals, print_function, division\n",
    "from io import open\n",
    "import unicodedata\n",
    "import string\n",
    "import re\n",
    "import random\n",
    "import numpy as np\n",
    "\n",
    "import torch\n",
    "import torch.nn as nn\n",
    "from torch.autograd import Variable\n",
    "from torch import optim\n",
    "import torch.nn.functional as F"
   ]
  },
  {
   "cell_type": "code",
   "execution_count": 2,
   "metadata": {},
   "outputs": [],
   "source": [
    "%matplotlib inline"
   ]
  },
  {
   "cell_type": "code",
   "execution_count": 3,
   "metadata": {},
   "outputs": [],
   "source": [
    "import warnings\n",
    "warnings.filterwarnings(\"ignore\")"
   ]
  },
  {
   "cell_type": "markdown",
   "metadata": {},
   "source": [
    "Loading data files\n",
    "==================\n",
    "\n",
    "The data for this project is a set of questions/anwers pairs.\n"
   ]
  },
  {
   "cell_type": "markdown",
   "metadata": {},
   "source": [
    "We will be representing each word in a language as a one-hot\n",
    "vector, or giant vector of zeros except for a single one (at the index\n",
    "of the word). Compared to the dozens of characters that might exist in a\n",
    "language, there are many many more words, so the encoding vector is much\n",
    "larger. We will however cheat a bit and trim the data to only use a few\n",
    "hundred words per language."
   ]
  },
  {
   "cell_type": "markdown",
   "metadata": {},
   "source": [
    "We'll need a unique index per word to use as the inputs and targets of\n",
    "the networks later. To keep track of all this we will use a helper class\n",
    "called ``Lang`` which has word → index (``word2index``) and index → word\n",
    "(``index2word``) dictionaries, as well as a count of each word\n",
    "``word2count`` to use to later replace rare words.\n",
    "\n",
    "\n"
   ]
  },
  {
   "cell_type": "code",
   "execution_count": 4,
   "metadata": {},
   "outputs": [],
   "source": [
    "SOS_token = 0\n",
    "EOS_token = 1\n",
    "\n",
    "class Lang:\n",
    "    def __init__(self, name):\n",
    "        self.name = name\n",
    "        self.word2index = {}\n",
    "        self.word2count = {}\n",
    "        self.index2word = {0: \"SOS\", 1: \"EOS\"}\n",
    "        self.n_words = 2  # Count SOS and EOS\n",
    "\n",
    "    def addSentence(self, sentence):\n",
    "        for word in sentence.split():\n",
    "            if word == '':\n",
    "                print('****************',sentence)\n",
    "            self.addWord(word)\n",
    "         \n",
    "    def addWord(self, word):\n",
    "        if word not in self.word2index:\n",
    "            self.word2index[word] = self.n_words\n",
    "            self.word2count[word] = 1\n",
    "            self.index2word[self.n_words] = word\n",
    "            self.n_words += 1\n",
    "        else:\n",
    "            self.word2count[word] += 1"
   ]
  },
  {
   "cell_type": "markdown",
   "metadata": {},
   "source": [
    "The files are all in Unicode, to simplify we will turn Unicode\n",
    "characters to ASCII, make everything lowercase, and trim most\n",
    "punctuation.\n",
    "\n",
    "\n"
   ]
  },
  {
   "cell_type": "code",
   "execution_count": 5,
   "metadata": {},
   "outputs": [],
   "source": [
    "# Turn a Unicode string to plain ASCII, thanks to\n",
    "# http://stackoverflow.com/a/518232/2809427\n",
    "def unicodeToAscii(s):\n",
    "    return ''.join(\n",
    "        c for c in unicodedata.normalize('NFD', s)\n",
    "        if unicodedata.category(c) != 'Mn'\n",
    "    )\n",
    "\n",
    "# Lowercase, trim, and remove non-letter characters except digits\n",
    "def normalizeString(s):\n",
    "    s = unicodeToAscii(s.lower().strip())\n",
    "    #s = re.sub(r\"([.!?])\", r\" \\1\", s)\n",
    "    #s = re.sub(r\"[^a-zA-Z.!?]+\", r\" \", s)\n",
    "    #s = re.sub(r\"[^a-zA-Z0-9?]+\", r\" \", s)\n",
    "    #s = re.sub(r\"[^a-zA-Z0-9?&\\'\\’\\%\\-]+\", r\" \", s)\n",
    "    s = re.sub(r\"[^a-zA-Z0-9?&\\%\\-]+\", r\" \", s)\n",
    "    return s"
   ]
  },
  {
   "cell_type": "code",
   "execution_count": 6,
   "metadata": {},
   "outputs": [
    {
     "name": "stdout",
     "output_type": "stream",
     "text": [
      "il eut ete bien de s inscrire en 2017 n est-ce pas ?\n"
     ]
    }
   ],
   "source": [
    "s=\"Il eût été bien de s'inscrire en 2017 !! N'est-ce pas ?\"\n",
    "s = normalizeString(s)\n",
    "print(s)"
   ]
  },
  {
   "cell_type": "markdown",
   "metadata": {},
   "source": [
    "To read the data file we will split the file into lines, and then split\n",
    "lines into pairs. If we want to infer the question from the answers, the ``reverse``\n",
    "flag is added to reverse the pairs.\n"
   ]
  },
  {
   "cell_type": "code",
   "execution_count": 7,
   "metadata": {},
   "outputs": [],
   "source": [
    "def readLangs(questions, answers, reverse=False):\n",
    "    print(\"Reading lines...\")\n",
    "        \n",
    "    lines = open('data/chatbot-M2-DS.txt', encoding='utf-8').\\\n",
    "        read().strip().split('\\n')\n",
    "    # Split every line into pairs and normalize\n",
    "    pairs = [[normalizeString(s) for s in l.split('\\t')] for l in lines]\n",
    "\n",
    "    # Reverse pairs, make Lang instances\n",
    "    if reverse:\n",
    "        pairs = [list(reversed(p)) for p in pairs]\n",
    "        input_lang = Lang(answers)\n",
    "        output_lang = Lang(questions)\n",
    "    else:\n",
    "        input_lang = Lang(questions)\n",
    "        output_lang = Lang(answers)\n",
    "\n",
    "    return input_lang, output_lang, pairs"
   ]
  },
  {
   "cell_type": "markdown",
   "metadata": {},
   "source": [
    "Here we set a limit to the length of input words (that includes ending punctuation + EOS token). The maximum input sentence length has to be determined in advance in order to parametrize the attention mechanism."
   ]
  },
  {
   "cell_type": "code",
   "execution_count": 8,
   "metadata": {},
   "outputs": [],
   "source": [
    "MAX_LENGTH = 15\n",
    "\n",
    "stopwords = []\n",
    "#stopwords = 'de du des d le la les l ce c ci ça m me ma si t sur n en s si a y au un une on il nous vous je j'.split()\n",
    "\n",
    "\n",
    "def TrimWordsSentence(sentence):\n",
    "    resultwords = [word for word in sentence.split() if word.lower() not in stopwords]\n",
    "    resultwords = ' '.join(resultwords)\n",
    "    return resultwords\n",
    "\n",
    "def TrimWords(pairs):\n",
    "    for pair in pairs: \n",
    "        pair[0] = TrimWordsSentence(pair[0])\n",
    "#         if pair[0] != pair[0].strip():\n",
    "#             print(\"La question :\")\n",
    "#             print(pair[0])\n",
    "#             print(\"a été strippée en\")\n",
    "#             pair[0] = pair[0].strip()\n",
    "#             print(pair[0])\n",
    "#             print(\"\")\n",
    "#         if pair[1] != pair[1].strip():\n",
    "#             print(\"La réponse :\")\n",
    "#             print(pair[1])\n",
    "#             print(\"a été strippée en\")\n",
    "#             pair[1] = pair[1].strip()\n",
    "#             print(pair[1])\n",
    "#             print(\"\")\n",
    "        pair[0] = pair[0].strip()\n",
    "        pair[1] = pair[1].strip()\n",
    "    return pairs\n",
    "\n",
    "def filterPair(p):\n",
    "    return len(p[0].split()) < MAX_LENGTH and \\\n",
    "        len(p[1].split()) < MAX_LENGTH \n",
    "\n",
    "def filterPairs(pairs):\n",
    "    return [pair for pair in pairs if filterPair(pair)]"
   ]
  },
  {
   "cell_type": "markdown",
   "metadata": {},
   "source": [
    "The full process for preparing the data is:\n",
    "\n",
    "-  Read text file and split into lines, split lines into pairs\n",
    "-  Normalize text, filter by length and content\n",
    "-  Make word lists from sentences in pairs\n",
    "\n",
    "\n"
   ]
  },
  {
   "cell_type": "code",
   "execution_count": 9,
   "metadata": {},
   "outputs": [],
   "source": [
    "def prepareData(lang1, lang2, reverse=False):\n",
    "    input_lang, output_lang, pairs = readLangs(lang1, lang2, reverse)\n",
    "    print(\"Read %s sentence pairs\" % len(pairs))\n",
    "    pairs = TrimWords(pairs)\n",
    "    \n",
    "    #for pair in [pair for pair in pairs if not filterPair(pair)]:\n",
    "    #>    print('%s (%d) -> %s (%d)' % (pair[0],len(pair[0].split()),pair[1],len(pair[1].split())))  \n",
    "    \n",
    "    pairs = filterPairs(pairs)\n",
    "    \n",
    "    print('')\n",
    "    print(\"Trimmed to %s sentence pairs\" % len(pairs))\n",
    "    print(\"Counting words...\")\n",
    "    for pair in pairs:\n",
    "        input_lang.addSentence(pair[0])\n",
    "        output_lang.addSentence(pair[1])\n",
    "        if '' in output_lang.word2index: print(\"Un mot vide a été ajouté à partir du couple : \", pair)\n",
    "    print(\"Counted words:\")\n",
    "    print(input_lang.name, input_lang.n_words)\n",
    "    print(output_lang.name, output_lang.n_words)\n",
    "    return input_lang, output_lang, pairs"
   ]
  },
  {
   "cell_type": "code",
   "execution_count": 10,
   "metadata": {},
   "outputs": [
    {
     "name": "stdout",
     "output_type": "stream",
     "text": [
      "Reading lines...\n",
      "Read 591 sentence pairs\n",
      "\n",
      "Trimmed to 547 sentence pairs\n",
      "Counting words...\n",
      "Counted words:\n",
      "questions 624\n",
      "answers 643\n",
      "['quels competences sont necessaires pour integrer le master ?', 'mathematiques et statistiques']\n"
     ]
    }
   ],
   "source": [
    "input_lang, output_lang, pairs = prepareData('questions', 'answers', False)\n",
    "print(random.choice(pairs))\n",
    "#print(indexesFromSentence(input_lang,'bonjour'))\n",
    "#print(input_lang.index2word[102], '->',input_lang.word2index['bonjour'])"
   ]
  },
  {
   "cell_type": "code",
   "execution_count": 11,
   "metadata": {
    "scrolled": true
   },
   "outputs": [],
   "source": [
    "# print(set(input_lang.word2index))"
   ]
  },
  {
   "cell_type": "code",
   "execution_count": 12,
   "metadata": {},
   "outputs": [],
   "source": [
    "# print(set(output_lang.word2index))"
   ]
  },
  {
   "cell_type": "code",
   "execution_count": 13,
   "metadata": {
    "scrolled": false
   },
   "outputs": [],
   "source": [
    "# pairs"
   ]
  },
  {
   "cell_type": "markdown",
   "metadata": {},
   "source": [
    "The Seq2Seq Model\n",
    "=================\n",
    "\n",
    "A Recurrent Neural Network, or RNN, is a network that operates on a\n",
    "sequence and uses its own output as input for subsequent steps.\n",
    "\n",
    "A `Sequence to Sequence network <http://arxiv.org/abs/1409.3215>`__, or\n",
    "seq2seq network, or `Encoder Decoder\n",
    "network <https://arxiv.org/pdf/1406.1078v3.pdf>`__, is a model\n",
    "consisting of two RNNs called the encoder and decoder. The encoder reads\n",
    "an input sequence and outputs a single vector, and the decoder reads\n",
    "that vector to produce an output sequence.\n",
    "\n",
    "Unlike sequence prediction with a single RNN, where every input\n",
    "corresponds to an output, the seq2seq model frees us from sequence\n",
    "length and order, which makes it ideal for dialogue systems.\n",
    "\n",
    "With a seq2seq model the encoder creates a single vector which, in the\n",
    "ideal case, encodes the \"meaning\" of the input sequence into a single\n",
    "vector — a single point in some N dimensional space of sentences.\n",
    "\n",
    "\n"
   ]
  },
  {
   "cell_type": "markdown",
   "metadata": {},
   "source": [
    "The Encoder\n",
    "-----------\n",
    "\n",
    "The encoder of a seq2seq network is a RNN that outputs some value for\n",
    "every word from the input sentence. For every input word the encoder\n",
    "outputs a vector and a hidden state, and uses the hidden state for the\n",
    "next input word.\n"
   ]
  },
  {
   "cell_type": "code",
   "execution_count": 14,
   "metadata": {},
   "outputs": [],
   "source": [
    "class EncoderRNN(nn.Module):\n",
    "    def __init__(self, input_size, hidden_size, n_layers=1):\n",
    "        super(EncoderRNN, self).__init__()\n",
    "        self.n_layers = n_layers\n",
    "        self.hidden_size = hidden_size\n",
    "\n",
    "        self.embedding = nn.Embedding(input_size, hidden_size)\n",
    "        self.gru = nn.GRU(hidden_size, hidden_size)\n",
    "\n",
    "    def forward(self, input, hidden):\n",
    "        embedded = self.embedding(input).view(1, 1, -1)\n",
    "        output = embedded\n",
    "        for i in range(self.n_layers):\n",
    "            output, hidden = self.gru(output, hidden)\n",
    "        return output, hidden\n",
    "\n",
    "    def initHidden(self):\n",
    "        result = Variable(torch.zeros(1, 1, self.hidden_size))\n",
    "        return result"
   ]
  },
  {
   "cell_type": "markdown",
   "metadata": {},
   "source": [
    "A standard RNN Decoder\n",
    "-----------\n",
    "\n",
    "The decoder is another RNN that takes the encoder output vector(s) and\n",
    "outputs a sequence of words to produce the answer.\n",
    "\n",
    "\n"
   ]
  },
  {
   "cell_type": "markdown",
   "metadata": {},
   "source": [
    "**Simple Decoder**\n",
    "\n",
    "In the simplest seq2seq decoder we use only last output of the encoder.\n",
    "This last output is sometimes called the *context vector* as it encodes\n",
    "context from the entire sequence. This context vector is used as the\n",
    "initial hidden state of the decoder.\n",
    "\n",
    "At every step of decoding, the decoder is given an input token and\n",
    "hidden state. The initial input token is the start-of-string ``<SOS>``\n",
    "token, and the first hidden state is the context vector (the encoder's\n",
    "last hidden state).\n",
    "\n"
   ]
  },
  {
   "cell_type": "code",
   "execution_count": 15,
   "metadata": {},
   "outputs": [],
   "source": [
    "class DecoderRNN(nn.Module):\n",
    "    def __init__(self, hidden_size, output_size, n_layers=1):\n",
    "        super(DecoderRNN, self).__init__()\n",
    "        self.n_layers = n_layers\n",
    "        self.hidden_size = hidden_size\n",
    "\n",
    "        self.embedding = nn.Embedding(output_size, hidden_size)\n",
    "        self.gru = nn.GRU(hidden_size, hidden_size)\n",
    "        self.out = nn.Linear(hidden_size, output_size)\n",
    "        self.softmax = nn.LogSoftmax(dim=1)\n",
    "\n",
    "    def forward(self, input, hidden):\n",
    "        output = self.embedding(input).view(1, 1, -1)\n",
    "        for i in range(self.n_layers):\n",
    "            output = F.relu(output)\n",
    "            output, hidden = self.gru(output, hidden)\n",
    "        output = self.softmax(self.out(output[0]),dim=1)\n",
    "        return output, hidden\n",
    "\n",
    "    def initHidden(self):\n",
    "        result = Variable(torch.zeros(1, 1, self.hidden_size))\n",
    "        return result"
   ]
  },
  {
   "cell_type": "markdown",
   "metadata": {},
   "source": [
    "# Attention Decoder\n",
    "\n",
    "\n",
    "If only the context vector is passed betweeen the encoder and decoder,\n",
    "that single vector carries the burden of encoding the entire sentence.\n",
    "\n",
    "Attention allows the decoder network to \"focus\" on a different part of\n",
    "the encoder's outputs for every step of the decoder's own outputs. First\n",
    "we calculate a set of *attention weights*. These will be multiplied by\n",
    "the encoder output vectors to create a weighted combination. The result\n",
    "(called ``attn_applied`` in the code) should contain information about\n",
    "that specific part of the input sequence, and thus help the decoder\n",
    "choose the right output words.\n",
    "\n",
    "Calculating the attention weights is done with another feed-forward\n",
    "layer ``attn``, using the decoder's input and hidden state as inputs.\n",
    "Because there are sentences of all sizes in the training data, to\n",
    "actually create and train this layer we have to choose a maximum\n",
    "sentence length (input length, for encoder outputs) that it can apply\n",
    "to. Sentences of the maximum length will use all the attention weights,\n",
    "while shorter sentences will only use the first few.\n",
    "\n"
   ]
  },
  {
   "cell_type": "code",
   "execution_count": 16,
   "metadata": {},
   "outputs": [],
   "source": [
    "class AttnDecoderRNN(nn.Module):\n",
    "    def __init__(self, hidden_size, output_size, n_layers=1, dropout_p=0.1, max_length=MAX_LENGTH):\n",
    "        super(AttnDecoderRNN, self).__init__()\n",
    "        self.hidden_size = hidden_size\n",
    "        self.output_size = output_size\n",
    "        self.n_layers = n_layers\n",
    "        self.dropout_p = dropout_p\n",
    "        self.max_length = max_length\n",
    "\n",
    "        self.embedding = nn.Embedding(self.output_size, self.hidden_size)\n",
    "        self.attn = nn.Linear(self.hidden_size * 2, self.max_length)\n",
    "        self.attn_combine = nn.Linear(self.hidden_size * 2, self.hidden_size)\n",
    "        self.dropout = nn.Dropout(self.dropout_p)\n",
    "        self.gru = nn.GRU(self.hidden_size, self.hidden_size)\n",
    "        self.out = nn.Linear(self.hidden_size, self.output_size)\n",
    "\n",
    "    def forward(self, input, hidden, encoder_outputs):\n",
    "        embedded = self.embedding(input).view(1, 1, -1)\n",
    "        embedded = self.dropout(embedded)\n",
    "\n",
    "        attn_weights = F.softmax(\n",
    "            self.attn(torch.cat((embedded[0], hidden[0]), 1)))#, dim=1)\n",
    "        attn_applied = torch.bmm(attn_weights.unsqueeze(0),\n",
    "                                 encoder_outputs.unsqueeze(0))\n",
    "\n",
    "        output = torch.cat((embedded[0], attn_applied[0]), 1)\n",
    "        output = self.attn_combine(output).unsqueeze(0)\n",
    "\n",
    "        for i in range(self.n_layers):\n",
    "            output = F.relu(output)\n",
    "            output, hidden = self.gru(output, hidden)\n",
    "\n",
    "        output = F.log_softmax(self.out(output[0]))#, dim=1)\n",
    "        return output, hidden, attn_weights\n",
    "\n",
    "    def initHidden(self):\n",
    "        result = Variable(torch.zeros(1, 1, self.hidden_size))\n",
    "        return result"
   ]
  },
  {
   "cell_type": "markdown",
   "metadata": {},
   "source": [
    "Note: There are other forms of attention that work around the length\n",
    "  limitation by using a relative position approach. Read about \"local\n",
    "  attention\" in `Effective Approaches to Attention-based Neural Machine\n",
    "  Translation <https://arxiv.org/abs/1508.04025>`\n",
    "\n",
    "# Training\n",
    "\n",
    "\n",
    "Preparing Training Data\n",
    "-----------------------\n",
    "\n",
    "To train, for each pair we will need an input tensor (indexes of the\n",
    "words in the input sentence) and target tensor (indexes of the words in\n",
    "the target sentence). While creating these vectors we will append the\n",
    "EOS token to both sequences.\n",
    "\n",
    "\n"
   ]
  },
  {
   "cell_type": "code",
   "execution_count": 17,
   "metadata": {},
   "outputs": [],
   "source": [
    "def indexesFromSentence(lang, sentence):\n",
    "    return [lang.word2index[word] for word in sentence.split()]\n",
    "\n",
    "def variableFromSentence(lang, sentence):\n",
    "    indexes = indexesFromSentence(lang, sentence)\n",
    "    indexes.append(EOS_token)\n",
    "    result = Variable(torch.LongTensor(indexes).view(-1, 1))\n",
    "    return result\n",
    "\n",
    "def variablesFromPair(pair):\n",
    "    input_variable = variableFromSentence(input_lang, pair[0])\n",
    "    target_variable = variableFromSentence(output_lang, pair[1])\n",
    "    return (input_variable, target_variable)"
   ]
  },
  {
   "cell_type": "markdown",
   "metadata": {},
   "source": [
    "Training the Model\n",
    "------------------\n",
    "\n",
    "To train we run the input sentence through the encoder, and keep track\n",
    "of every output and the latest hidden state. Then the decoder is given\n",
    "the ``<SOS>`` token as its first input, and the last hidden state of the\n",
    "encoder as its first hidden state.\n",
    "\n",
    "\"Teacher forcing\" is the concept of using the real target outputs as\n",
    "each next input, instead of using the decoder's guess as the next input.\n",
    "Using teacher forcing causes it to converge faster but `when the trained\n",
    "network is exploited, it may exhibit\n",
    "instability <http://minds.jacobs-university.de/sites/default/files/uploads/papers/ESNTutorialRev.pdf>`.\n",
    "\n",
    "You can observe outputs of teacher-forced networks that read with\n",
    "coherent grammar but wander far from the correct answer -\n",
    "intuitively it has learned to represent the output grammar and can \"pick\n",
    "up\" the meaning once the teacher tells it the first few words, but it\n",
    "has not properly learned how to create the sentence from the answer\n",
    "in the first place.\n",
    "\n",
    "Because of the freedom PyTorch's autograd gives us, we can randomly\n",
    "choose to use teacher forcing or not with a simple if statement. Turn\n",
    "``teacher_forcing_ratio`` up to use more of it.\n",
    "\n",
    "\n"
   ]
  },
  {
   "cell_type": "code",
   "execution_count": 18,
   "metadata": {},
   "outputs": [],
   "source": [
    "teacher_forcing_ratio = 0.5\n",
    "\n",
    "def train(input_variable, target_variable, encoder, decoder, encoder_optimizer, decoder_optimizer, criterion, max_length=MAX_LENGTH):\n",
    "    encoder_hidden = encoder.initHidden()\n",
    "\n",
    "    encoder_optimizer.zero_grad()\n",
    "    decoder_optimizer.zero_grad()\n",
    "\n",
    "    input_length = input_variable.size()[0]\n",
    "    target_length = target_variable.size()[0]\n",
    "\n",
    "    encoder_outputs = Variable(torch.zeros(max_length, encoder.hidden_size))\n",
    "\n",
    "    loss = 0\n",
    "\n",
    "    for ei in range(input_length):\n",
    "        encoder_output, encoder_hidden = encoder(\n",
    "            input_variable[ei], encoder_hidden)\n",
    "        encoder_outputs[ei] = encoder_output[0][0]\n",
    "\n",
    "    decoder_input = Variable(torch.LongTensor([[SOS_token]]))\n",
    "    decoder_input = decoder_input\n",
    "\n",
    "    decoder_hidden = encoder_hidden\n",
    "\n",
    "    use_teacher_forcing = True if random.random() < teacher_forcing_ratio else False\n",
    "\n",
    "    if use_teacher_forcing:\n",
    "        # Teacher forcing: Feed the target as the next input\n",
    "        for di in range(target_length):\n",
    "            \n",
    "            decoder_output, decoder_hidden, decoder_attention = decoder(\n",
    "                decoder_input, decoder_hidden, encoder_outputs)\n",
    "            \n",
    "            #decoder_output, decoder_hidden = decoder(\n",
    "             #   decoder_input, decoder_hidden)\n",
    "            \n",
    "            loss += criterion(decoder_output, target_variable[di])\n",
    "            decoder_input = target_variable[di]  # Teacher forcing\n",
    "\n",
    "    else:\n",
    "        # Without teacher forcing: use its own predictions as the next input\n",
    "        for di in range(target_length):\n",
    "            \n",
    "            decoder_output, decoder_hidden, decoder_attention = decoder(\n",
    "                decoder_input, decoder_hidden, encoder_outputs)\n",
    "            \n",
    "            #decoder_output, decoder_hidden = decoder(\n",
    "             #   decoder_input, decoder_hidden)       \n",
    "            \n",
    "            topv, topi = decoder_output.data.topk(1)\n",
    "            ni = topi[0][0]\n",
    "\n",
    "            decoder_input = Variable(torch.LongTensor([[ni]]))\n",
    "            decoder_input = decoder_input\n",
    "\n",
    "            loss += criterion(decoder_output, target_variable[di])\n",
    "            if ni == EOS_token:\n",
    "                break\n",
    "\n",
    "    loss.backward()\n",
    "\n",
    "    encoder_optimizer.step()\n",
    "    decoder_optimizer.step()\n",
    "\n",
    "    return loss.item() / target_length"
   ]
  },
  {
   "cell_type": "markdown",
   "metadata": {},
   "source": [
    "This is a helper function to print time elapsed and estimated time\n",
    "remaining given the current time and progress %."
   ]
  },
  {
   "cell_type": "code",
   "execution_count": 19,
   "metadata": {},
   "outputs": [],
   "source": [
    "import time\n",
    "import math\n",
    "\n",
    "def asMinutes(s):\n",
    "    m = math.floor(s / 60)\n",
    "    s -= m * 60\n",
    "    return '%dm %ds' % (m, s)\n",
    "\n",
    "def timeSince(since, percent):\n",
    "    now = time.time()\n",
    "    s = now - since\n",
    "    es = s / (percent)\n",
    "    rs = es - s\n",
    "    return '%s (- %s)' % (asMinutes(s), asMinutes(rs))"
   ]
  },
  {
   "cell_type": "markdown",
   "metadata": {},
   "source": [
    "The whole training process looks like this:\n",
    "\n",
    "-  Start a timer\n",
    "-  Initialize optimizers and criterion\n",
    "-  Create set of training pairs\n",
    "-  Start empty losses array for plotting\n",
    "\n",
    "Then we call ``train`` many times and occasionally print the progress (%\n",
    "of examples, time so far, estimated time) and average loss.\n",
    "\n",
    "\n"
   ]
  },
  {
   "cell_type": "code",
   "execution_count": 20,
   "metadata": {},
   "outputs": [],
   "source": [
    "def trainIters(encoder, decoder, n_iters, print_every=1000, plot_every=100, learning_rate=0.01):\n",
    "    start = time.time()\n",
    "    plot_losses = []\n",
    "    print_loss_total = 0  # Reset every print_every\n",
    "    plot_loss_total = 0  # Reset every plot_every\n",
    "\n",
    "    encoder_optimizer = optim.SGD(encoder.parameters(), lr=learning_rate)\n",
    "    decoder_optimizer = optim.SGD(decoder.parameters(), lr=learning_rate)\n",
    "    \n",
    "    training_pairs = [variablesFromPair(random.choice(pairs))\n",
    "                      for i in range(n_iters)]\n",
    "    criterion = nn.NLLLoss()\n",
    "\n",
    "    for iter in range(1, n_iters + 1):\n",
    "        training_pair = training_pairs[iter - 1]\n",
    "        input_variable = training_pair[0]\n",
    "        target_variable = training_pair[1]\n",
    "\n",
    "        loss = train(input_variable, target_variable, encoder,\n",
    "                     decoder, encoder_optimizer, decoder_optimizer, criterion)\n",
    "        print_loss_total += loss\n",
    "        plot_loss_total += loss\n",
    "\n",
    "        if iter % print_every == 0:\n",
    "            print_loss_avg = print_loss_total / print_every\n",
    "            print_loss_total = 0\n",
    "            print('%s (%d %d%%) %.4f' % (timeSince(start, iter / n_iters),\n",
    "                                         iter, iter / n_iters * 100, print_loss_avg))\n",
    "\n",
    "        if iter % plot_every == 0:\n",
    "            plot_loss_avg = plot_loss_total / plot_every\n",
    "            plot_losses.append(plot_loss_avg)\n",
    "            plot_loss_total = 0\n",
    "\n",
    "    showPlot(plot_losses)"
   ]
  },
  {
   "cell_type": "markdown",
   "metadata": {},
   "source": [
    "Plotting results\n",
    "----------------\n",
    "\n",
    "Plotting is done with matplotlib, using the array of loss values\n",
    "``plot_losses`` saved while training.\n",
    "\n",
    "\n"
   ]
  },
  {
   "cell_type": "code",
   "execution_count": 21,
   "metadata": {},
   "outputs": [],
   "source": [
    "import matplotlib.pyplot as plt\n",
    "import matplotlib.ticker as ticker\n",
    "import numpy as np\n",
    "\n",
    "\n",
    "def showPlot(points):\n",
    "    plt.figure()\n",
    "    fig, ax = plt.subplots()\n",
    "    # this locator puts ticks at regular intervals\n",
    "    loc = ticker.MultipleLocator(base=0.2)\n",
    "    ax.yaxis.set_major_locator(loc)\n",
    "    plt.plot(points)"
   ]
  },
  {
   "cell_type": "markdown",
   "metadata": {},
   "source": [
    "Evaluation\n",
    "==========\n",
    "\n",
    "Evaluation is mostly the same as training, but there are no targets so\n",
    "we simply feed the decoder's predictions back to itself for each step.\n",
    "Every time it predicts a word we add it to the output string, and if it\n",
    "predicts the EOS token we stop there. We also store the decoder's\n",
    "attention outputs for display later.\n",
    "\n",
    "\n"
   ]
  },
  {
   "cell_type": "code",
   "execution_count": 22,
   "metadata": {},
   "outputs": [],
   "source": [
    "def evaluate(encoder, decoder, sentence, max_length=MAX_LENGTH):\n",
    "    input_variable = variableFromSentence(input_lang, sentence)\n",
    "    input_length = input_variable.size()[0]\n",
    "    encoder_hidden = encoder.initHidden()\n",
    "\n",
    "    encoder_outputs = Variable(torch.zeros(max_length, encoder.hidden_size))\n",
    "    encoder_outputs = encoder_outputs\n",
    "\n",
    "    for ei in range(input_length):\n",
    "        encoder_output, encoder_hidden = encoder(input_variable[ei],\n",
    "                                                 encoder_hidden)\n",
    "        encoder_outputs[ei] = encoder_outputs[ei] + encoder_output[0][0]\n",
    "\n",
    "    decoder_input = Variable(torch.LongTensor([[SOS_token]]))  # SOS\n",
    "    decoder_input = decoder_input\n",
    "\n",
    "    decoder_hidden = encoder_hidden\n",
    "\n",
    "    decoded_words = []\n",
    "    decoder_attentions = torch.zeros(max_length, max_length)\n",
    "\n",
    "    for di in range(max_length):\n",
    "        \n",
    "        #decoder_output, decoder_hidden = decoder(\n",
    "         #   decoder_input, decoder_hidden)\n",
    "\n",
    "        decoder_output, decoder_hidden, decoder_attention = decoder(\n",
    "            decoder_input, decoder_hidden, encoder_outputs)\n",
    "        decoder_attentions[di] = decoder_attention.data\n",
    "\n",
    "        topv, topi = decoder_output.data.topk(1)\n",
    "        ni = topi[0][0].item()\n",
    "\n",
    "        if ni == EOS_token:\n",
    "            decoded_words.append('<EOS>')\n",
    "            break\n",
    "        else:\n",
    "            decoded_words.append(output_lang.index2word[ni])\n",
    "\n",
    "        decoder_input = Variable(torch.LongTensor([[ni]]))\n",
    "\n",
    "    return decoded_words, decoder_attentions[:di + 1]\n",
    "    #return decoded_words"
   ]
  },
  {
   "cell_type": "markdown",
   "metadata": {},
   "source": [
    "We can evaluate random sentences from the training set and print out the\n",
    "input, target, and output to make some subjective quality judgements:\n",
    "\n",
    "\n"
   ]
  },
  {
   "cell_type": "code",
   "execution_count": 23,
   "metadata": {},
   "outputs": [],
   "source": [
    "def evaluateRandomly(encoder, decoder, n=10):\n",
    "    for i in range(n):\n",
    "        pair = random.choice(pairs)\n",
    "        print('>', pair[0])\n",
    "        print('=', pair[1])\n",
    "        \n",
    "        output_words, attentions = evaluate(encoder, decoder, pair[0])\n",
    "        #output_words = evaluate(encoder, decoder, pair[0])\n",
    "     \n",
    "        output_sentence = ' '.join(output_words)\n",
    "        print('<', output_sentence)\n",
    "        print('')"
   ]
  },
  {
   "cell_type": "markdown",
   "metadata": {},
   "source": [
    "Training and Evaluating\n",
    "=======================\n",
    "\n",
    "With all these helper functions in place (it looks like extra work, but\n",
    "it's easier to run multiple experiments easier) we can actually\n",
    "initialize a network and start training.\n",
    "\n",
    "Remember that they are very few input sentences. For this small\n",
    "dataset we can use relatively small networks of 100 hidden nodes and a\n",
    "single GRU layer. After about 3 minutes on a MacBook CPU we'll get some\n",
    "reasonable results.\n",
    "\n",
    ".. Note::\n",
    "   If you run this notebook you can train, interrupt the kernel,\n",
    "   evaluate, and continue training later. Comment out the lines where the\n",
    "   encoder and decoder are initialized and run ``trainIters`` again.\n",
    "\n",
    "\n"
   ]
  },
  {
   "cell_type": "code",
   "execution_count": 24,
   "metadata": {},
   "outputs": [
    {
     "name": "stdout",
     "output_type": "stream",
     "text": [
      "0m 28s (- 13m 50s) (1000 3%) 3.6069\n",
      "0m 57s (- 13m 25s) (2000 6%) 3.3668\n",
      "1m 22s (- 12m 20s) (3000 10%) 3.4159\n",
      "1m 49s (- 11m 49s) (4000 13%) 3.0842\n",
      "2m 18s (- 11m 33s) (5000 16%) 2.9386\n",
      "2m 44s (- 10m 57s) (6000 20%) 2.6532\n",
      "3m 9s (- 10m 22s) (7000 23%) 2.3259\n",
      "3m 33s (- 9m 48s) (8000 26%) 2.0665\n",
      "4m 0s (- 9m 20s) (9000 30%) 1.7217\n",
      "4m 28s (- 8m 57s) (10000 33%) 1.5653\n",
      "5m 6s (- 8m 50s) (11000 36%) 1.2610\n",
      "5m 39s (- 8m 29s) (12000 40%) 1.0810\n",
      "6m 7s (- 8m 0s) (13000 43%) 1.0497\n",
      "6m 36s (- 7m 33s) (14000 46%) 0.8542\n",
      "7m 4s (- 7m 4s) (15000 50%) 0.7138\n",
      "7m 32s (- 6m 36s) (16000 53%) 0.6546\n",
      "8m 2s (- 6m 8s) (17000 56%) 0.5422\n",
      "8m 31s (- 5m 40s) (18000 60%) 0.4723\n",
      "8m 58s (- 5m 11s) (19000 63%) 0.4087\n",
      "9m 27s (- 4m 43s) (20000 66%) 0.3242\n",
      "9m 54s (- 4m 14s) (21000 70%) 0.2677\n",
      "10m 20s (- 3m 45s) (22000 73%) 0.2600\n",
      "10m 47s (- 3m 16s) (23000 76%) 0.2317\n",
      "11m 13s (- 2m 48s) (24000 80%) 0.1855\n",
      "11m 40s (- 2m 20s) (25000 83%) 0.1947\n",
      "12m 7s (- 1m 51s) (26000 86%) 0.1771\n",
      "12m 34s (- 1m 23s) (27000 90%) 0.1698\n",
      "12m 58s (- 0m 55s) (28000 93%) 0.1727\n",
      "13m 22s (- 0m 27s) (29000 96%) 0.1353\n",
      "13m 47s (- 0m 0s) (30000 100%) 0.1333\n"
     ]
    },
    {
     "data": {
      "text/plain": [
       "<Figure size 432x288 with 0 Axes>"
      ]
     },
     "metadata": {},
     "output_type": "display_data"
    },
    {
     "data": {
      "image/png": "[encoded data removed]",
      "text/plain": [
       "<Figure size 432x288 with 1 Axes>"
      ]
     },
     "metadata": {
      "needs_background": "light"
     },
     "output_type": "display_data"
    }
   ],
   "source": [
    "hidden_size = 100\n",
    "encoder1 = EncoderRNN(input_lang.n_words, hidden_size)\n",
    "\n",
    "attn_decoder1 = AttnDecoderRNN(hidden_size, output_lang.n_words,\n",
    "    1, dropout_p=0.1)\n",
    "\n",
    "trainIters(encoder1, attn_decoder1, 30000, print_every=1000, plot_every=100)"
   ]
  },
  {
   "cell_type": "code",
   "execution_count": 191,
   "metadata": {},
   "outputs": [],
   "source": [
    "# checkpoint = torch.load(\"chatbot_1.tar\")\n",
    "# encoder1.load_state_dict(checkpoint['en'])\n",
    "# attn_decoder1.load_state_dict(checkpoint['de'])"
   ]
  },
  {
   "cell_type": "code",
   "execution_count": null,
   "metadata": {},
   "outputs": [],
   "source": [
    "# trainIters(encoder1, attn_decoder1, 30000, print_every=1000, plot_every=100)"
   ]
  },
  {
   "cell_type": "code",
   "execution_count": 26,
   "metadata": {},
   "outputs": [],
   "source": [
    "# torch.save({\n",
    "#     'en': encoder1.state_dict(),\n",
    "#     'de': attn_decoder1.state_dict(),\n",
    "# }, \"chatbot_1.tar\")"
   ]
  },
  {
   "cell_type": "code",
   "execution_count": 25,
   "metadata": {},
   "outputs": [
    {
     "name": "stdout",
     "output_type": "stream",
     "text": [
      "> merci beaucoup\n",
      "= je vous en prie\n",
      "< je vous en prie <EOS>\n",
      "\n",
      "> est-ce un master en un an ?\n",
      "= oui c est un m2 d un an\n",
      "< oui c est un m2 d un an <EOS>\n",
      "\n",
      "> il y a un stage a faire ?\n",
      "= oui il y a un stage a faire\n",
      "< oui il y a un stage a faire <EOS>\n",
      "\n",
      "> combien d etudiants ont rate l an dernier ?\n",
      "= un seul\n",
      "< un seul <EOS>\n",
      "\n",
      "> vous pouvez m aider ?\n",
      "= oui volontier que desirez vous savoir ?\n",
      "< oui je suis la pour vous renseigner <EOS>\n",
      "\n",
      "> faut-il posseder son propre ordinateur ?\n",
      "= non mais c est un confort vraiment tres pratique\n",
      "< non mais c est un confort vraiment tres pratique <EOS>\n",
      "\n",
      "> a combien s eleve la gratification durant le stage ?\n",
      "= la paye minimale durant le stage est de 550 euros mensuels environ\n",
      "< la paye minimale durant le stage est de 550 euros mensuels environ <EOS>\n",
      "\n",
      "> comment sont les enseignants ?\n",
      "= a vous de vous faire votre avis\n",
      "< a vous de vous faire votre avis <EOS>\n",
      "\n",
      "> si je viens de grenoble ?\n",
      "= 5 places pour ceux qui ont un m1 francais\n",
      "< 5 places pour ceux qui ont un m1 francais <EOS>\n",
      "\n",
      "> aurons nous des ordinateurs pour les tp ?\n",
      "= oui des ordinateurs sont a votre disposition dans les salles de tps\n",
      "< oui des ordinateurs sont a votre disposition dans les salles de tps <EOS>\n",
      "\n"
     ]
    }
   ],
   "source": [
    "evaluateRandomly(encoder1, attn_decoder1)"
   ]
  },
  {
   "cell_type": "markdown",
   "metadata": {},
   "source": [
    "New questions\n",
    "=========\n",
    "\n",
    "Ask new questions (never seen during training) using only the words that appear in your input vocabulary. "
   ]
  },
  {
   "cell_type": "code",
   "execution_count": 27,
   "metadata": {},
   "outputs": [
    {
     "name": "stdout",
     "output_type": "stream",
     "text": [
      "['Bonjour', 'je suis intéressé par la data science', \"C'est quand la rentrée\", 'Quels sont les cours enseignés', 'Quelle est la durée du stage', 'On peut faire un stage recherche en laboratoire', 'Merci monsieur']\n",
      "Bonjour\n",
      "-> bonjour <EOS>\n",
      "\n",
      "je suis intéressé par la data science\n",
      "-> que faites-vous sur ecandidat <EOS>\n",
      "\n",
      "C'est quand la rentrée\n",
      "-> le 5 septembre <EOS>\n",
      "\n",
      "Quels sont les cours enseignés\n",
      "-> il faut regarder sur notre site web <EOS>\n",
      "\n",
      "Quelle est la durée du stage\n",
      "-> le mois doit avoir <EOS>\n",
      "\n",
      "On peut faire un stage recherche en laboratoire\n",
      "-> les stages sont effectues un stage seront transmises aux etudiants au fur et a mesure\n",
      "\n",
      "Merci monsieur\n",
      "-> de rien <EOS>\n",
      "\n"
     ]
    }
   ],
   "source": [
    "mail=\"Bonjour, je suis intéressé par la data science. C'est quand la rentrée ?\\\n",
    "Quels sont les cours enseignés  ? Quelle est la durée du stage ?\\\n",
    "On peut faire un stage recherche en laboratoire ? Merci monsieur.\"\n",
    "\n",
    "sentences = [s.strip() for s in re.split('[\\.\\,\\?\\!]' , mail)]\n",
    "print(sentences[:-1])\n",
    "sentences = sentences[:-1]\n",
    "\n",
    "for sentence in sentences : #sentence.split() :\n",
    "    sentence2= TrimWordsSentence(normalizeString(sentence))\n",
    "    #print(sentence2)\n",
    "    output_words, attentions = evaluate(encoder1, attn_decoder1, sentence2)\n",
    "    output_sentence = ' '.join(output_words)\n",
    "    print(sentence)\n",
    "    #print('=', sentence2)\n",
    "    print('->', output_sentence)\n",
    "    print('')\n",
    "    "
   ]
  },
  {
   "cell_type": "markdown",
   "metadata": {},
   "source": [
    "# Visualizing Attention\n",
    "---------------------\n",
    "\n",
    "A useful property of the attention mechanism is its highly interpretable\n",
    "outputs. Because it is used to weight specific encoder outputs of the\n",
    "input sequence, we can imagine looking where the network is focused most\n",
    "at each time step.\n",
    "\n",
    "We simply run ``plt.matshow(attentions)`` to see attention output\n",
    "displayed as a matrix, with the columns being input steps and rows being\n",
    "output steps:"
   ]
  },
  {
   "cell_type": "markdown",
   "metadata": {},
   "source": [
    "For a better viewing experience we will do the extra work of adding axes\n",
    "and labels:\n",
    "\n",
    "\n"
   ]
  },
  {
   "cell_type": "code",
   "execution_count": 28,
   "metadata": {},
   "outputs": [
    {
     "data": {
      "image/png": "[encoded data removed]",
      "text/plain": [
       "<Figure size 432x288 with 2 Axes>"
      ]
     },
     "metadata": {
      "needs_background": "light"
     },
     "output_type": "display_data"
    },
    {
     "data": {
      "image/png": "[encoded data removed]",
      "text/plain": [
       "<Figure size 432x288 with 2 Axes>"
      ]
     },
     "metadata": {
      "needs_background": "light"
     },
     "output_type": "display_data"
    }
   ],
   "source": [
    "def showAttention(input_sentence, output_words, attentions):\n",
    "    # Set up figure with colorbar\n",
    "    fig = plt.figure()\n",
    "    ax = fig.add_subplot(111)\n",
    "    cax = ax.matshow(attentions.numpy(), cmap='bone')\n",
    "    fig.colorbar(cax)\n",
    "\n",
    "    # Set up axes\n",
    "    ax.set_xticklabels([''] + input_sentence.split(' ') +\n",
    "                       ['<EOS>'], rotation=90)\n",
    "    ax.set_yticklabels([''] + output_words)\n",
    "\n",
    "    # Show label at every tick\n",
    "    ax.xaxis.set_major_locator(ticker.MultipleLocator(1))\n",
    "    ax.yaxis.set_major_locator(ticker.MultipleLocator(1))\n",
    "\n",
    "    plt.show()\n",
    "\n",
    "def evaluateAndShowAttention(input_sentence):\n",
    "    output_words, attentions = evaluate(\n",
    "        encoder1, attn_decoder1, input_sentence)\n",
    "    showAttention(input_sentence, output_words, attentions)\n",
    "\n",
    "evaluateAndShowAttention(TrimWordsSentence(\"le travail est-il intense ?\"))\n",
    "evaluateAndShowAttention(TrimWordsSentence(\"qui est le chef ?\"))"
   ]
  },
  {
   "cell_type": "markdown",
   "metadata": {},
   "source": [
    "---\n",
    "# TO DO\n",
    "\n",
    "\n",
    "\n",
    "-  Discuss the weaknesses of this simple approach\n",
    "-  Allow words in the new questions that were unseen during training.\n",
    "-  Allow questions of > 10 words (for instance, by selecting 10 words at random in the sentence).\n",
    "-  Adapt the code to handle several sequences at once (like an email)\n",
    "-  Replace the embeddings with pre-trained word embeddings such as word2vec (or GloVe).\n",
    "-  Try with more layers, more/less hidden units, and more sentences. Compare\n",
    "   the training time and performance.\n",
    "-  Define and plot other loss functions for this specific task (e.g. % correct words)\n"
   ]
  },
  {
   "cell_type": "markdown",
   "metadata": {},
   "source": [
    "# Further ideas (optional)\n",
    "- Use \"negative sampling\", i.e. sampling random words to form incorrect questions (answering the question with something like 'I don't understand your question, sorry.' in order to enforce the model recognize a questions that are not syntactically (and semantically) correct. \n",
    "The probability for selecting a word as a negative sample should be related to its frequency, with more frequent words being more likely to be selected as negative samples. \n",
    "- To reduce the size of the input vocabulary and thus the computational burden, try to replace all the unknwon words with an unknown token <UNK> instead of ignoring them.\n",
    "-  Adapt the decoder to infer directly the word embeddings (semantic) in the output sentence.  \n",
    "\n"
   ]
  },
  {
   "cell_type": "markdown",
   "metadata": {},
   "source": [
    "## Discuss the weaknesses of this simple approach"
   ]
  },
  {
   "cell_type": "markdown",
   "metadata": {},
   "source": [
    "N'étant pas (encore) très expérimenté en chatbot ou même en réseau de neurones, les idées suggérées sont issues du tutorial PyTorch sur le ChatBot.\n",
    "\n",
    "Amélioration des performances :\n",
    "- Le réseau de neurones est actuellement unidirectionnel. Il serait intéressant d'en implémenter un autre en sens inverse pour effectuer un traitement bidirectionnel. De cette manière, le chatbot serait à même d'encoder indépendamment d'une part le contexte passé et d'autre part le contexte futur.\n",
    "- Ignorer les mots rares et/ou les mots courants.\n",
    "\n",
    "Optimisation de l'entraînement : (essentiellement de la recherche du gradient descendant)\n",
    "- Ajouter une technique de batching, c'est-à-dire de traitement des données par paquet. Actuellement, le réseau de neurones apprend donnée par donnée, ce qui peut bruiter le gradient lorsqu'il tombe sur un couple question/réponse bizarre. L'avantage de traiter plusieurs données par paquet est de lisser ce bruit et d'améliorer l'indication du gradient.\n",
    "- Utiliser une technique dite de gradient clipping, qui consiste à plafonner le gradient pour éviter les problèmes aux abords de pentes \"brutales\".\n",
    "https://pytorch.org/tutorials/_images/grad_clip.png\n",
    "\n",
    "Utilisation :\n",
    "- Sauvegarder le chatbot afin de pouvoir l'utiliser à nouveau sans devoir le réentraîner."
   ]
  },
  {
   "cell_type": "markdown",
   "metadata": {},
   "source": [
    "## Allow words in the new questions that were unseen during training."
   ]
  },
  {
   "cell_type": "markdown",
   "metadata": {},
   "source": [
    "On modifie le codage d'une phrase en index dans la fonction **indexesFromSentence**.\n",
    "Si le mot n'est pas trouvé, alors on l'ignore."
   ]
  },
  {
   "cell_type": "code",
   "execution_count": 29,
   "metadata": {},
   "outputs": [],
   "source": [
    "def indexesFromSentence(lang, sentence):\n",
    "    indexes = []\n",
    "    # Pour chaque mot,\n",
    "    for word in sentence.split():\n",
    "        # on le code uniquement si on le trouve dans le dictionnaire.\n",
    "        if word in lang.word2index:\n",
    "            indexes.append(lang.word2index[word])\n",
    "    return indexes"
   ]
  },
  {
   "cell_type": "markdown",
   "metadata": {},
   "source": [
    "Vérification."
   ]
  },
  {
   "cell_type": "code",
   "execution_count": 30,
   "metadata": {},
   "outputs": [],
   "source": [
    "def discuss(encoder1, attn_decoder1, message):\n",
    "    message = normalizeString(message)\n",
    "    output_words, attentions = evaluate(encoder1, attn_decoder1, message)\n",
    "    output_sentence = ' '.join(output_words)\n",
    "    print(message)\n",
    "    print(\"-->\", output_sentence)"
   ]
  },
  {
   "cell_type": "code",
   "execution_count": 31,
   "metadata": {},
   "outputs": [
    {
     "name": "stdout",
     "output_type": "stream",
     "text": [
      "qui est ton dieu ?\n",
      "--> c est mr aussem qui a developpe le chatbot <EOS>\n"
     ]
    }
   ],
   "source": [
    "message = \"qui est ton dieu ?\"\n",
    "discuss(encoder1, attn_decoder1, message)"
   ]
  },
  {
   "cell_type": "code",
   "execution_count": 32,
   "metadata": {},
   "outputs": [
    {
     "name": "stdout",
     "output_type": "stream",
     "text": [
      "qui esst ton dieu ?\n",
      "--> c est mr aussem qui a developpe le chatbot <EOS>\n"
     ]
    }
   ],
   "source": [
    "message = \"qui esst ton dieu ?\"\n",
    "discuss(encoder1, attn_decoder1, message)"
   ]
  },
  {
   "cell_type": "markdown",
   "metadata": {},
   "source": [
    "## Allow questions of > 10 words (for instance, by selecting 10 words at random in the sentence)."
   ]
  },
  {
   "cell_type": "markdown",
   "metadata": {},
   "source": [
    "On supprime des mots au hasard lorsque la phrase est trop longue."
   ]
  },
  {
   "cell_type": "code",
   "execution_count": 33,
   "metadata": {},
   "outputs": [
    {
     "name": "stdout",
     "output_type": "stream",
     "text": [
      "tensor([[  6],\n",
      "        [571],\n",
      "        [ 21],\n",
      "        [111],\n",
      "        [ 29],\n",
      "        [ 82],\n",
      "        [ 10],\n",
      "        [ 10],\n",
      "        [ 10],\n",
      "        [ 10],\n",
      "        [ 10],\n",
      "        [ 10],\n",
      "        [ 10],\n",
      "        [ 10],\n",
      "        [ 10],\n",
      "        [  1]])\n",
      "La phrase d'origine est de longueur 16\n",
      "tensor([[  6],\n",
      "        [ 21],\n",
      "        [111],\n",
      "        [ 29],\n",
      "        [ 82],\n",
      "        [ 10],\n",
      "        [ 10],\n",
      "        [ 10],\n",
      "        [ 10],\n",
      "        [ 10],\n",
      "        [ 10],\n",
      "        [ 10],\n",
      "        [ 10],\n",
      "        [ 10],\n",
      "        [  1]])\n",
      "La phrase tronquée est de longueur 15\n"
     ]
    }
   ],
   "source": [
    "message = \"Les réseaux de neurones sont-ils abordés dans le parcours Data Science ? ? ? ? ? ? ? ? ?\"\n",
    "\n",
    "input_variable = variableFromSentence(input_lang, message)\n",
    "print(input_variable)\n",
    "print(\"La phrase d'origine est de longueur\", len(input_variable))\n",
    "\n",
    "# Si la taille de la phrase dépasse <MAX_LENGTH>,\n",
    "if len(input_variable) >= MAX_LENGTH:\n",
    "    # on sélectionne <max_length> mots à garder.\n",
    "    selection = random.sample(range(len(input_variable)), MAX_LENGTH)\n",
    "    \n",
    "    input_variable = input_variable[sorted(selection)]\n",
    "\n",
    "print(input_variable)\n",
    "print(\"La phrase tronquée est de longueur\", len(input_variable))"
   ]
  },
  {
   "cell_type": "markdown",
   "metadata": {},
   "source": [
    "On modifie la fonction **evaluate**."
   ]
  },
  {
   "cell_type": "code",
   "execution_count": 34,
   "metadata": {},
   "outputs": [],
   "source": [
    "def evaluate(encoder, decoder, sentence, max_length=MAX_LENGTH):\n",
    "    input_variable = variableFromSentence(input_lang, sentence)\n",
    "    \n",
    "    # Si la taille de la phrase dépasse <max_length>,\n",
    "    if len(input_variable) >= max_length:\n",
    "        # on sélectionne <max_length> mots à garder.\n",
    "        selection = random.sample(range(len(input_variable)), max_length)\n",
    "\n",
    "        input_variable = input_variable[sorted(selection)]\n",
    "    \n",
    "    input_length = input_variable.size()[0]\n",
    "    encoder_hidden = encoder.initHidden()\n",
    "\n",
    "    encoder_outputs = Variable(torch.zeros(max_length, encoder.hidden_size))\n",
    "    encoder_outputs = encoder_outputs\n",
    "\n",
    "    for ei in range(input_length):\n",
    "        encoder_output, encoder_hidden = encoder(input_variable[ei],\n",
    "                                                 encoder_hidden)\n",
    "        encoder_outputs[ei] = encoder_outputs[ei] + encoder_output[0][0]\n",
    "\n",
    "    decoder_input = Variable(torch.LongTensor([[SOS_token]]))  # SOS\n",
    "    decoder_input = decoder_input\n",
    "\n",
    "    decoder_hidden = encoder_hidden\n",
    "\n",
    "    decoded_words = []\n",
    "    decoder_attentions = torch.zeros(max_length, max_length)\n",
    "\n",
    "    for di in range(max_length):\n",
    "\n",
    "        decoder_output, decoder_hidden, decoder_attention = decoder(\n",
    "            decoder_input, decoder_hidden, encoder_outputs)\n",
    "        decoder_attentions[di] = decoder_attention.data\n",
    "\n",
    "        topv, topi = decoder_output.data.topk(1)\n",
    "        ni = topi[0][0].item()\n",
    "\n",
    "        if ni == EOS_token:\n",
    "            decoded_words.append('<EOS>')\n",
    "            break\n",
    "        else:\n",
    "            decoded_words.append(output_lang.index2word[ni])\n",
    "\n",
    "        decoder_input = Variable(torch.LongTensor([[ni]]))\n",
    "\n",
    "    return decoded_words, decoder_attentions[:di + 1]"
   ]
  },
  {
   "cell_type": "markdown",
   "metadata": {},
   "source": [
    "On vérifie avec une question artificiellement rallongée."
   ]
  },
  {
   "cell_type": "code",
   "execution_count": 35,
   "metadata": {},
   "outputs": [
    {
     "name": "stdout",
     "output_type": "stream",
     "text": [
      "les reseaux de neurones sont-ils abordes dans le parcours data science ? ? ? ? ? ? ? ? ?\n",
      "--> les reseaux de neurones sont abordes en machine learning notamment <EOS>\n",
      "les reseaux de neurones sont-ils abordes dans le parcours data science ? ? ? ? ? ? ? ? ?\n",
      "--> le master ds du liris <EOS>\n",
      "les reseaux de neurones sont-ils abordes dans le parcours data science ? ? ? ? ? ? ? ? ?\n",
      "--> les reseaux de neurones sont abordes en machine learning notamment <EOS>\n",
      "les reseaux de neurones sont-ils abordes dans le parcours data science ? ? ? ? ? ? ? ? ?\n",
      "--> non <EOS>\n",
      "les reseaux de neurones sont-ils abordes dans le parcours data science ? ? ? ? ? ? ? ? ?\n",
      "--> les reseaux de neurones sont abordes en machine learning notamment <EOS>\n",
      "les reseaux de neurones sont-ils abordes dans le parcours data science ? ? ? ? ? ? ? ? ?\n",
      "--> les reseaux de neurones sont abordes en machine learning notamment <EOS>\n"
     ]
    }
   ],
   "source": [
    "discuss(encoder1, attn_decoder1, message)\n",
    "discuss(encoder1, attn_decoder1, message)\n",
    "discuss(encoder1, attn_decoder1, message)\n",
    "discuss(encoder1, attn_decoder1, message)\n",
    "discuss(encoder1, attn_decoder1, message)\n",
    "discuss(encoder1, attn_decoder1, message)"
   ]
  },
  {
   "cell_type": "markdown",
   "metadata": {},
   "source": [
    "On observe que la réponse peut être très différente suivant les mots (aléatoirement) retenus par le chatbot."
   ]
  },
  {
   "cell_type": "markdown",
   "metadata": {},
   "source": [
    "## Adapt the code to handle several sequences at once (like an email)"
   ]
  },
  {
   "cell_type": "markdown",
   "metadata": {},
   "source": [
    "On reprend l'exemple proposé."
   ]
  },
  {
   "cell_type": "code",
   "execution_count": 36,
   "metadata": {
    "scrolled": true
   },
   "outputs": [
    {
     "name": "stdout",
     "output_type": "stream",
     "text": [
      "Bonjour\n",
      "-> bonjour <EOS>\n",
      "\n",
      "je suis intéressé par la data science\n",
      "-> que faites-vous sur ce site web du master <EOS>\n",
      "\n",
      "C'est quand la rentrée\n",
      "-> le 5 septembre <EOS>\n",
      "\n",
      "Quels sont les cours enseignés\n",
      "-> il faut regarder sur notre site web <EOS>\n",
      "\n",
      "Quelle est la durée du stage\n",
      "-> le stage doit avoir <EOS>\n",
      "\n",
      "On peut faire un stage recherche en laboratoire\n",
      "-> les stages sont effectues un stage seront transmises aux etudiants au fur et a mesure\n",
      "\n",
      "Merci monsieur\n",
      "-> de rien <EOS>\n",
      "\n"
     ]
    }
   ],
   "source": [
    "def mail_discuss(mail):\n",
    "    sentences = [s.strip() for s in re.split('[\\.\\,\\?\\!]' , mail)]\n",
    "    sentences = sentences[:-1]\n",
    "\n",
    "    for sentence in sentences : #sentence.split() :\n",
    "        sentence2= TrimWordsSentence(normalizeString(sentence))\n",
    "        output_words, attentions = evaluate(encoder1, attn_decoder1, sentence2)\n",
    "        output_sentence = ' '.join(output_words)\n",
    "        print(sentence)\n",
    "        print('->', output_sentence)\n",
    "        print('')\n",
    "        \n",
    "mail=\"Bonjour, je suis intéressé par la data science. C'est quand la rentrée ?\\\n",
    "Quels sont les cours enseignés ? Quelle est la durée du stage ?\\\n",
    "On peut faire un stage recherche en laboratoire ? Merci monsieur.\"\n",
    "\n",
    "mail_discuss(mail)"
   ]
  },
  {
   "cell_type": "markdown",
   "metadata": {},
   "source": [
    "## Implémenter un enregistrement du chatbot."
   ]
  },
  {
   "cell_type": "markdown",
   "metadata": {},
   "source": [
    "Sauvegarde."
   ]
  },
  {
   "cell_type": "code",
   "execution_count": 37,
   "metadata": {},
   "outputs": [],
   "source": [
    "# torch.save({\n",
    "#     'en': encoder1.state_dict(),\n",
    "#     'de': attn_decoder1.state_dict(),\n",
    "# #     'en_opt': encoder_optimizer.state_dict(),\n",
    "# #     'de_opt': decoder_optimizer.state_dict(),\n",
    "# }, \"checkpoint.tar\")"
   ]
  },
  {
   "cell_type": "markdown",
   "metadata": {},
   "source": [
    "Chargement."
   ]
  },
  {
   "cell_type": "code",
   "execution_count": 38,
   "metadata": {},
   "outputs": [],
   "source": [
    "# # Réinitialisation du chat bot.\n",
    "# encoder1 = EncoderRNN(input_lang.n_words, hidden_size)\n",
    "\n",
    "# attn_decoder1 = AttnDecoderRNN(hidden_size, output_lang.n_words,\n",
    "#     1, dropout_p=0.1)\n",
    "\n",
    "# checkpoint = torch.load(\"checkpoint.tar\")\n",
    "# encoder1.load_state_dict(checkpoint['en'])\n",
    "# attn_decoder1.load_state_dict(checkpoint['de'])"
   ]
  },
  {
   "cell_type": "markdown",
   "metadata": {},
   "source": [
    "On vérifie que le chargement a bien été effectué."
   ]
  },
  {
   "cell_type": "code",
   "execution_count": 39,
   "metadata": {
    "scrolled": true
   },
   "outputs": [],
   "source": [
    "# evaluateRandomly(encoder1, attn_decoder1)"
   ]
  },
  {
   "cell_type": "markdown",
   "metadata": {},
   "source": [
    "## Replace the embeddings with pre-trained word embeddings such as word2vec (or GloVe)."
   ]
  },
  {
   "cell_type": "markdown",
   "metadata": {},
   "source": [
    "### On implémente un modèle *Word2Vec* que l'on entraîne avec le dataset du chatbot."
   ]
  },
  {
   "cell_type": "code",
   "execution_count": 40,
   "metadata": {
    "scrolled": true
   },
   "outputs": [
    {
     "name": "stdout",
     "output_type": "stream",
     "text": [
      "{'de', 'puis-je', 'l', 'python', 'reviser', '?', 'avant', 'annee', 'commencer', 'que'}\n"
     ]
    }
   ],
   "source": [
    "# On importe <gensim>, la bibliothèque de <word2vec>.\n",
    "from gensim.models import Word2Vec\n",
    "\n",
    "# Pour chaque paire, on sélectionne chaque mot dans la question et chaque mot dans la réponse.\n",
    "vocabulary = [word for pair in pairs for word in pair[0].split(\" \") + pair[1].split(\" \")]\n",
    "\n",
    "# On crée le modèle.\n",
    "vocab_dim = 100\n",
    "model = Word2Vec(size=vocab_dim, window=5, min_count=1, workers=4)\n",
    "# On lui indique son vocabulaire. (Ce qu'il doit coder.)\n",
    "model.build_vocab([vocabulary])\n",
    "print(set(list(model.wv.vocab)[:10]))"
   ]
  },
  {
   "cell_type": "code",
   "execution_count": 41,
   "metadata": {},
   "outputs": [
    {
     "name": "stdout",
     "output_type": "stream",
     "text": [
      "[['que', 'puis-je', 'reviser', 'avant', 'de', 'commencer', 'l', 'annee', '?'], ['python', 'statistiques', 'console', 'linux'], ['quels', 'sont', 'les', 'prerequis', '?'], ['python', 'statistiques', 'console', 'linux'], ['que', 'puis-je', 'travailler', 'avant', 'de', 'commencer', 'l', 'annee', '?'], ['python', 'statistiques', 'console', 'linux'], ['que', 'puis-je', 'reviser', 'avant', 'de', 'commencer', 'les', 'cours', '?'], ['python', 'statistiques', 'console', 'linux'], ['que', 'puis-je', 'travailler', 'avant', 'de', 'commencer', 'les', 'cours', '?'], ['python', 'statistiques', 'console', 'linux']]\n"
     ]
    }
   ],
   "source": [
    "# On récupère les phrases.\n",
    "sentences = [sentence.split(\" \") for pair in pairs for sentence in pair]\n",
    "print(sentences[:10])"
   ]
  },
  {
   "cell_type": "code",
   "execution_count": 42,
   "metadata": {},
   "outputs": [],
   "source": [
    "# iterations = 100\n",
    "\n",
    "# # On entraîne le modèle.\n",
    "# for i in range(iterations):\n",
    "#     print(\"Étape :\", i+1, \"sur\", iterations)\n",
    "#     model.train(sentences, total_examples=len(sentences), epochs=len(sentences))"
   ]
  },
  {
   "cell_type": "markdown",
   "metadata": {},
   "source": [
    "On teste le modèle obtenu."
   ]
  },
  {
   "cell_type": "code",
   "execution_count": 43,
   "metadata": {},
   "outputs": [
    {
     "data": {
      "text/plain": [
       "[('pourriez', 0.4198285639286041),\n",
       " ('connaitre', 0.32055479288101196),\n",
       " ('pourquoi', 0.290120393037796),\n",
       " ('proportion', 0.287329763174057),\n",
       " ('face', 0.27665314078330994)]"
      ]
     },
     "execution_count": 43,
     "metadata": {},
     "output_type": "execute_result"
    }
   ],
   "source": [
    "model.wv.most_similar(positive=\"un\", topn=5)"
   ]
  },
  {
   "cell_type": "markdown",
   "metadata": {},
   "source": [
    "Juste pour le fun. :)"
   ]
  },
  {
   "cell_type": "code",
   "execution_count": 44,
   "metadata": {},
   "outputs": [
    {
     "data": {
      "text/plain": [
       "[('etes', 0.3039303123950958),\n",
       " ('dieu', 0.29482322931289673),\n",
       " ('ete', 0.2926945090293884),\n",
       " ('etes-vous', 0.27368682622909546),\n",
       " ('mon', 0.24563688039779663)]"
      ]
     },
     "execution_count": 44,
     "metadata": {},
     "output_type": "execute_result"
    }
   ],
   "source": [
    "model.wv.most_similar(positive=\"aussem\", topn=5)"
   ]
  },
  {
   "cell_type": "markdown",
   "metadata": {},
   "source": [
    "On enregistre le modèle."
   ]
  },
  {
   "cell_type": "code",
   "execution_count": 45,
   "metadata": {},
   "outputs": [],
   "source": [
    "# model.save(\"w2v/simple_model_.bin\")"
   ]
  },
  {
   "cell_type": "markdown",
   "metadata": {},
   "source": [
    "On charge le modèle et on vérifie que l'on retrouve les même résultats."
   ]
  },
  {
   "cell_type": "code",
   "execution_count": 142,
   "metadata": {
    "scrolled": true
   },
   "outputs": [],
   "source": [
    "# On charge le modèle et on vérifie que l'on obtient les même résultats que précédemment.\n",
    "model = Word2Vec.load(\"w2v/simple_model_save.bin\")"
   ]
  },
  {
   "cell_type": "code",
   "execution_count": 143,
   "metadata": {},
   "outputs": [
    {
     "data": {
      "text/plain": [
       "[('autres', 0.3705228567123413),\n",
       " ('parler', 0.29418501257896423),\n",
       " ('faite', 0.2899881899356842),\n",
       " ('venez', 0.28522273898124695),\n",
       " ('le', 0.28428155183792114)]"
      ]
     },
     "execution_count": 143,
     "metadata": {},
     "output_type": "execute_result"
    }
   ],
   "source": [
    "model.wv.most_similar(positive=\"un\", topn=5)"
   ]
  },
  {
   "cell_type": "code",
   "execution_count": 144,
   "metadata": {},
   "outputs": [
    {
     "data": {
      "text/plain": [
       "[('preferable', 0.4511116147041321),\n",
       " ('gentil', 0.4288483262062073),\n",
       " ('co-responsable', 0.42609983682632446),\n",
       " ('developpe', 0.4152342677116394),\n",
       " ('alexandre', 0.40354400873184204)]"
      ]
     },
     "execution_count": 144,
     "metadata": {},
     "output_type": "execute_result"
    }
   ],
   "source": [
    "model.wv.most_similar(positive=\"aussem\", topn=5)"
   ]
  },
  {
   "cell_type": "markdown",
   "metadata": {},
   "source": [
    "###  On intègre ce modèle *Word2Vec* dans le chatbot."
   ]
  },
  {
   "cell_type": "markdown",
   "metadata": {},
   "source": [
    "On fusionne les deux langue d'entrée et de sortie en une seule.\n",
    "<br>\n",
    "- Chaque mot est associé à un index, via our_lang.\n",
    "- Chaque index est associé à un vecteur, via embedding_weights."
   ]
  },
  {
   "cell_type": "code",
   "execution_count": 46,
   "metadata": {},
   "outputs": [],
   "source": [
    "# On fusionne les deux langues d'entrée et de sortie dans une seule.\n",
    "our_lang = Lang(\"questions/réponses\")\n",
    "for word in model.wv.vocab:\n",
    "    our_lang.addWord(word)"
   ]
  },
  {
   "cell_type": "code",
   "execution_count": 47,
   "metadata": {},
   "outputs": [],
   "source": [
    "# <our_lang> :           mot    -->  index\n",
    "# <embedding_weights> :  index  -->  vecteur\n",
    "\n",
    "n_symbols = our_lang.n_words + 1\n",
    "embedding_weights = np.zeros((n_symbols, vocab_dim))\n",
    "for word,index in our_lang.word2index.items():\n",
    "    try:\n",
    "        embedding_weights[index, :] = model.wv[word]\n",
    "    except KeyError:\n",
    "        pass\n",
    "hidden_size = embedding_weights.shape[1]"
   ]
  },
  {
   "cell_type": "markdown",
   "metadata": {},
   "source": [
    "On vérifie sur le mot \"aussem\" que les associations sont exactes."
   ]
  },
  {
   "cell_type": "code",
   "execution_count": 48,
   "metadata": {},
   "outputs": [
    {
     "name": "stdout",
     "output_type": "stream",
     "text": [
      "649\n",
      "[ True  True  True  True  True  True  True  True  True  True  True  True\n",
      "  True  True  True  True  True  True  True  True  True  True  True  True\n",
      "  True  True  True  True  True  True  True  True  True  True  True  True\n",
      "  True  True  True  True  True  True  True  True  True  True  True  True\n",
      "  True  True  True  True  True  True  True  True  True  True  True  True\n",
      "  True  True  True  True  True  True  True  True  True  True  True  True\n",
      "  True  True  True  True  True  True  True  True  True  True  True  True\n",
      "  True  True  True  True  True  True  True  True  True  True  True  True\n",
      "  True  True  True  True]\n"
     ]
    }
   ],
   "source": [
    "print(our_lang.word2index[\"aussem\"])\n",
    "print(embedding_weights[our_lang.word2index[\"aussem\"]] == model.wv[\"aussem\"])"
   ]
  },
  {
   "cell_type": "markdown",
   "metadata": {},
   "source": [
    "Oui, les vecteurs du modèle et des poids envoyés sont les mêmes et l'index est 649."
   ]
  },
  {
   "cell_type": "code",
   "execution_count": 49,
   "metadata": {},
   "outputs": [],
   "source": [
    "def indexesFromSentence(lang, sentence):\n",
    "    return [lang.word2index[word] for word in sentence.split()]\n",
    "\n",
    "def variableFromSentence(lang, sentence):\n",
    "    indexes = indexesFromSentence(lang, sentence)\n",
    "    indexes.append(EOS_token)\n",
    "    result = Variable(torch.LongTensor(indexes).view(-1, 1))\n",
    "    return result\n",
    "\n",
    "def variablesFromPair(pair):\n",
    "    input_variable = variableFromSentence(our_lang, pair[0])\n",
    "    target_variable = variableFromSentence(our_lang, pair[1])\n",
    "    return (input_variable, target_variable)"
   ]
  },
  {
   "cell_type": "code",
   "execution_count": 50,
   "metadata": {},
   "outputs": [],
   "source": [
    "# On définit deux nouvelles classes d'encodeur et de décodeur\n",
    "    # pouvant être initialisés avec un encodage de mots prédéfinis.\n",
    "\n",
    "class EncoderRNN_with_trained_embedding(nn.Module):\n",
    "    def __init__(self, input_size, hidden_size, pretrained_embed, n_layers=1):\n",
    "        super(EncoderRNN_with_trained_embedding, self).__init__()\n",
    "        self.n_layers = n_layers\n",
    "        self.hidden_size = hidden_size\n",
    "\n",
    "        # Initialise l'encodage du réseau de neurones sur celui pré-entraîné passé en paramètre.\n",
    "        self.embedding = nn.Embedding(input_size, hidden_size)\n",
    "        pretrained_embed = torch.Tensor(pretrained_embed)\n",
    "        self.embedding.weight = nn.Parameter(pretrained_embed)\n",
    "        self.gru = nn.GRU(hidden_size, hidden_size)\n",
    "\n",
    "    def forward(self, input, hidden):\n",
    "        embedded = self.embedding(input).view(1, 1, -1)\n",
    "        output = embedded\n",
    "        for i in range(self.n_layers):\n",
    "            output, hidden = self.gru(output, hidden)\n",
    "        return output, hidden\n",
    "\n",
    "    def initHidden(self):\n",
    "        result = Variable(torch.zeros(1, 1, self.hidden_size))\n",
    "        return result\n",
    "\n",
    "class AttnDecoderRNN_with_trained_embedding(nn.Module):\n",
    "    def __init__(self, hidden_size, output_size, pretrained_embed, n_layers=1, dropout_p=0.1, max_length=MAX_LENGTH):\n",
    "        super(AttnDecoderRNN_with_trained_embedding, self).__init__()\n",
    "        self.hidden_size = hidden_size\n",
    "        self.output_size = output_size\n",
    "        self.n_layers = n_layers\n",
    "        self.dropout_p = dropout_p\n",
    "        self.max_length = max_length\n",
    "\n",
    "        # Initialise l'encodage du réseau de neurones sur celui pré-entraîné passé en paramètre.\n",
    "        self.embedding = nn.Embedding(self.output_size, self.hidden_size)\n",
    "        pretrained_embed = torch.Tensor(pretrained_embed)\n",
    "        self.embedding.weight = nn.Parameter(pretrained_embed)\n",
    "        self.attn = nn.Linear(self.hidden_size * 2, self.max_length)\n",
    "        self.attn_combine = nn.Linear(self.hidden_size * 2, self.hidden_size)\n",
    "        self.dropout = nn.Dropout(self.dropout_p)\n",
    "        self.gru = nn.GRU(self.hidden_size, self.hidden_size)\n",
    "        self.out = nn.Linear(self.hidden_size, self.output_size)\n",
    "\n",
    "    def forward(self, input, hidden, encoder_outputs):\n",
    "        embedded = self.embedding(input).view(1, 1, -1)\n",
    "        embedded = self.dropout(embedded)\n",
    "\n",
    "        attn_weights = F.softmax(\n",
    "            self.attn(torch.cat((embedded[0], hidden[0]), 1)), dim=1)\n",
    "        attn_applied = torch.bmm(attn_weights.unsqueeze(0),\n",
    "                                 encoder_outputs.unsqueeze(0))\n",
    "\n",
    "        output = torch.cat((embedded[0], attn_applied[0]), 1)\n",
    "        output = self.attn_combine(output).unsqueeze(0)\n",
    "\n",
    "        for i in range(self.n_layers):\n",
    "            output = F.relu(output)\n",
    "            output, hidden = self.gru(output, hidden)\n",
    "\n",
    "        output = F.log_softmax(self.out(output[0]))\n",
    "        return output, hidden, attn_weights\n",
    "\n",
    "    def initHidden(self):\n",
    "        result = Variable(torch.zeros(1, 1, self.hidden_size))\n",
    "        return result"
   ]
  },
  {
   "cell_type": "code",
   "execution_count": 51,
   "metadata": {},
   "outputs": [],
   "source": [
    "def train(input_variable, target_variable, encoder, decoder, encoder_optimizer, decoder_optimizer, criterion, max_length=MAX_LENGTH):\n",
    "    \n",
    "    encoder_hidden = encoder.initHidden()\n",
    "\n",
    "    encoder_optimizer.zero_grad()\n",
    "    decoder_optimizer.zero_grad()\n",
    "\n",
    "    input_length = input_variable.size()[0]\n",
    "    target_length = target_variable.size()[0]\n",
    "\n",
    "    encoder_outputs = Variable(torch.zeros(max_length, encoder.hidden_size))\n",
    "\n",
    "    loss = 0\n",
    "\n",
    "    for ei in range(input_length):\n",
    "        encoder_output, encoder_hidden = encoder(\n",
    "            input_variable[ei], encoder_hidden)\n",
    "        encoder_outputs[ei] = encoder_output[0][0]\n",
    "\n",
    "    decoder_input = Variable(torch.LongTensor([[SOS_token]]))\n",
    "    \n",
    "    decoder_hidden = encoder_hidden\n",
    "\n",
    "    use_teacher_forcing = True if random.random() < teacher_forcing_ratio else False\n",
    "    \n",
    "#     print('')\n",
    "#     print(\"input_variable ==>\", input_variable)\n",
    "#     print(\"target_variable ==>\", target_variable)\n",
    "#     print(\"use_teacher_forcing ==>\", use_teacher_forcing)\n",
    "#     print(\"decoder_input ==>\", decoder_input)\n",
    "#     print(\"decoder_hidden ==>\", decoder_hidden)\n",
    "#     print(\"encoder_outputs ==>\", encoder_outputs)\n",
    "\n",
    "    if use_teacher_forcing:\n",
    "        # Teacher forcing: Feed the target as the next input\n",
    "        for di in range(target_length):\n",
    "            \n",
    "            decoder_output, decoder_hidden, decoder_attention = decoder(\n",
    "                decoder_input, decoder_hidden, encoder_outputs)\n",
    "            \n",
    "            #decoder_output, decoder_hidden = decoder(\n",
    "             #   decoder_input, decoder_hidden)\n",
    "            \n",
    "            loss += criterion(decoder_output, target_variable[di])\n",
    "            decoder_input = target_variable[di]  # Teacher forcing\n",
    "\n",
    "    else:\n",
    "        # Without teacher forcing: use its own predictions as the next input\n",
    "        for di in range(target_length):\n",
    "            \n",
    "            decoder_output, decoder_hidden, decoder_attention = decoder(\n",
    "                decoder_input, decoder_hidden, encoder_outputs)\n",
    "            \n",
    "            #decoder_output, decoder_hidden = decoder(\n",
    "             #   decoder_input, decoder_hidden)       \n",
    "            \n",
    "            topv, topi = decoder_output.data.topk(1)\n",
    "            ni = topi[0][0]\n",
    "\n",
    "            decoder_input = Variable(torch.LongTensor([[ni]]))\n",
    "\n",
    "            loss += criterion(decoder_output, target_variable[di])\n",
    "            if ni == EOS_token:\n",
    "                break\n",
    "\n",
    "    loss.backward()\n",
    "\n",
    "    encoder_optimizer.step()\n",
    "    decoder_optimizer.step()\n",
    "\n",
    "    return loss.item() / target_length"
   ]
  },
  {
   "cell_type": "code",
   "execution_count": 53,
   "metadata": {},
   "outputs": [],
   "source": [
    "def trainIters(encoder, decoder, n_iters, print_every=1000, plot_every=100, learning_rate=0.01):\n",
    "    start = time.time()\n",
    "    plot_losses = []\n",
    "    print_loss_total = 0  # Reset every print_every\n",
    "    plot_loss_total = 0  # Reset every plot_every\n",
    "\n",
    "    encoder_optimizer = optim.SGD(encoder1.parameters(), lr=learning_rate)\n",
    "    decoder_optimizer = optim.SGD(attn_decoder1.parameters(), lr=learning_rate)\n",
    "    \n",
    "    training_pairs = [variablesFromPair(random.choice(pairs))\n",
    "        for i in range(n_iters)]\n",
    "    \n",
    "    criterion = nn.NLLLoss()\n",
    "\n",
    "    for iter in range(1, n_iters + 1):\n",
    "        training_pair = training_pairs[iter - 1]\n",
    "        input_variable = training_pair[0]\n",
    "        target_variable = training_pair[1]\n",
    "\n",
    "        loss = train(input_variable, target_variable, encoder,\n",
    "                     decoder, encoder_optimizer, decoder_optimizer, criterion)\n",
    "        print_loss_total += loss\n",
    "        plot_loss_total += loss\n",
    "\n",
    "        if iter % print_every == 0:\n",
    "            print_loss_avg = print_loss_total / print_every\n",
    "            print_loss_total = 0\n",
    "            print('%s (%d %d%%) %.4f' % (timeSince(start, iter / n_iters),\n",
    "                                         iter, iter / n_iters * 100, print_loss_avg))\n",
    "\n",
    "        if iter % plot_every == 0:\n",
    "            plot_loss_avg = plot_loss_total / plot_every\n",
    "            plot_losses.append(plot_loss_avg)\n",
    "            plot_loss_total = 0\n",
    "\n",
    "    showPlot(plot_losses)"
   ]
  },
  {
   "cell_type": "code",
   "execution_count": 54,
   "metadata": {},
   "outputs": [],
   "source": [
    "def evaluate(encoder, decoder, sentence, max_length=MAX_LENGTH):\n",
    "    input_variable = variableFromSentence(our_lang, sentence)\n",
    "    input_length = input_variable.size()[0]\n",
    "    encoder_hidden = encoder.initHidden()\n",
    "\n",
    "    encoder_outputs = Variable(torch.zeros(max_length, encoder.hidden_size))\n",
    "    encoder_outputs = encoder_outputs\n",
    "\n",
    "    for ei in range(input_length):\n",
    "        encoder_output, encoder_hidden = encoder(input_variable[ei],\n",
    "                                                 encoder_hidden)\n",
    "        encoder_outputs[ei] = encoder_outputs[ei] + encoder_output[0][0]\n",
    "\n",
    "    decoder_input = Variable(torch.LongTensor([[SOS_token]]))  # SOS\n",
    "    decoder_input = decoder_input\n",
    "\n",
    "    decoder_hidden = encoder_hidden\n",
    "\n",
    "    decoded_words = []\n",
    "    decoder_attentions = torch.zeros(max_length, max_length)\n",
    "\n",
    "    for di in range(max_length):\n",
    "        \n",
    "        #decoder_output, decoder_hidden = decoder(\n",
    "         #   decoder_input, decoder_hidden)\n",
    "\n",
    "        decoder_output, decoder_hidden, decoder_attention = decoder(\n",
    "            decoder_input, decoder_hidden, encoder_outputs)\n",
    "        decoder_attentions[di] = decoder_attention.data\n",
    "\n",
    "        topv, topi = decoder_output.data.topk(1)\n",
    "        ni = topi[0][0].item()\n",
    "\n",
    "        if ni == EOS_token:\n",
    "            decoded_words.append('<EOS>')\n",
    "            break\n",
    "        else:\n",
    "            decoded_words.append(our_lang.index2word[ni])\n",
    "\n",
    "        decoder_input = Variable(torch.LongTensor([[ni]]))\n",
    "\n",
    "    return decoded_words, decoder_attentions[:di + 1]"
   ]
  },
  {
   "cell_type": "code",
   "execution_count": 55,
   "metadata": {},
   "outputs": [],
   "source": [
    "encoder1 = EncoderRNN_with_trained_embedding(n_symbols, hidden_size, embedding_weights)\n",
    "attn_decoder1 = AttnDecoderRNN_with_trained_embedding(hidden_size, n_symbols,\n",
    "    embedding_weights,1, dropout_p=0.1)"
   ]
  },
  {
   "cell_type": "code",
   "execution_count": 56,
   "metadata": {},
   "outputs": [
    {
     "name": "stdout",
     "output_type": "stream",
     "text": [
      "0m 25s (- 12m 24s) (1000 3%) 3.6593\n",
      "0m 51s (- 12m 5s) (2000 6%) 3.6034\n",
      "1m 14s (- 11m 6s) (3000 10%) 3.4933\n",
      "1m 38s (- 10m 43s) (4000 13%) 3.3533\n",
      "2m 4s (- 10m 23s) (5000 16%) 3.2583\n",
      "2m 28s (- 9m 52s) (6000 20%) 3.3276\n",
      "2m 52s (- 9m 26s) (7000 23%) 3.3163\n",
      "3m 19s (- 9m 9s) (8000 26%) 3.2134\n",
      "3m 46s (- 8m 47s) (9000 30%) 3.2610\n",
      "4m 14s (- 8m 28s) (10000 33%) 3.2206\n",
      "4m 41s (- 8m 6s) (11000 36%) 3.0969\n",
      "5m 12s (- 7m 48s) (12000 40%) 3.1867\n",
      "5m 44s (- 7m 29s) (13000 43%) 3.1135\n",
      "6m 9s (- 7m 2s) (14000 46%) 3.2025\n",
      "6m 35s (- 6m 35s) (15000 50%) 2.9324\n",
      "7m 6s (- 6m 13s) (16000 53%) 2.9166\n",
      "7m 39s (- 5m 51s) (17000 56%) 2.9544\n",
      "8m 15s (- 5m 30s) (18000 60%) 3.0296\n",
      "8m 44s (- 5m 3s) (19000 63%) 3.0558\n",
      "9m 15s (- 4m 37s) (20000 66%) 2.9595\n",
      "9m 51s (- 4m 13s) (21000 70%) 2.9070\n",
      "10m 21s (- 3m 46s) (22000 73%) 2.8596\n",
      "10m 50s (- 3m 17s) (23000 76%) 2.7725\n",
      "11m 18s (- 2m 49s) (24000 80%) 2.7328\n",
      "11m 45s (- 2m 21s) (25000 83%) 2.7118\n",
      "12m 16s (- 1m 53s) (26000 86%) 2.7129\n",
      "12m 48s (- 1m 25s) (27000 90%) 2.7002\n",
      "13m 19s (- 0m 57s) (28000 93%) 2.6195\n",
      "13m 47s (- 0m 28s) (29000 96%) 2.5763\n",
      "14m 14s (- 0m 0s) (30000 100%) 2.5567\n"
     ]
    },
    {
     "data": {
      "text/plain": [
       "<Figure size 432x288 with 0 Axes>"
      ]
     },
     "metadata": {},
     "output_type": "display_data"
    },
    {
     "data": {
      "image/png": "[encoded data removed]",
      "text/plain": [
       "<Figure size 432x288 with 1 Axes>"
      ]
     },
     "metadata": {
      "needs_background": "light"
     },
     "output_type": "display_data"
    }
   ],
   "source": [
    "trainIters(encoder1, attn_decoder1, 30000, print_every=1000, plot_every=100)"
   ]
  },
  {
   "cell_type": "markdown",
   "metadata": {},
   "source": [
    "Sauvegarde."
   ]
  },
  {
   "cell_type": "code",
   "execution_count": 57,
   "metadata": {},
   "outputs": [],
   "source": [
    "def save_chatbot(name):\n",
    "    torch.save({\n",
    "        'en': encoder1.state_dict(),\n",
    "        'de': attn_decoder1.state_dict(),\n",
    "    }, name)"
   ]
  },
  {
   "cell_type": "markdown",
   "metadata": {},
   "source": [
    "Chargement."
   ]
  },
  {
   "cell_type": "code",
   "execution_count": 58,
   "metadata": {},
   "outputs": [],
   "source": [
    "def load_chatbot(name):\n",
    "    # Réinitialisation du chat bot.\n",
    "    encoder1 = EncoderRNN_with_trained_embedding(n_symbols, hidden_size, embedding_weights)\n",
    "    attn_decoder1 = AttnDecoderRNN_with_trained_embedding(hidden_size, n_symbols,\n",
    "        embedding_weights,1, dropout_p=0.1)\n",
    "\n",
    "    checkpoint = torch.load(name)\n",
    "    encoder1.load_state_dict(checkpoint['en'])\n",
    "    attn_decoder1.load_state_dict(checkpoint['de'])"
   ]
  },
  {
   "cell_type": "code",
   "execution_count": 60,
   "metadata": {},
   "outputs": [],
   "source": [
    "save_chatbot(\"chatbot_2\")\n",
    "# load_chatbot(\"chatbot_2\")"
   ]
  },
  {
   "cell_type": "markdown",
   "metadata": {},
   "source": [
    "On vérifie que le chargement a été correctement effectué."
   ]
  },
  {
   "cell_type": "code",
   "execution_count": 61,
   "metadata": {
    "scrolled": true
   },
   "outputs": [
    {
     "name": "stdout",
     "output_type": "stream",
     "text": [
      "> quelles sont les horaires ?\n",
      "= cela depend des jours voir la page planning\n",
      "< il y a 10 places pour les etudiants etrangers <EOS>\n",
      "\n",
      "> je suis deja en france ?\n",
      "= dans ce cas etes vous de lyon1 ?\n",
      "< il est mr aussem qui a developpe le chatbot <EOS>\n",
      "\n",
      "> il y a une difference entre le parcours info et math ?\n",
      "= le contenu est le meme seules les ue de remise a niveau sont differentes\n",
      "< oui est a neurones sont un a un <EOS>\n",
      "\n",
      "> quel est le niveau en anglais ?\n",
      "= il faut obtenir le niveau b1 au toeic pour valider le master\n",
      "< il est de vous scientist a master <EOS>\n",
      "\n",
      "> combien d etages ont les batiments de cours ?\n",
      "= les batiments ont 2 etages\n",
      "< oui il y a un cours de machine learning <EOS>\n",
      "\n",
      "> est-ce qu il y a un stage obligatoire en fin d annee ?\n",
      "= oui de six mois a partir de mars\n",
      "< oui est a neurones sont un a un <EOS>\n",
      "\n",
      "> je souhaite postuler\n",
      "= les inscriptions 2018 se font sur ecandidat\n",
      "< merci j en prends note <EOS>\n",
      "\n",
      "> faut il parler anglais ?\n",
      "= le niveau b2 du toeic est requis pour valider le master\n",
      "< il y a 10 places pour les etudiants etrangers <EOS>\n",
      "\n",
      "> y a t-il eu des redoublants les annees passees ?\n",
      "= non un seul\n",
      "< oui il est modeles graphiques probabilistes <EOS>\n",
      "\n",
      "> il y a qu un seul projet ?\n",
      "= non plusieurs projets sont a rendre\n",
      "< oui il y a des tps de python <EOS>\n",
      "\n"
     ]
    }
   ],
   "source": [
    "evaluateRandomly(encoder1, attn_decoder1)"
   ]
  },
  {
   "cell_type": "markdown",
   "metadata": {},
   "source": [
    "### On charge un encodage w2v pré-entraîné."
   ]
  },
  {
   "cell_type": "markdown",
   "metadata": {},
   "source": [
    "- On utilise un encodage w2v pré-entraîné sur un corpus de 1,6 billion de mots hébergé sur le site *http://wacky.sslmit.unibo.it*.\n",
    "- L'entraînement est de type CBOW pour Common Bag Of Words, c'est-à-dire que l'on considère les mots par ensemble.\n",
    "- La dimension de l'espace vectoriel associé est 500, c'est-à-dire que les mots sont associés à des vecteurs de taille 500.\n",
    "- Le cutoff est de 100, c'est-à-dire que l'on néglige les mots n'apparaissant pas au moins 100 fois dans le corpus.\n",
    "\n"
   ]
  },
  {
   "cell_type": "code",
   "execution_count": 62,
   "metadata": {},
   "outputs": [],
   "source": [
    "from gensim.models import KeyedVectors\n",
    "filename = \"w2v/frWac_non_lem_no_postag_no_phrase_200_cbow_cut100.bin\"\n",
    "model = KeyedVectors.load_word2vec_format(filename, binary=True)"
   ]
  },
  {
   "cell_type": "markdown",
   "metadata": {},
   "source": [
    "On examine le pourcentage de mots communs entre our_lang et le word2vec importé."
   ]
  },
  {
   "cell_type": "code",
   "execution_count": 63,
   "metadata": {},
   "outputs": [
    {
     "name": "stdout",
     "output_type": "stream",
     "text": [
      "Percentage of common words w.r.t. input_lang : 90.68%\n",
      "Percentage of common words w.r.t. word2vec vocab : 0.58%\n"
     ]
    }
   ],
   "source": [
    "words = list(model.vocab)\n",
    "# print(set(our_lang.word2index).intersection(words))\n",
    "l1 = len(list(set(our_lang.word2index).intersection(words)))\n",
    "print('Percentage of common words w.r.t. input_lang : %0.2f%%' % (100 * l1/our_lang.n_words))\n",
    "print('Percentage of common words w.r.t. word2vec vocab : %0.2f%%' % (100 * l1/len(words)))"
   ]
  },
  {
   "cell_type": "code",
   "execution_count": 64,
   "metadata": {},
   "outputs": [],
   "source": [
    "def indexesFromSentence(lang, sentence, verbose=False):\n",
    "    indexes=[]\n",
    "    # On examine tous les mots.\n",
    "    for word in sentence.split():\n",
    "        # S'il est dans le vocabulaire, c'est bon.\n",
    "        if word in set(lang.word2index):\n",
    "            if verbose: print(\"Mot trouvé dans le vocabulaire :\",word)\n",
    "            indexes.append(lang.word2index[word])\n",
    "        # S'il n'est pas dans le vocabulaire, alors on cherche s'il existe sur Wikipédia.\n",
    "        elif word in model.vocab:\n",
    "            need_replacement = True\n",
    "            i = 1\n",
    "            # On cherche un mot similaire parmi les dix premiers\n",
    "                # et présent dans le vocabulaire pour le remplacer.\n",
    "            while need_replacement:\n",
    "                new_word = model.most_similar(positive=[word], topn=i)[0][0]\n",
    "                if new_word in set(lang.word2index):\n",
    "                    indexes.append(lang.word2index[new_word])\n",
    "                    need_replacement = False\n",
    "                    if verbose:\n",
    "                        print(\"Mot inconnu dans le vocabulaire :\",word)\n",
    "                        print(\"--> Remplacé par le mot Wikipédia :\", new_word)\n",
    "                i = i + 1\n",
    "                if i >= 10:\n",
    "                    break\n",
    "            # Si on ne trouve rien de satisfaisant, on ne le remplace pas.\n",
    "            if verbose:\n",
    "                if need_replacement:\n",
    "                    print(\"Mot inconnu dans le vocabulaire :\",word)\n",
    "                    print(\"--> Trouvé dans Wikipédia mais non remplacé\")\n",
    "        # Enfin, le mot peut-être inconnu du vocabulaire et de Wikipédia.\n",
    "        else:\n",
    "            if verbose:\n",
    "                print(\"Mot inconnu dans le vocabulaire :\",word)\n",
    "                print(\"--> Inconnu sur Wikipédia\",word)\n",
    "    # Si la phrase est trop grande, alors on pioche au hasard <MAX_LENGTH> mots.\n",
    "    while len(indexes) >= MAX_LENGTH:\n",
    "        indexes.pop(random.randint(1,len(indexes)-2))\n",
    "    return indexes\n",
    "\n",
    "def sentenceFromIndexes(lang, indexes):\n",
    "    sentence = []\n",
    "    for i in indexes:\n",
    "        sentence.append(lang.index2word[i])\n",
    "    sentence = ' '.join(sentence)\n",
    "    return sentence"
   ]
  },
  {
   "cell_type": "markdown",
   "metadata": {},
   "source": [
    "On vérifie sur une phrase."
   ]
  },
  {
   "cell_type": "code",
   "execution_count": 65,
   "metadata": {
    "scrolled": true
   },
   "outputs": [
    {
     "name": "stdout",
     "output_type": "stream",
     "text": [
      "Mot trouvé dans le vocabulaire : faire\n",
      "Mot trouvé dans le vocabulaire : du\n",
      "Mot inconnu dans le vocabulaire : the\n",
      "--> Trouvé dans Wikipédia mais non remplacé\n",
      "Mot inconnu dans le vocabulaire : wulong\n",
      "--> Inconnu sur Wikipédia wulong\n",
      "Mot trouvé dans le vocabulaire : est\n",
      "Mot inconnu dans le vocabulaire : simple\n",
      "--> Remplacé par le mot Wikipédia : facile\n",
      "\n",
      "Phrase originale\n",
      "--> faire du the wulong est simple\n",
      "Mots inclus dans our_lang\n",
      "--> faire du est facile\n"
     ]
    }
   ],
   "source": [
    "new_sentence = \"Faire du thé Wulong est simple.\"\n",
    "trimmed_sentence = TrimWordsSentence(normalizeString(new_sentence))\n",
    "indexes = indexesFromSentence(our_lang, trimmed_sentence, verbose=True)\n",
    "print(\"\")\n",
    "print('Phrase originale')\n",
    "print('-->', trimmed_sentence)\n",
    "print('Mots inclus dans our_lang')\n",
    "print('-->', sentenceFromIndexes(our_lang, indexes))"
   ]
  },
  {
   "cell_type": "markdown",
   "metadata": {},
   "source": [
    "Trois mots sont inconnus dans le vocabulaire : **Thé**, **Wulong** et **Simple**.\n",
    "\n",
    "- **Wulong** est aussi inconnu dans Wikipédia (écarté par cutoff), donc on l'ignore.\n",
    "- **Thé** est connu dans Wikipédia mais on ne trouve pas de mots similaires dans le vocabulaire. (Cohérent car celui-ci est issu d'un questionnaire sur le Master et non sur des discussions d'un salon de thé.)\n",
    "- **Simple** est connu dans Wikipédia et remplacé par le mot similaire **facile** trouvé dans le vocabulaire."
   ]
  },
  {
   "cell_type": "code",
   "execution_count": 69,
   "metadata": {},
   "outputs": [],
   "source": [
    "encoder1 = EncoderRNN_with_trained_embedding(n_symbols, hidden_size, embedding_weights)\n",
    "attn_decoder1 = AttnDecoderRNN_with_trained_embedding(hidden_size, n_symbols,\n",
    "    embedding_weights,1, dropout_p=0.1)"
   ]
  },
  {
   "cell_type": "code",
   "execution_count": 70,
   "metadata": {},
   "outputs": [
    {
     "name": "stdout",
     "output_type": "stream",
     "text": [
      "0m 33s (- 16m 12s) (1000 3%) 3.5076\n",
      "0m 58s (- 13m 39s) (2000 6%) 3.6275\n",
      "1m 19s (- 11m 52s) (3000 10%) 3.4237\n",
      "1m 39s (- 10m 49s) (4000 13%) 3.3963\n",
      "2m 1s (- 10m 7s) (5000 16%) 3.3587\n",
      "2m 22s (- 9m 30s) (6000 20%) 3.3546\n",
      "2m 43s (- 8m 57s) (7000 23%) 3.1416\n",
      "3m 4s (- 8m 27s) (8000 26%) 3.2376\n",
      "3m 25s (- 8m 0s) (9000 30%) 3.1857\n",
      "3m 46s (- 7m 33s) (10000 33%) 3.0377\n",
      "4m 8s (- 7m 8s) (11000 36%) 3.1444\n",
      "4m 29s (- 6m 43s) (12000 40%) 2.9983\n",
      "4m 51s (- 6m 21s) (13000 43%) 3.1681\n",
      "5m 13s (- 5m 58s) (14000 46%) 3.0130\n",
      "5m 35s (- 5m 35s) (15000 50%) 3.0329\n",
      "5m 58s (- 5m 13s) (16000 53%) 3.1063\n",
      "6m 20s (- 4m 50s) (17000 56%) 2.9543\n",
      "6m 42s (- 4m 28s) (18000 60%) 2.9557\n",
      "7m 4s (- 4m 6s) (19000 63%) 3.0075\n",
      "7m 28s (- 3m 44s) (20000 66%) 3.0023\n",
      "7m 50s (- 3m 21s) (21000 70%) 2.8739\n",
      "8m 13s (- 2m 59s) (22000 73%) 2.7238\n",
      "8m 35s (- 2m 36s) (23000 76%) 2.6794\n",
      "8m 57s (- 2m 14s) (24000 80%) 2.6480\n",
      "9m 20s (- 1m 52s) (25000 83%) 2.5757\n",
      "9m 42s (- 1m 29s) (26000 86%) 2.5658\n",
      "10m 4s (- 1m 7s) (27000 90%) 2.4410\n",
      "10m 28s (- 0m 44s) (28000 93%) 2.4460\n",
      "10m 51s (- 0m 22s) (29000 96%) 2.3836\n",
      "11m 14s (- 0m 0s) (30000 100%) 2.3801\n"
     ]
    },
    {
     "data": {
      "text/plain": [
       "<Figure size 432x288 with 0 Axes>"
      ]
     },
     "metadata": {},
     "output_type": "display_data"
    },
    {
     "data": {
      "image/png": "[encoded data removed]",
      "text/plain": [
       "<Figure size 432x288 with 1 Axes>"
      ]
     },
     "metadata": {
      "needs_background": "light"
     },
     "output_type": "display_data"
    }
   ],
   "source": [
    "trainIters(encoder1, attn_decoder1, 30000, print_every=1000, plot_every=100)"
   ]
  },
  {
   "cell_type": "code",
   "execution_count": 71,
   "metadata": {},
   "outputs": [
    {
     "name": "stdout",
     "output_type": "stream",
     "text": [
      "> quelles sont les horaires ?\n",
      "= cela depend des jours voir la page planning\n",
      "< le stage est plutot bon <EOS>\n",
      "\n",
      "> et les credits par matiere ?\n",
      "= developpement informatique vaut 6 credits et le stage vaut 21 credits\n",
      "< non mais c est un <EOS>\n",
      "\n",
      "> je ne vois pas de module de deep learning dans le programme du master\n",
      "= les reseaux de neurones sont abordes en machine learning notamment\n",
      "< il faut en presentation plusieurs projets en ue de l inscription <EOS>\n",
      "\n",
      "> qui est le referent pour les ds maths ?\n",
      "= gabriela ciuperca\n",
      "< il faut mr un master <EOS>\n",
      "\n",
      "> y-aura t-il une ceremonie de remise des diplome ?\n",
      "= oui bien-sur\n",
      "< oui il y a 2 cours de machine learning <EOS>\n",
      "\n",
      "> sommes-nous facilement recruter a la sortie du master ?\n",
      "= oui\n",
      "< oui <EOS>\n",
      "\n",
      "> est-ce que les projets concernent plusieurs ue ?\n",
      "= non les projets concernent chacun une seule ue\n",
      "< non mais c est un confort vraiment tres pratique <EOS>\n",
      "\n",
      "> le master dure 2 ans ?\n",
      "= non c est un m2 d un an\n",
      "< non mais c est un <EOS>\n",
      "\n",
      "> quelle date de rentree ?\n",
      "= la rentree est le 5 septembre\n",
      "< le stage est plutot bon <EOS>\n",
      "\n",
      "> comment sont les enseignants ?\n",
      "= a vous de vous faire votre avis\n",
      "< le stage est plutot bon <EOS>\n",
      "\n"
     ]
    }
   ],
   "source": [
    "evaluateRandomly(encoder1, attn_decoder1)"
   ]
  }
 ],
 "metadata": {
  "kernelspec": {
   "display_name": "Python 3",
   "language": "python",
   "name": "python3"
  },
  "language_info": {
   "codemirror_mode": {
    "name": "ipython",
    "version": 3
   },
   "file_extension": ".py",
   "mimetype": "text/x-python",
   "name": "python",
   "nbconvert_exporter": "python",
   "pygments_lexer": "ipython3",
   "version": "3.6.8"
  }
 },
 "nbformat": 4,
 "nbformat_minor": 1
}
