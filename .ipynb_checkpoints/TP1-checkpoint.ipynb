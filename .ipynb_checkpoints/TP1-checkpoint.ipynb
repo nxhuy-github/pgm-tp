{
 "cells": [
  {
   "cell_type": "markdown",
   "metadata": {},
   "source": [
    "# NGUYEN Xuan Huy - p1419771"
   ]
  },
  {
   "cell_type": "markdown",
   "metadata": {},
   "source": [
    "## TP1"
   ]
  },
  {
   "cell_type": "code",
   "execution_count": 1,
   "metadata": {},
   "outputs": [],
   "source": [
    "%matplotlib inline\n",
    "from pylab import *\n",
    "import matplotlib.pyplot as plt\n",
    "import os\n",
    "import pyAgrum as gum\n",
    "import pyAgrum.lib.notebook as gnb"
   ]
  },
  {
   "cell_type": "markdown",
   "metadata": {},
   "source": [
    "### Exercice HMM du partiel:\n",
    "$$\n",
    "P(S_1|S_1) = 0.8, \\;\n",
    "P(S_2|S_1) = 0.2,\\;\n",
    "P(S_2|S_2) = 0.6,\\;\n",
    "P(S_1|S_2) = 0.4\n",
    "$$\n",
    "\n",
    "transition probabilities for HMM:\n",
    "\n",
    "$$\n",
    "P(S_1|S_1) = 0.8, \\;\n",
    "P(S_2|S_1) = 0.2,\\;\n",
    "P(S_2|S_2) = 0.6,\\;\n",
    "P(S_1|S_2) = 0.4\n",
    "$$\n",
    "\n",
    "Emission probabilities:\n",
    "\n",
    "\n",
    "$$\n",
    "P(A|S_1) = 0.4, \\;\n",
    "P(C|S_1) = 0.1,\\;\n",
    "P(G|S_1) = 0.4,\\;\n",
    "P(T|S_1) = 0.1\n",
    "$$\n",
    "$$\n",
    "P(A|S_2) = 0.2, \\;\n",
    "P(C|S_2) = 0.3,\\;\n",
    "P(G|S_2) = 0.2,\\;\n",
    "P(T|S_2) = 0.3\n",
    "$$\n",
    "\n",
    "an start probabilities as following:\n",
    "\n",
    "\n",
    "$$\n",
    "P(S_1) = 0.6, \\;\n",
    "P(S_2) = 0.4\n",
    "$$\n",
    "\n",
    "Assume the observed sequence is $x=GTAC$, calculate:\n",
    "\n",
    "- $P(x)$ and compare with the forward algorithm.\n",
    "\n",
    "- The posterior probability  $P(\\pi_3=S_1|x)$ where $\\pi_3$ is the state when the third symbol is emitted. \n",
    "\n",
    "- The most likely path of hidden states using by inference and compare with the path obtained with Viterbi algorithm."
   ]
  },
  {
   "cell_type": "markdown",
   "metadata": {},
   "source": [
    "### Construire HMM"
   ]
  },
  {
   "cell_type": "code",
   "execution_count": 2,
   "metadata": {},
   "outputs": [
    {
     "name": "stdout",
     "output_type": "stream",
     "text": [
      "BN{nodes: 0, arcs: 0, domainSize: 1, parameters: 0, compression ratio: 100-10^-inf% }\n"
     ]
    }
   ],
   "source": [
    "hmm=gum.BayesNet('WaterSprinkler')\n",
    "print(hmm)"
   ]
  },
  {
   "cell_type": "code",
   "execution_count": 3,
   "metadata": {},
   "outputs": [
    {
     "name": "stdout",
     "output_type": "stream",
     "text": [
      "0 1 2 3\n"
     ]
    }
   ],
   "source": [
    "# 0 = S1; 1 = S2\n",
    "x1=hmm.add(gum.LabelizedVariable('x1','s1 ?',2))\n",
    "x2=hmm.add(gum.LabelizedVariable('x2','s1 ?',2))\n",
    "x3=hmm.add(gum.LabelizedVariable('x3','s1 ?',2))\n",
    "x4=hmm.add(gum.LabelizedVariable('x4','s1 ?',2))\n",
    "print(x1, x2, x3, x4)"
   ]
  },
  {
   "cell_type": "code",
   "execution_count": 4,
   "metadata": {},
   "outputs": [
    {
     "name": "stdout",
     "output_type": "stream",
     "text": [
      "4 5 6 7\n"
     ]
    }
   ],
   "source": [
    "# 0 = A; 1 = C; 2 = G; 3 = T\n",
    "y1=hmm.add(gum.LabelizedVariable('y1','G ?',4))\n",
    "y2=hmm.add(gum.LabelizedVariable('y2','T ?',4))\n",
    "y3=hmm.add(gum.LabelizedVariable('y3','A ?',4))\n",
    "y4=hmm.add(gum.LabelizedVariable('y4','C ?',4))\n",
    "print(y1, y2, y3, y4)"
   ]
  },
  {
   "cell_type": "code",
   "execution_count": 5,
   "metadata": {},
   "outputs": [
    {
     "data": {
      "text/html": [
       "<svg height=\"288pt\" viewBox=\"0.00 0.00 178.70 288.00\" width=\"179pt\" xmlns=\"http://www.w3.org/2000/svg\" xmlns:xlink=\"http://www.w3.org/1999/xlink\">\n",
       "<g class=\"graph\" id=\"graph0\" transform=\"scale(0.86747 0.86747) rotate(0) translate(4 328)\">\n",
       "<title>G</title>\n",
       "<!-- x1 -->\n",
       "<g class=\"node\" id=\"node1\"><title>x1</title>\n",
       "<g id=\"a_node1\"><a xlink:title=\"(0) x1\">\n",
       "<ellipse cx=\"135\" cy=\"-306\" fill=\"#444444\" rx=\"27\" ry=\"18\" stroke=\"black\"/>\n",
       "<text fill=\"#ffffff\" font-family=\"Times New Roman,serif\" font-size=\"14.00\" text-anchor=\"middle\" x=\"135\" y=\"-302.3\">x1</text>\n",
       "</a>\n",
       "</g>\n",
       "</g>\n",
       "<!-- x2 -->\n",
       "<g class=\"node\" id=\"node2\"><title>x2</title>\n",
       "<g id=\"a_node2\"><a xlink:title=\"(1) x2\">\n",
       "<ellipse cx=\"99\" cy=\"-234\" fill=\"#444444\" rx=\"27\" ry=\"18\" stroke=\"black\"/>\n",
       "<text fill=\"#ffffff\" font-family=\"Times New Roman,serif\" font-size=\"14.00\" text-anchor=\"middle\" x=\"99\" y=\"-230.3\">x2</text>\n",
       "</a>\n",
       "</g>\n",
       "</g>\n",
       "<!-- x1&#45;&gt;x2 -->\n",
       "<g class=\"edge\" id=\"edge1\"><title>x1-&gt;x2</title>\n",
       "<g id=\"a_edge1\"><a xlink:title=\"(0, 1) : \">\n",
       "<path d=\"M126.65,-288.765C122.288,-280.283 116.853,-269.714 111.959,-260.197\" fill=\"none\" stroke=\"#000000\"/>\n",
       "<polygon fill=\"#000000\" points=\"114.99,-258.439 107.304,-251.147 108.765,-261.641 114.99,-258.439\" stroke=\"#000000\"/>\n",
       "</a>\n",
       "</g>\n",
       "</g>\n",
       "<!-- y1 -->\n",
       "<g class=\"node\" id=\"node5\"><title>y1</title>\n",
       "<g id=\"a_node5\"><a xlink:title=\"(4) y1\">\n",
       "<ellipse cx=\"171\" cy=\"-234\" fill=\"#444444\" rx=\"27\" ry=\"18\" stroke=\"black\"/>\n",
       "<text fill=\"#ffffff\" font-family=\"Times New Roman,serif\" font-size=\"14.00\" text-anchor=\"middle\" x=\"171\" y=\"-230.3\">y1</text>\n",
       "</a>\n",
       "</g>\n",
       "</g>\n",
       "<!-- x1&#45;&gt;y1 -->\n",
       "<g class=\"edge\" id=\"edge6\"><title>x1-&gt;y1</title>\n",
       "<g id=\"a_edge6\"><a xlink:title=\"(0, 4) : \">\n",
       "<path d=\"M143.35,-288.765C147.712,-280.283 153.147,-269.714 158.041,-260.197\" fill=\"none\" stroke=\"#000000\"/>\n",
       "<polygon fill=\"#000000\" points=\"161.235,-261.641 162.696,-251.147 155.01,-258.439 161.235,-261.641\" stroke=\"#000000\"/>\n",
       "</a>\n",
       "</g>\n",
       "</g>\n",
       "<!-- x3 -->\n",
       "<g class=\"node\" id=\"node3\"><title>x3</title>\n",
       "<g id=\"a_node3\"><a xlink:title=\"(2) x3\">\n",
       "<ellipse cx=\"63\" cy=\"-162\" fill=\"#444444\" rx=\"27\" ry=\"18\" stroke=\"black\"/>\n",
       "<text fill=\"#ffffff\" font-family=\"Times New Roman,serif\" font-size=\"14.00\" text-anchor=\"middle\" x=\"63\" y=\"-158.3\">x3</text>\n",
       "</a>\n",
       "</g>\n",
       "</g>\n",
       "<!-- x2&#45;&gt;x3 -->\n",
       "<g class=\"edge\" id=\"edge2\"><title>x2-&gt;x3</title>\n",
       "<g id=\"a_edge2\"><a xlink:title=\"(1, 2) : \">\n",
       "<path d=\"M90.6504,-216.765C86.2885,-208.283 80.8531,-197.714 75.9587,-188.197\" fill=\"none\" stroke=\"#000000\"/>\n",
       "<polygon fill=\"#000000\" points=\"78.9904,-186.439 71.3043,-179.147 72.7654,-189.641 78.9904,-186.439\" stroke=\"#000000\"/>\n",
       "</a>\n",
       "</g>\n",
       "</g>\n",
       "<!-- y2 -->\n",
       "<g class=\"node\" id=\"node6\"><title>y2</title>\n",
       "<g id=\"a_node6\"><a xlink:title=\"(5) y2\">\n",
       "<ellipse cx=\"135\" cy=\"-162\" fill=\"#444444\" rx=\"27\" ry=\"18\" stroke=\"black\"/>\n",
       "<text fill=\"#ffffff\" font-family=\"Times New Roman,serif\" font-size=\"14.00\" text-anchor=\"middle\" x=\"135\" y=\"-158.3\">y2</text>\n",
       "</a>\n",
       "</g>\n",
       "</g>\n",
       "<!-- x2&#45;&gt;y2 -->\n",
       "<g class=\"edge\" id=\"edge4\"><title>x2-&gt;y2</title>\n",
       "<g id=\"a_edge4\"><a xlink:title=\"(1, 5) : \">\n",
       "<path d=\"M107.35,-216.765C111.712,-208.283 117.147,-197.714 122.041,-188.197\" fill=\"none\" stroke=\"#000000\"/>\n",
       "<polygon fill=\"#000000\" points=\"125.235,-189.641 126.696,-179.147 119.01,-186.439 125.235,-189.641\" stroke=\"#000000\"/>\n",
       "</a>\n",
       "</g>\n",
       "</g>\n",
       "<!-- x4 -->\n",
       "<g class=\"node\" id=\"node4\"><title>x4</title>\n",
       "<g id=\"a_node4\"><a xlink:title=\"(3) x4\">\n",
       "<ellipse cx=\"27\" cy=\"-90\" fill=\"#444444\" rx=\"27\" ry=\"18\" stroke=\"black\"/>\n",
       "<text fill=\"#ffffff\" font-family=\"Times New Roman,serif\" font-size=\"14.00\" text-anchor=\"middle\" x=\"27\" y=\"-86.3\">x4</text>\n",
       "</a>\n",
       "</g>\n",
       "</g>\n",
       "<!-- x3&#45;&gt;x4 -->\n",
       "<g class=\"edge\" id=\"edge5\"><title>x3-&gt;x4</title>\n",
       "<g id=\"a_edge5\"><a xlink:title=\"(2, 3) : \">\n",
       "<path d=\"M54.6504,-144.765C50.2885,-136.283 44.8531,-125.714 39.9587,-116.197\" fill=\"none\" stroke=\"#000000\"/>\n",
       "<polygon fill=\"#000000\" points=\"42.9904,-114.439 35.3043,-107.147 36.7654,-117.641 42.9904,-114.439\" stroke=\"#000000\"/>\n",
       "</a>\n",
       "</g>\n",
       "</g>\n",
       "<!-- y3 -->\n",
       "<g class=\"node\" id=\"node7\"><title>y3</title>\n",
       "<g id=\"a_node7\"><a xlink:title=\"(6) y3\">\n",
       "<ellipse cx=\"99\" cy=\"-90\" fill=\"#444444\" rx=\"27\" ry=\"18\" stroke=\"black\"/>\n",
       "<text fill=\"#ffffff\" font-family=\"Times New Roman,serif\" font-size=\"14.00\" text-anchor=\"middle\" x=\"99\" y=\"-86.3\">y3</text>\n",
       "</a>\n",
       "</g>\n",
       "</g>\n",
       "<!-- x3&#45;&gt;y3 -->\n",
       "<g class=\"edge\" id=\"edge3\"><title>x3-&gt;y3</title>\n",
       "<g id=\"a_edge3\"><a xlink:title=\"(2, 6) : \">\n",
       "<path d=\"M71.3496,-144.765C75.7115,-136.283 81.1469,-125.714 86.0413,-116.197\" fill=\"none\" stroke=\"#000000\"/>\n",
       "<polygon fill=\"#000000\" points=\"89.2346,-117.641 90.6957,-107.147 83.0096,-114.439 89.2346,-117.641\" stroke=\"#000000\"/>\n",
       "</a>\n",
       "</g>\n",
       "</g>\n",
       "<!-- y4 -->\n",
       "<g class=\"node\" id=\"node8\"><title>y4</title>\n",
       "<g id=\"a_node8\"><a xlink:title=\"(7) y4\">\n",
       "<ellipse cx=\"27\" cy=\"-18\" fill=\"#444444\" rx=\"27\" ry=\"18\" stroke=\"black\"/>\n",
       "<text fill=\"#ffffff\" font-family=\"Times New Roman,serif\" font-size=\"14.00\" text-anchor=\"middle\" x=\"27\" y=\"-14.3\">y4</text>\n",
       "</a>\n",
       "</g>\n",
       "</g>\n",
       "<!-- x4&#45;&gt;y4 -->\n",
       "<g class=\"edge\" id=\"edge7\"><title>x4-&gt;y4</title>\n",
       "<g id=\"a_edge7\"><a xlink:title=\"(3, 7) : \">\n",
       "<path d=\"M27,-71.6966C27,-63.9827 27,-54.7125 27,-46.1124\" fill=\"none\" stroke=\"#000000\"/>\n",
       "<polygon fill=\"#000000\" points=\"30.5001,-46.1043 27,-36.1043 23.5001,-46.1044 30.5001,-46.1043\" stroke=\"#000000\"/>\n",
       "</a>\n",
       "</g>\n",
       "</g>\n",
       "</g>\n",
       "</svg>"
      ],
      "text/plain": [
       "(gum::BayesNet<double>@000001B8429BA1E0) BN{nodes: 8, arcs: 7, domainSize: 4096, parameters: 46, compression ratio: 98% }"
      ]
     },
     "execution_count": 5,
     "metadata": {},
     "output_type": "execute_result"
    }
   ],
   "source": [
    "for link in [(x1,x2),(x1,y1),(x2,x3),(x2,y2),(x3,x4),(x3,y3),(x4,y4)]:\n",
    "    hmm.addArc(*link)\n",
    "hmm"
   ]
  },
  {
   "cell_type": "markdown",
   "metadata": {},
   "source": [
    "### Ajouter les probabilites pour chaque noeud"
   ]
  },
  {
   "cell_type": "code",
   "execution_count": 6,
   "metadata": {},
   "outputs": [
    {
     "data": {
      "text/html": [
       "<table>\n",
       "<tr style='background-color:#AAAAAA'><th colspan='2'><center>x1</center></th></tr>\n",
       "<tr><th style='background-color:#BBBBBB'><center>0</center></th><th style='background-color:#BBBBBB'><center>1</center></th></tr>\n",
       "<tr><td style='background-color:#b2cb64;text-align:right;'>0.6000</td><td style='background-color:#cbb264;text-align:right;'>0.4000</td></tr>\n",
       "</table>"
      ],
      "text/plain": [
       "(gum::Potential<double>@000001B841498A60) <x1:0> :: 0.6 /<x1:1> :: 0.4"
      ]
     },
     "execution_count": 6,
     "metadata": {},
     "output_type": "execute_result"
    }
   ],
   "source": [
    "ps1ps2 = [0.6, 0.4]\n",
    "hmm.cpt(x1).fillWith(ps1ps2)\n",
    "hmm.cpt(x1)"
   ]
  },
  {
   "cell_type": "code",
   "execution_count": 7,
   "metadata": {},
   "outputs": [
    {
     "data": {
      "text/html": [
       "<table style=\"border-style: hidden; border-collapse: collapse;\" width=\"100%\"><tr><td style=\"border-top:hidden;border-bottom:hidden;\"><div align=\"center\" style=\"\"><table>\n",
       "<tr><th colspan='1'></th><th colspan='2' style='background-color:#AAAAAA'><center>x2</center></th></tr>\n",
       "<tr><th style='background-color:#AAAAAA'><center>x1</center></th><th style='background-color:#BBBBBB'><center>0</center></th><th style='background-color:#BBBBBB'><center>1</center></th></tr>\n",
       "<tr><th style='background-color:#BBBBBB'><center>0</center></th><td style='background-color:#98e564;text-align:right;'>0.8000</td><td style='background-color:#e59864;text-align:right;'>0.2000</td></tr>\n",
       "<tr><th style='background-color:#BBBBBB'><center>1</center></th><td style='background-color:#cbb264;text-align:right;'>0.4000</td><td style='background-color:#b2cb64;text-align:right;'>0.6000</td></tr>\n",
       "</table></div></td><td style=\"border-top:hidden;border-bottom:hidden;\"><div align=\"center\" style=\"\"><table>\n",
       "<tr><th colspan='1'></th><th colspan='2' style='background-color:#AAAAAA'><center>x3</center></th></tr>\n",
       "<tr><th style='background-color:#AAAAAA'><center>x2</center></th><th style='background-color:#BBBBBB'><center>0</center></th><th style='background-color:#BBBBBB'><center>1</center></th></tr>\n",
       "<tr><th style='background-color:#BBBBBB'><center>0</center></th><td style='background-color:#98e564;text-align:right;'>0.8000</td><td style='background-color:#e59864;text-align:right;'>0.2000</td></tr>\n",
       "<tr><th style='background-color:#BBBBBB'><center>1</center></th><td style='background-color:#cbb264;text-align:right;'>0.4000</td><td style='background-color:#b2cb64;text-align:right;'>0.6000</td></tr>\n",
       "</table></div></td><td style=\"border-top:hidden;border-bottom:hidden;\"><div align=\"center\" style=\"\"><table>\n",
       "<tr><th colspan='1'></th><th colspan='2' style='background-color:#AAAAAA'><center>x4</center></th></tr>\n",
       "<tr><th style='background-color:#AAAAAA'><center>x3</center></th><th style='background-color:#BBBBBB'><center>0</center></th><th style='background-color:#BBBBBB'><center>1</center></th></tr>\n",
       "<tr><th style='background-color:#BBBBBB'><center>0</center></th><td style='background-color:#98e564;text-align:right;'>0.8000</td><td style='background-color:#e59864;text-align:right;'>0.2000</td></tr>\n",
       "<tr><th style='background-color:#BBBBBB'><center>1</center></th><td style='background-color:#cbb264;text-align:right;'>0.4000</td><td style='background-color:#b2cb64;text-align:right;'>0.6000</td></tr>\n",
       "</table></div></td></tr></table>"
      ],
      "text/plain": [
       "<IPython.core.display.HTML object>"
      ]
     },
     "metadata": {},
     "output_type": "display_data"
    }
   ],
   "source": [
    "hmm.cpt(x2)[:] = [[0.8, 0.2], [0.4, 0.6]]\n",
    "hmm.cpt(x3)[:] = [[0.8, 0.2], [0.4, 0.6]]\n",
    "hmm.cpt(x4)[:] = [[0.8, 0.2], [0.4, 0.6]]\n",
    "gnb.sideBySide(hmm.cpt(x2),hmm.cpt(x3),hmm.cpt(x4))"
   ]
  },
  {
   "cell_type": "code",
   "execution_count": 8,
   "metadata": {},
   "outputs": [
    {
     "data": {
      "text/html": [
       "<table style=\"border-style: hidden; border-collapse: collapse;\" width=\"100%\"><tr><td style=\"border-top:hidden;border-bottom:hidden;\"><div align=\"center\" style=\"\"><table>\n",
       "<tr><th colspan='1'></th><th colspan='4' style='background-color:#AAAAAA'><center>y1</center></th></tr>\n",
       "<tr><th style='background-color:#AAAAAA'><center>x1</center></th><th style='background-color:#BBBBBB'><center>0</center></th><th style='background-color:#BBBBBB'><center>1</center></th><th style='background-color:#BBBBBB'><center>2</center></th><th style='background-color:#BBBBBB'><center>3</center></th></tr>\n",
       "<tr><th style='background-color:#BBBBBB'><center>0</center></th><td style='background-color:#cbb264;text-align:right;'>0.4000</td><td style='background-color:#f28b64;text-align:right;'>0.1000</td><td style='background-color:#cbb264;text-align:right;'>0.4000</td><td style='background-color:#f28b64;text-align:right;'>0.1000</td></tr>\n",
       "<tr><th style='background-color:#BBBBBB'><center>1</center></th><td style='background-color:#e59864;text-align:right;'>0.2000</td><td style='background-color:#d8a564;text-align:right;'>0.3000</td><td style='background-color:#e59864;text-align:right;'>0.2000</td><td style='background-color:#d8a564;text-align:right;'>0.3000</td></tr>\n",
       "</table></div></td><td style=\"border-top:hidden;border-bottom:hidden;\"><div align=\"center\" style=\"\"><table>\n",
       "<tr><th colspan='1'></th><th colspan='4' style='background-color:#AAAAAA'><center>y2</center></th></tr>\n",
       "<tr><th style='background-color:#AAAAAA'><center>x2</center></th><th style='background-color:#BBBBBB'><center>0</center></th><th style='background-color:#BBBBBB'><center>1</center></th><th style='background-color:#BBBBBB'><center>2</center></th><th style='background-color:#BBBBBB'><center>3</center></th></tr>\n",
       "<tr><th style='background-color:#BBBBBB'><center>0</center></th><td style='background-color:#cbb264;text-align:right;'>0.4000</td><td style='background-color:#f28b64;text-align:right;'>0.1000</td><td style='background-color:#cbb264;text-align:right;'>0.4000</td><td style='background-color:#f28b64;text-align:right;'>0.1000</td></tr>\n",
       "<tr><th style='background-color:#BBBBBB'><center>1</center></th><td style='background-color:#e59864;text-align:right;'>0.2000</td><td style='background-color:#d8a564;text-align:right;'>0.3000</td><td style='background-color:#e59864;text-align:right;'>0.2000</td><td style='background-color:#d8a564;text-align:right;'>0.3000</td></tr>\n",
       "</table></div></td><td style=\"border-top:hidden;border-bottom:hidden;\"><div align=\"center\" style=\"\"><table>\n",
       "<tr><th colspan='1'></th><th colspan='4' style='background-color:#AAAAAA'><center>y3</center></th></tr>\n",
       "<tr><th style='background-color:#AAAAAA'><center>x3</center></th><th style='background-color:#BBBBBB'><center>0</center></th><th style='background-color:#BBBBBB'><center>1</center></th><th style='background-color:#BBBBBB'><center>2</center></th><th style='background-color:#BBBBBB'><center>3</center></th></tr>\n",
       "<tr><th style='background-color:#BBBBBB'><center>0</center></th><td style='background-color:#cbb264;text-align:right;'>0.4000</td><td style='background-color:#f28b64;text-align:right;'>0.1000</td><td style='background-color:#cbb264;text-align:right;'>0.4000</td><td style='background-color:#f28b64;text-align:right;'>0.1000</td></tr>\n",
       "<tr><th style='background-color:#BBBBBB'><center>1</center></th><td style='background-color:#e59864;text-align:right;'>0.2000</td><td style='background-color:#d8a564;text-align:right;'>0.3000</td><td style='background-color:#e59864;text-align:right;'>0.2000</td><td style='background-color:#d8a564;text-align:right;'>0.3000</td></tr>\n",
       "</table></div></td><td style=\"border-top:hidden;border-bottom:hidden;\"><div align=\"center\" style=\"\"><table>\n",
       "<tr><th colspan='1'></th><th colspan='4' style='background-color:#AAAAAA'><center>y4</center></th></tr>\n",
       "<tr><th style='background-color:#AAAAAA'><center>x4</center></th><th style='background-color:#BBBBBB'><center>0</center></th><th style='background-color:#BBBBBB'><center>1</center></th><th style='background-color:#BBBBBB'><center>2</center></th><th style='background-color:#BBBBBB'><center>3</center></th></tr>\n",
       "<tr><th style='background-color:#BBBBBB'><center>0</center></th><td style='background-color:#cbb264;text-align:right;'>0.4000</td><td style='background-color:#f28b64;text-align:right;'>0.1000</td><td style='background-color:#cbb264;text-align:right;'>0.4000</td><td style='background-color:#f28b64;text-align:right;'>0.1000</td></tr>\n",
       "<tr><th style='background-color:#BBBBBB'><center>1</center></th><td style='background-color:#e59864;text-align:right;'>0.2000</td><td style='background-color:#d8a564;text-align:right;'>0.3000</td><td style='background-color:#e59864;text-align:right;'>0.2000</td><td style='background-color:#d8a564;text-align:right;'>0.3000</td></tr>\n",
       "</table></div></td></tr></table>"
      ],
      "text/plain": [
       "<IPython.core.display.HTML object>"
      ]
     },
     "metadata": {},
     "output_type": "display_data"
    }
   ],
   "source": [
    "hmm.cpt(y1)[:] = [[0.4, 0.1, 0.4, 0.1], [0.2, 0.3, 0.2, 0.3]]\n",
    "hmm.cpt(y2)[:] = [[0.4, 0.1, 0.4, 0.1], [0.2, 0.3, 0.2, 0.3]]\n",
    "hmm.cpt(y3)[:] = [[0.4, 0.1, 0.4, 0.1], [0.2, 0.3, 0.2, 0.3]]\n",
    "hmm.cpt(y4)[:] = [[0.4, 0.1, 0.4, 0.1], [0.2, 0.3, 0.2, 0.3]]\n",
    "gnb.sideBySide(hmm.cpt(y1),hmm.cpt(y2),hmm.cpt(y3),hmm.cpt(y4))"
   ]
  },
  {
   "cell_type": "markdown",
   "metadata": {},
   "source": [
    "### Calculer P(x) avec x = GTAC"
   ]
  },
  {
   "cell_type": "code",
   "execution_count": 9,
   "metadata": {},
   "outputs": [
    {
     "data": {
      "text/html": [
       "<table>\n",
       "<tr><th colspan='3'></th><th colspan='4' style='background-color:#AAAAAA'><center>y4</center></th></tr>\n",
       "<tr><th style='background-color:#AAAAAA'><center>y3</center></th><th style='background-color:#AAAAAA'><center>y2</center></th><th style='background-color:#AAAAAA'><center>y1</center></th><th style='background-color:#BBBBBB'><center>0</center></th><th style='background-color:#BBBBBB'><center>1</center></th><th style='background-color:#BBBBBB'><center>2</center></th><th style='background-color:#BBBBBB'><center>3</center></th></tr>\n",
       "<tr><th style='background-color:#BBBBBB'><center>0</center></th><th style='background-color:#BBBBBB;' rowspan = '4'><center>0</center></th><th style='background-color:#BBBBBB;' rowspan = '16'><center>0</center></th><td style='background-color:#fd8064;text-align:right;'>0.0131</td><td style='background-color:#fe7f64;text-align:right;'>0.0057</td><td style='background-color:#fd8064;text-align:right;'>0.0131</td><td style='background-color:#fe7f64;text-align:right;'>0.0057</td></tr>\n",
       "<tr><th style='background-color:#BBBBBB'><center>1</center></th><td style='background-color:#fe7f64;text-align:right;'>0.0053</td><td style='background-color:#fe7f64;text-align:right;'>0.0031</td><td style='background-color:#fe7f64;text-align:right;'>0.0053</td><td style='background-color:#fe7f64;text-align:right;'>0.0031</td></tr>\n",
       "<tr><th style='background-color:#BBBBBB'><center>2</center></th><td style='background-color:#fd8064;text-align:right;'>0.0131</td><td style='background-color:#fe7f64;text-align:right;'>0.0057</td><td style='background-color:#fd8064;text-align:right;'>0.0131</td><td style='background-color:#fe7f64;text-align:right;'>0.0057</td></tr>\n",
       "<tr><th style='background-color:#BBBBBB'><center>3</center></th><td style='background-color:#fe7f64;text-align:right;'>0.0053</td><td style='background-color:#fe7f64;text-align:right;'>0.0031</td><td style='background-color:#fe7f64;text-align:right;'>0.0053</td><td style='background-color:#fe7f64;text-align:right;'>0.0031</td></tr>\n",
       "<tr><th style='background-color:#BBBBBB'><center>0</center></th><th style='background-color:#BBBBBB;' rowspan = '4'><center>1</center></th><td style='background-color:#fe7f64;text-align:right;'>0.0055</td><td style='background-color:#fe7f64;text-align:right;'>0.0026</td><td style='background-color:#fe7f64;text-align:right;'>0.0055</td><td style='background-color:#fe7f64;text-align:right;'>0.0026</td></tr>\n",
       "<tr><th style='background-color:#BBBBBB'><center>1</center></th><td style='background-color:#fe7f64;text-align:right;'>0.0029</td><td style='background-color:#fe7f64;text-align:right;'>0.0018</td><td style='background-color:#fe7f64;text-align:right;'>0.0029</td><td style='background-color:#fe7f64;text-align:right;'>0.0018</td></tr>\n",
       "<tr><th style='background-color:#BBBBBB'><center>2</center></th><td style='background-color:#fe7f64;text-align:right;'>0.0055</td><td style='background-color:#fe7f64;text-align:right;'>0.0026</td><td style='background-color:#fe7f64;text-align:right;'>0.0055</td><td style='background-color:#fe7f64;text-align:right;'>0.0026</td></tr>\n",
       "<tr><th style='background-color:#BBBBBB'><center>3</center></th><td style='background-color:#fe7f64;text-align:right;'>0.0029</td><td style='background-color:#fe7f64;text-align:right;'>0.0018</td><td style='background-color:#fe7f64;text-align:right;'>0.0029</td><td style='background-color:#fe7f64;text-align:right;'>0.0018</td></tr>\n",
       "<tr><th style='background-color:#BBBBBB'><center>0</center></th><th style='background-color:#BBBBBB;' rowspan = '4'><center>2</center></th><td style='background-color:#fd8064;text-align:right;'>0.0131</td><td style='background-color:#fe7f64;text-align:right;'>0.0057</td><td style='background-color:#fd8064;text-align:right;'>0.0131</td><td style='background-color:#fe7f64;text-align:right;'>0.0057</td></tr>\n",
       "<tr><th style='background-color:#BBBBBB'><center>1</center></th><td style='background-color:#fe7f64;text-align:right;'>0.0053</td><td style='background-color:#fe7f64;text-align:right;'>0.0031</td><td style='background-color:#fe7f64;text-align:right;'>0.0053</td><td style='background-color:#fe7f64;text-align:right;'>0.0031</td></tr>\n",
       "<tr><th style='background-color:#BBBBBB'><center>2</center></th><td style='background-color:#fd8064;text-align:right;'>0.0131</td><td style='background-color:#fe7f64;text-align:right;'>0.0057</td><td style='background-color:#fd8064;text-align:right;'>0.0131</td><td style='background-color:#fe7f64;text-align:right;'>0.0057</td></tr>\n",
       "<tr><th style='background-color:#BBBBBB'><center>3</center></th><td style='background-color:#fe7f64;text-align:right;'>0.0053</td><td style='background-color:#fe7f64;text-align:right;'>0.0031</td><td style='background-color:#fe7f64;text-align:right;'>0.0053</td><td style='background-color:#fe7f64;text-align:right;'>0.0031</td></tr>\n",
       "<tr><th style='background-color:#BBBBBB'><center>0</center></th><th style='background-color:#BBBBBB;' rowspan = '4'><center>3</center></th><td style='background-color:#fe7f64;text-align:right;'>0.0055</td><td style='background-color:#fe7f64;text-align:right;'>0.0026</td><td style='background-color:#fe7f64;text-align:right;'>0.0055</td><td style='background-color:#fe7f64;text-align:right;'>0.0026</td></tr>\n",
       "<tr><th style='background-color:#BBBBBB'><center>1</center></th><td style='background-color:#fe7f64;text-align:right;'>0.0029</td><td style='background-color:#fe7f64;text-align:right;'>0.0018</td><td style='background-color:#fe7f64;text-align:right;'>0.0029</td><td style='background-color:#fe7f64;text-align:right;'>0.0018</td></tr>\n",
       "<tr><th style='background-color:#BBBBBB'><center>2</center></th><td style='background-color:#fe7f64;text-align:right;'>0.0055</td><td style='background-color:#fe7f64;text-align:right;'>0.0026</td><td style='background-color:#fe7f64;text-align:right;'>0.0055</td><td style='background-color:#fe7f64;text-align:right;'>0.0026</td></tr>\n",
       "<tr><th style='background-color:#BBBBBB'><center>3</center></th><td style='background-color:#fe7f64;text-align:right;'>0.0029</td><td style='background-color:#fe7f64;text-align:right;'>0.0018</td><td style='background-color:#fe7f64;text-align:right;'>0.0029</td><td style='background-color:#fe7f64;text-align:right;'>0.0018</td></tr>\n",
       "<tr><th style='background-color:#BBBBBB'><center>0</center></th><th style='background-color:#BBBBBB;' rowspan = '4'><center>0</center></th><th style='background-color:#BBBBBB;' rowspan = '16'><center>1</center></th><td style='background-color:#fe7f64;text-align:right;'>0.0064</td><td style='background-color:#fe7f64;text-align:right;'>0.0029</td><td style='background-color:#fe7f64;text-align:right;'>0.0064</td><td style='background-color:#fe7f64;text-align:right;'>0.0029</td></tr>\n",
       "<tr><th style='background-color:#BBBBBB'><center>1</center></th><td style='background-color:#fe7f64;text-align:right;'>0.0028</td><td style='background-color:#fe7f64;text-align:right;'>0.0017</td><td style='background-color:#fe7f64;text-align:right;'>0.0028</td><td style='background-color:#fe7f64;text-align:right;'>0.0017</td></tr>\n",
       "<tr><th style='background-color:#BBBBBB'><center>2</center></th><td style='background-color:#fe7f64;text-align:right;'>0.0064</td><td style='background-color:#fe7f64;text-align:right;'>0.0029</td><td style='background-color:#fe7f64;text-align:right;'>0.0064</td><td style='background-color:#fe7f64;text-align:right;'>0.0029</td></tr>\n",
       "<tr><th style='background-color:#BBBBBB'><center>3</center></th><td style='background-color:#fe7f64;text-align:right;'>0.0028</td><td style='background-color:#fe7f64;text-align:right;'>0.0017</td><td style='background-color:#fe7f64;text-align:right;'>0.0028</td><td style='background-color:#fe7f64;text-align:right;'>0.0017</td></tr>\n",
       "<tr><th style='background-color:#BBBBBB'><center>0</center></th><th style='background-color:#BBBBBB;' rowspan = '4'><center>1</center></th><td style='background-color:#fe7f64;text-align:right;'>0.0035</td><td style='background-color:#fe7f64;text-align:right;'>0.0017</td><td style='background-color:#fe7f64;text-align:right;'>0.0035</td><td style='background-color:#fe7f64;text-align:right;'>0.0017</td></tr>\n",
       "<tr><th style='background-color:#BBBBBB'><center>1</center></th><td style='background-color:#fe7f64;text-align:right;'>0.0021</td><td style='background-color:#fe7f64;text-align:right;'>0.0014</td><td style='background-color:#fe7f64;text-align:right;'>0.0021</td><td style='background-color:#fe7f64;text-align:right;'>0.0014</td></tr>\n",
       "<tr><th style='background-color:#BBBBBB'><center>2</center></th><td style='background-color:#fe7f64;text-align:right;'>0.0035</td><td style='background-color:#fe7f64;text-align:right;'>0.0017</td><td style='background-color:#fe7f64;text-align:right;'>0.0035</td><td style='background-color:#fe7f64;text-align:right;'>0.0017</td></tr>\n",
       "<tr><th style='background-color:#BBBBBB'><center>3</center></th><td style='background-color:#fe7f64;text-align:right;'>0.0021</td><td style='background-color:#fe7f64;text-align:right;'>0.0014</td><td style='background-color:#fe7f64;text-align:right;'>0.0021</td><td style='background-color:#fe7f64;text-align:right;'>0.0014</td></tr>\n",
       "<tr><th style='background-color:#BBBBBB'><center>0</center></th><th style='background-color:#BBBBBB;' rowspan = '4'><center>2</center></th><td style='background-color:#fe7f64;text-align:right;'>0.0064</td><td style='background-color:#fe7f64;text-align:right;'>0.0029</td><td style='background-color:#fe7f64;text-align:right;'>0.0064</td><td style='background-color:#fe7f64;text-align:right;'>0.0029</td></tr>\n",
       "<tr><th style='background-color:#BBBBBB'><center>1</center></th><td style='background-color:#fe7f64;text-align:right;'>0.0028</td><td style='background-color:#fe7f64;text-align:right;'>0.0017</td><td style='background-color:#fe7f64;text-align:right;'>0.0028</td><td style='background-color:#fe7f64;text-align:right;'>0.0017</td></tr>\n",
       "<tr><th style='background-color:#BBBBBB'><center>2</center></th><td style='background-color:#fe7f64;text-align:right;'>0.0064</td><td style='background-color:#fe7f64;text-align:right;'>0.0029</td><td style='background-color:#fe7f64;text-align:right;'>0.0064</td><td style='background-color:#fe7f64;text-align:right;'>0.0029</td></tr>\n",
       "<tr><th style='background-color:#BBBBBB'><center>3</center></th><td style='background-color:#fe7f64;text-align:right;'>0.0028</td><td style='background-color:#fe7f64;text-align:right;'>0.0017</td><td style='background-color:#fe7f64;text-align:right;'>0.0028</td><td style='background-color:#fe7f64;text-align:right;'>0.0017</td></tr>\n",
       "<tr><th style='background-color:#BBBBBB'><center>0</center></th><th style='background-color:#BBBBBB;' rowspan = '4'><center>3</center></th><td style='background-color:#fe7f64;text-align:right;'>0.0035</td><td style='background-color:#fe7f64;text-align:right;'>0.0017</td><td style='background-color:#fe7f64;text-align:right;'>0.0035</td><td style='background-color:#fe7f64;text-align:right;'>0.0017</td></tr>\n",
       "<tr><th style='background-color:#BBBBBB'><center>1</center></th><td style='background-color:#fe7f64;text-align:right;'>0.0021</td><td style='background-color:#fe7f64;text-align:right;'>0.0014</td><td style='background-color:#fe7f64;text-align:right;'>0.0021</td><td style='background-color:#fe7f64;text-align:right;'>0.0014</td></tr>\n",
       "<tr><th style='background-color:#BBBBBB'><center>2</center></th><td style='background-color:#fe7f64;text-align:right;'>0.0035</td><td style='background-color:#fe7f64;text-align:right;'>0.0017</td><td style='background-color:#fe7f64;text-align:right;'>0.0035</td><td style='background-color:#fe7f64;text-align:right;'>0.0017</td></tr>\n",
       "<tr><th style='background-color:#BBBBBB'><center>3</center></th><td style='background-color:#fe7f64;text-align:right;'>0.0021</td><td style='background-color:#fe7f64;text-align:right;'>0.0014</td><td style='background-color:#fe7f64;text-align:right;'>0.0021</td><td style='background-color:#fe7f64;text-align:right;'>0.0014</td></tr>\n",
       "<tr><th style='background-color:#BBBBBB'><center>0</center></th><th style='background-color:#BBBBBB;' rowspan = '4'><center>0</center></th><th style='background-color:#BBBBBB;' rowspan = '16'><center>2</center></th><td style='background-color:#fd8064;text-align:right;'>0.0131</td><td style='background-color:#fe7f64;text-align:right;'>0.0057</td><td style='background-color:#fd8064;text-align:right;'>0.0131</td><td style='background-color:#fe7f64;text-align:right;'>0.0057</td></tr>\n",
       "<tr><th style='background-color:#BBBBBB'><center>1</center></th><td style='background-color:#fe7f64;text-align:right;'>0.0053</td><td style='background-color:#fe7f64;text-align:right;'>0.0031</td><td style='background-color:#fe7f64;text-align:right;'>0.0053</td><td style='background-color:#fe7f64;text-align:right;'>0.0031</td></tr>\n",
       "<tr><th style='background-color:#BBBBBB'><center>2</center></th><td style='background-color:#fd8064;text-align:right;'>0.0131</td><td style='background-color:#fe7f64;text-align:right;'>0.0057</td><td style='background-color:#fd8064;text-align:right;'>0.0131</td><td style='background-color:#fe7f64;text-align:right;'>0.0057</td></tr>\n",
       "<tr><th style='background-color:#BBBBBB'><center>3</center></th><td style='background-color:#fe7f64;text-align:right;'>0.0053</td><td style='background-color:#fe7f64;text-align:right;'>0.0031</td><td style='background-color:#fe7f64;text-align:right;'>0.0053</td><td style='background-color:#fe7f64;text-align:right;'>0.0031</td></tr>\n",
       "<tr><th style='background-color:#BBBBBB'><center>0</center></th><th style='background-color:#BBBBBB;' rowspan = '4'><center>1</center></th><td style='background-color:#fe7f64;text-align:right;'>0.0055</td><td style='background-color:#fe7f64;text-align:right;'>0.0026</td><td style='background-color:#fe7f64;text-align:right;'>0.0055</td><td style='background-color:#fe7f64;text-align:right;'>0.0026</td></tr>\n",
       "<tr><th style='background-color:#BBBBBB'><center>1</center></th><td style='background-color:#fe7f64;text-align:right;'>0.0029</td><td style='background-color:#fe7f64;text-align:right;'>0.0018</td><td style='background-color:#fe7f64;text-align:right;'>0.0029</td><td style='background-color:#fe7f64;text-align:right;'>0.0018</td></tr>\n",
       "<tr><th style='background-color:#BBBBBB'><center>2</center></th><td style='background-color:#fe7f64;text-align:right;'>0.0055</td><td style='background-color:#fe7f64;text-align:right;'>0.0026</td><td style='background-color:#fe7f64;text-align:right;'>0.0055</td><td style='background-color:#fe7f64;text-align:right;'>0.0026</td></tr>\n",
       "<tr><th style='background-color:#BBBBBB'><center>3</center></th><td style='background-color:#fe7f64;text-align:right;'>0.0029</td><td style='background-color:#fe7f64;text-align:right;'>0.0018</td><td style='background-color:#fe7f64;text-align:right;'>0.0029</td><td style='background-color:#fe7f64;text-align:right;'>0.0018</td></tr>\n",
       "<tr><th style='background-color:#BBBBBB'><center>0</center></th><th style='background-color:#BBBBBB;' rowspan = '4'><center>2</center></th><td style='background-color:#fd8064;text-align:right;'>0.0131</td><td style='background-color:#fe7f64;text-align:right;'>0.0057</td><td style='background-color:#fd8064;text-align:right;'>0.0131</td><td style='background-color:#fe7f64;text-align:right;'>0.0057</td></tr>\n",
       "<tr><th style='background-color:#BBBBBB'><center>1</center></th><td style='background-color:#fe7f64;text-align:right;'>0.0053</td><td style='background-color:#fe7f64;text-align:right;'>0.0031</td><td style='background-color:#fe7f64;text-align:right;'>0.0053</td><td style='background-color:#fe7f64;text-align:right;'>0.0031</td></tr>\n",
       "<tr><th style='background-color:#BBBBBB'><center>2</center></th><td style='background-color:#fd8064;text-align:right;'>0.0131</td><td style='background-color:#fe7f64;text-align:right;'>0.0057</td><td style='background-color:#fd8064;text-align:right;'>0.0131</td><td style='background-color:#fe7f64;text-align:right;'>0.0057</td></tr>\n",
       "<tr><th style='background-color:#BBBBBB'><center>3</center></th><td style='background-color:#fe7f64;text-align:right;'>0.0053</td><td style='background-color:#fe7f64;text-align:right;'>0.0031</td><td style='background-color:#fe7f64;text-align:right;'>0.0053</td><td style='background-color:#fe7f64;text-align:right;'>0.0031</td></tr>\n",
       "<tr><th style='background-color:#BBBBBB'><center>0</center></th><th style='background-color:#BBBBBB;' rowspan = '4'><center>3</center></th><td style='background-color:#fe7f64;text-align:right;'>0.0055</td><td style='background-color:#fe7f64;text-align:right;'>0.0026</td><td style='background-color:#fe7f64;text-align:right;'>0.0055</td><td style='background-color:#fe7f64;text-align:right;'>0.0026</td></tr>\n",
       "<tr><th style='background-color:#BBBBBB'><center>1</center></th><td style='background-color:#fe7f64;text-align:right;'>0.0029</td><td style='background-color:#fe7f64;text-align:right;'>0.0018</td><td style='background-color:#fe7f64;text-align:right;'>0.0029</td><td style='background-color:#fe7f64;text-align:right;'>0.0018</td></tr>\n",
       "<tr><th style='background-color:#BBBBBB'><center>2</center></th><td style='background-color:#fe7f64;text-align:right;'>0.0055</td><td style='background-color:#fe7f64;text-align:right;'>0.0026</td><td style='background-color:#fe7f64;text-align:right;'>0.0055</td><td style='background-color:#fe7f64;text-align:right;'>0.0026</td></tr>\n",
       "<tr><th style='background-color:#BBBBBB'><center>3</center></th><td style='background-color:#fe7f64;text-align:right;'>0.0029</td><td style='background-color:#fe7f64;text-align:right;'>0.0018</td><td style='background-color:#fe7f64;text-align:right;'>0.0029</td><td style='background-color:#fe7f64;text-align:right;'>0.0018</td></tr>\n",
       "<tr><th style='background-color:#BBBBBB'><center>0</center></th><th style='background-color:#BBBBBB;' rowspan = '4'><center>0</center></th><th style='background-color:#BBBBBB;' rowspan = '16'><center>3</center></th><td style='background-color:#fe7f64;text-align:right;'>0.0064</td><td style='background-color:#fe7f64;text-align:right;'>0.0029</td><td style='background-color:#fe7f64;text-align:right;'>0.0064</td><td style='background-color:#fe7f64;text-align:right;'>0.0029</td></tr>\n",
       "<tr><th style='background-color:#BBBBBB'><center>1</center></th><td style='background-color:#fe7f64;text-align:right;'>0.0028</td><td style='background-color:#fe7f64;text-align:right;'>0.0017</td><td style='background-color:#fe7f64;text-align:right;'>0.0028</td><td style='background-color:#fe7f64;text-align:right;'>0.0017</td></tr>\n",
       "<tr><th style='background-color:#BBBBBB'><center>2</center></th><td style='background-color:#fe7f64;text-align:right;'>0.0064</td><td style='background-color:#fe7f64;text-align:right;'>0.0029</td><td style='background-color:#fe7f64;text-align:right;'>0.0064</td><td style='background-color:#fe7f64;text-align:right;'>0.0029</td></tr>\n",
       "<tr><th style='background-color:#BBBBBB'><center>3</center></th><td style='background-color:#fe7f64;text-align:right;'>0.0028</td><td style='background-color:#fe7f64;text-align:right;'>0.0017</td><td style='background-color:#fe7f64;text-align:right;'>0.0028</td><td style='background-color:#fe7f64;text-align:right;'>0.0017</td></tr>\n",
       "<tr><th style='background-color:#BBBBBB'><center>0</center></th><th style='background-color:#BBBBBB;' rowspan = '4'><center>1</center></th><td style='background-color:#fe7f64;text-align:right;'>0.0035</td><td style='background-color:#fe7f64;text-align:right;'>0.0017</td><td style='background-color:#fe7f64;text-align:right;'>0.0035</td><td style='background-color:#fe7f64;text-align:right;'>0.0017</td></tr>\n",
       "<tr><th style='background-color:#BBBBBB'><center>1</center></th><td style='background-color:#fe7f64;text-align:right;'>0.0021</td><td style='background-color:#fe7f64;text-align:right;'>0.0014</td><td style='background-color:#fe7f64;text-align:right;'>0.0021</td><td style='background-color:#fe7f64;text-align:right;'>0.0014</td></tr>\n",
       "<tr><th style='background-color:#BBBBBB'><center>2</center></th><td style='background-color:#fe7f64;text-align:right;'>0.0035</td><td style='background-color:#fe7f64;text-align:right;'>0.0017</td><td style='background-color:#fe7f64;text-align:right;'>0.0035</td><td style='background-color:#fe7f64;text-align:right;'>0.0017</td></tr>\n",
       "<tr><th style='background-color:#BBBBBB'><center>3</center></th><td style='background-color:#fe7f64;text-align:right;'>0.0021</td><td style='background-color:#fe7f64;text-align:right;'>0.0014</td><td style='background-color:#fe7f64;text-align:right;'>0.0021</td><td style='background-color:#fe7f64;text-align:right;'>0.0014</td></tr>\n",
       "<tr><th style='background-color:#BBBBBB'><center>0</center></th><th style='background-color:#BBBBBB;' rowspan = '4'><center>2</center></th><td style='background-color:#fe7f64;text-align:right;'>0.0064</td><td style='background-color:#fe7f64;text-align:right;'>0.0029</td><td style='background-color:#fe7f64;text-align:right;'>0.0064</td><td style='background-color:#fe7f64;text-align:right;'>0.0029</td></tr>\n",
       "<tr><th style='background-color:#BBBBBB'><center>1</center></th><td style='background-color:#fe7f64;text-align:right;'>0.0028</td><td style='background-color:#fe7f64;text-align:right;'>0.0017</td><td style='background-color:#fe7f64;text-align:right;'>0.0028</td><td style='background-color:#fe7f64;text-align:right;'>0.0017</td></tr>\n",
       "<tr><th style='background-color:#BBBBBB'><center>2</center></th><td style='background-color:#fe7f64;text-align:right;'>0.0064</td><td style='background-color:#fe7f64;text-align:right;'>0.0029</td><td style='background-color:#fe7f64;text-align:right;'>0.0064</td><td style='background-color:#fe7f64;text-align:right;'>0.0029</td></tr>\n",
       "<tr><th style='background-color:#BBBBBB'><center>3</center></th><td style='background-color:#fe7f64;text-align:right;'>0.0028</td><td style='background-color:#fe7f64;text-align:right;'>0.0017</td><td style='background-color:#fe7f64;text-align:right;'>0.0028</td><td style='background-color:#fe7f64;text-align:right;'>0.0017</td></tr>\n",
       "<tr><th style='background-color:#BBBBBB'><center>0</center></th><th style='background-color:#BBBBBB;' rowspan = '4'><center>3</center></th><td style='background-color:#fe7f64;text-align:right;'>0.0035</td><td style='background-color:#fe7f64;text-align:right;'>0.0017</td><td style='background-color:#fe7f64;text-align:right;'>0.0035</td><td style='background-color:#fe7f64;text-align:right;'>0.0017</td></tr>\n",
       "<tr><th style='background-color:#BBBBBB'><center>1</center></th><td style='background-color:#fe7f64;text-align:right;'>0.0021</td><td style='background-color:#fe7f64;text-align:right;'>0.0014</td><td style='background-color:#fe7f64;text-align:right;'>0.0021</td><td style='background-color:#fe7f64;text-align:right;'>0.0014</td></tr>\n",
       "<tr><th style='background-color:#BBBBBB'><center>2</center></th><td style='background-color:#fe7f64;text-align:right;'>0.0035</td><td style='background-color:#fe7f64;text-align:right;'>0.0017</td><td style='background-color:#fe7f64;text-align:right;'>0.0035</td><td style='background-color:#fe7f64;text-align:right;'>0.0017</td></tr>\n",
       "<tr><th style='background-color:#BBBBBB'><center>3</center></th><td style='background-color:#fe7f64;text-align:right;'>0.0021</td><td style='background-color:#fe7f64;text-align:right;'>0.0014</td><td style='background-color:#fe7f64;text-align:right;'>0.0021</td><td style='background-color:#fe7f64;text-align:right;'>0.0014</td></tr>\n",
       "</table>"
      ],
      "text/plain": [
       "(gum::Potential<double>@000001B841498B00) <y4:0|y3:0|y2:0|y1:0> :: 0.0130765 /<y4:1|y3:0|y2:0|y1:0> :: 0.00573952 /<y4:2|y3:0|y2:0|y1:0> :: 0.0130765 /<y4:3|y3:0|y2:0|y1:0> :: 0.00573952 /<y4:0|y3:1|y2:0|y1:0> :: 0.00532992 /<y4:1|y3:1|y2:0|y1:0> :: 0.00305408 /<y4:2|y3:1|y2:0|y1:0> :: 0.00532992 /<y4:3|y3:1|y2:0|y1:0> :: 0.00305408 /<y4:0|y3:2|y2:0|y1:0> :: 0.0130765 /<y4:1|y3:2|y2:0|y1:0> :: 0.00573952 /<y4:2|y3:2|y2:0|y1:0> :: 0.0130765 /<y4:3|y3:2|y2:0|y1:0> :: 0.00573952 /<y4:0|y3:3|y2:0|y1:0> :: 0.00532992 /<y4:1|y3:3|y2:0|y1:0> :: 0.00305408 /<y4:2|y3:3|y2:0|y1:0> :: 0.00532992 /<y4:3|y3:3|y2:0|y1:0> :: 0.00305408 /<y4:0|y3:0|y2:1|y1:0> :: 0.00545792 /<y4:1|y3:0|y2:1|y1:0> :: 0.00260608 /<y4:2|y3:0|y2:1|y1:0> :: 0.00545792 /<y4:3|y3:0|y2:1|y1:0> :: 0.00260608 /<y4:0|y3:1|y2:1|y1:0> :: 0.00288768 /<y4:1|y3:1|y2:1|y1:0> :: 0.00184832 /<y4:2|y3:1|y2:1|y1:0> :: 0.00288768 /<y4:3|y3:1|y2:1|y1:0> :: 0.00184832 /<y4:0|y3:2|y2:1|y1:0> :: 0.00545792 /<y4:1|y3:2|y2:1|y1:0> :: 0.00260608 /<y4:2|y3:2|y2:1|y1:0> :: 0.00545792 /<y4:3|y3:2|y2:1|y1:0> :: 0.00260608 /<y4:0|y3:3|y2:1|y1:0> :: 0.00288768 /<y4:1|y3:3|y2:1|y1:0> :: 0.00184832 /<y4:2|y3:3|y2:1|y1:0> :: 0.00288768 /<y4:3|y3:3|y2:1|y1:0> :: 0.00184832 /<y4:0|y3:0|y2:2|y1:0> :: 0.0130765 /<y4:1|y3:0|y2:2|y1:0> :: 0.00573952 /<y4:2|y3:0|y2:2|y1:0> :: 0.0130765 /<y4:3|y3:0|y2:2|y1:0> :: 0.00573952 /<y4:0|y3:1|y2:2|y1:0> :: 0.00532992 /<y4:1|y3:1|y2:2|y1:0> :: 0.00305408 /<y4:2|y3:1|y2:2|y1:0> :: 0.00532992 /<y4:3|y3:1|y2:2|y1:0> :: 0.00305408 /<y4:0|y3:2|y2:2|y1:0> :: 0.0130765 /<y4:1|y3:2|y2:2|y1:0> :: 0.00573952 /<y4:2|y3:2|y2:2|y1:0> :: 0.0130765 /<y4:3|y3:2|y2:2|y1:0> :: 0.00573952 /<y4:0|y3:3|y2:2|y1:0> :: 0.00532992 /<y4:1|y3:3|y2:2|y1:0> :: 0.00305408 /<y4:2|y3:3|y2:2|y1:0> :: 0.00532992 /<y4:3|y3:3|y2:2|y1:0> :: 0.00305408 /<y4:0|y3:0|y2:3|y1:0> :: 0.00545792 /<y4:1|y3:0|y2:3|y1:0> :: 0.00260608 /<y4:2|y3:0|y2:3|y1:0> :: 0.00545792 /<y4:3|y3:0|y2:3|y1:0> :: 0.00260608 /<y4:0|y3:1|y2:3|y1:0> :: 0.00288768 /<y4:1|y3:1|y2:3|y1:0> :: 0.00184832 /<y4:2|y3:1|y2:3|y1:0> :: 0.00288768 /<y4:3|y3:1|y2:3|y1:0> :: 0.00184832 /<y4:0|y3:2|y2:3|y1:0> :: 0.00545792 /<y4:1|y3:2|y2:3|y1:0> :: 0.00260608 /<y4:2|y3:2|y2:3|y1:0> :: 0.00545792 /<y4:3|y3:2|y2:3|y1:0> :: 0.00260608 /<y4:0|y3:3|y2:3|y1:0> :: 0.00288768 /<y4:1|y3:3|y2:3|y1:0> :: 0.00184832 /<y4:2|y3:3|y2:3|y1:0> :: 0.00288768 /<y4:3|y3:3|y2:3|y1:0> :: 0.00184832 /<y4:0|y3:0|y2:0|y1:1> :: 0.00638592 /<y4:1|y3:0|y2:0|y1:1> :: 0.00287808 /<y4:2|y3:0|y2:0|y1:1> :: 0.00638592 /<y4:3|y3:0|y2:0|y1:1> :: 0.00287808 /<y4:0|y3:1|y2:0|y1:1> :: 0.00283968 /<y4:1|y3:1|y2:0|y1:1> :: 0.00169632 /<y4:2|y3:1|y2:0|y1:1> :: 0.00283968 /<y4:3|y3:1|y2:0|y1:1> :: 0.00169632 /<y4:0|y3:2|y2:0|y1:1> :: 0.00638592 /<y4:1|y3:2|y2:0|y1:1> :: 0.00287808 /<y4:2|y3:2|y2:0|y1:1> :: 0.00638592 /<y4:3|y3:2|y2:0|y1:1> :: 0.00287808 /<y4:0|y3:3|y2:0|y1:1> :: 0.00283968 /<y4:1|y3:3|y2:0|y1:1> :: 0.00169632 /<y4:2|y3:3|y2:0|y1:1> :: 0.00283968 /<y4:3|y3:3|y2:0|y1:1> :: 0.00169632 /<y4:0|y3:0|y2:1|y1:1> :: 0.00351168 /<y4:1|y3:0|y2:1|y1:1> :: 0.00174432 /<y4:2|y3:0|y2:1|y1:1> :: 0.00351168 /<y4:3|y3:0|y2:1|y1:1> :: 0.00174432 /<y4:0|y3:1|y2:1|y1:1> :: 0.00207072 /<y4:1|y3:1|y2:1|y1:1> :: 0.00137328 /<y4:2|y3:1|y2:1|y1:1> :: 0.00207072 /<y4:3|y3:1|y2:1|y1:1> :: 0.00137328 /<y4:0|y3:2|y2:1|y1:1> :: 0.00351168 /<y4:1|y3:2|y2:1|y1:1> :: 0.00174432 /<y4:2|y3:2|y2:1|y1:1> :: 0.00351168 /<y4:3|y3:2|y2:1|y1:1> :: 0.00174432 /<y4:0|y3:3|y2:1|y1:1> :: 0.00207072 /<y4:1|y3:3|y2:1|y1:1> :: 0.00137328 /<y4:2|y3:3|y2:1|y1:1> :: 0.00207072 /<y4:3|y3:3|y2:1|y1:1> :: 0.00137328 /<y4:0|y3:0|y2:2|y1:1> :: 0.00638592 /<y4:1|y3:0|y2:2|y1:1> :: 0.00287808 /<y4:2|y3:0|y2:2|y1:1> :: 0.00638592 /<y4:3|y3:0|y2:2|y1:1> :: 0.00287808 /<y4:0|y3:1|y2:2|y1:1> :: 0.00283968 /<y4:1|y3:1|y2:2|y1:1> :: 0.00169632 /<y4:2|y3:1|y2:2|y1:1> :: 0.00283968 /<y4:3|y3:1|y2:2|y1:1> :: 0.00169632 /<y4:0|y3:2|y2:2|y1:1> :: 0.00638592 /<y4:1|y3:2|y2:2|y1:1> :: 0.00287808 /<y4:2|y3:2|y2:2|y1:1> :: 0.00638592 /<y4:3|y3:2|y2:2|y1:1> :: 0.00287808 /<y4:0|y3:3|y2:2|y1:1> :: 0.00283968 /<y4:1|y3:3|y2:2|y1:1> :: 0.00169632 /<y4:2|y3:3|y2:2|y1:1> :: 0.00283968 /<y4:3|y3:3|y2:2|y1:1> :: 0.00169632 /<y4:0|y3:0|y2:3|y1:1> :: 0.00351168 /<y4:1|y3:0|y2:3|y1:1> :: 0.00174432 /<y4:2|y3:0|y2:3|y1:1> :: 0.00351168 /<y4:3|y3:0|y2:3|y1:1> :: 0.00174432 /<y4:0|y3:1|y2:3|y1:1> :: 0.00207072 /<y4:1|y3:1|y2:3|y1:1> :: 0.00137328 /<y4:2|y3:1|y2:3|y1:1> :: 0.00207072 /<y4:3|y3:1|y2:3|y1:1> :: 0.00137328 /<y4:0|y3:2|y2:3|y1:1> :: 0.00351168 /<y4:1|y3:2|y2:3|y1:1> :: 0.00174432 /<y4:2|y3:2|y2:3|y1:1> :: 0.00351168 /<y4:3|y3:2|y2:3|y1:1> :: 0.00174432 /<y4:0|y3:3|y2:3|y1:1> :: 0.00207072 /<y4:1|y3:3|y2:3|y1:1> :: 0.00137328 /<y4:2|y3:3|y2:3|y1:1> :: 0.00207072 /<y4:3|y3:3|y2:3|y1:1> :: 0.00137328 /<y4:0|y3:0|y2:0|y1:2> :: 0.0130765 /<y4:1|y3:0|y2:0|y1:2> :: 0.00573952 /<y4:2|y3:0|y2:0|y1:2> :: 0.0130765 /<y4:3|y3:0|y2:0|y1:2> :: 0.00573952 /<y4:0|y3:1|y2:0|y1:2> :: 0.00532992 /<y4:1|y3:1|y2:0|y1:2> :: 0.00305408 /<y4:2|y3:1|y2:0|y1:2> :: 0.00532992 /<y4:3|y3:1|y2:0|y1:2> :: 0.00305408 /<y4:0|y3:2|y2:0|y1:2> :: 0.0130765 /<y4:1|y3:2|y2:0|y1:2> :: 0.00573952 /<y4:2|y3:2|y2:0|y1:2> :: 0.0130765 /<y4:3|y3:2|y2:0|y1:2> :: 0.00573952 /<y4:0|y3:3|y2:0|y1:2> :: 0.00532992 /<y4:1|y3:3|y2:0|y1:2> :: 0.00305408 /<y4:2|y3:3|y2:0|y1:2> :: 0.00532992 /<y4:3|y3:3|y2:0|y1:2> :: 0.00305408 /<y4:0|y3:0|y2:1|y1:2> :: 0.00545792 /<y4:1|y3:0|y2:1|y1:2> :: 0.00260608 /<y4:2|y3:0|y2:1|y1:2> :: 0.00545792 /<y4:3|y3:0|y2:1|y1:2> :: 0.00260608 /<y4:0|y3:1|y2:1|y1:2> :: 0.00288768 /<y4:1|y3:1|y2:1|y1:2> :: 0.00184832 /<y4:2|y3:1|y2:1|y1:2> :: 0.00288768 /<y4:3|y3:1|y2:1|y1:2> :: 0.00184832 /<y4:0|y3:2|y2:1|y1:2> :: 0.00545792 /<y4:1|y3:2|y2:1|y1:2> :: 0.00260608 /<y4:2|y3:2|y2:1|y1:2> :: 0.00545792 /<y4:3|y3:2|y2:1|y1:2> :: 0.00260608 /<y4:0|y3:3|y2:1|y1:2> :: 0.00288768 /<y4:1|y3:3|y2:1|y1:2> :: 0.00184832 /<y4:2|y3:3|y2:1|y1:2> :: 0.00288768 /<y4:3|y3:3|y2:1|y1:2> :: 0.00184832 /<y4:0|y3:0|y2:2|y1:2> :: 0.0130765 /<y4:1|y3:0|y2:2|y1:2> :: 0.00573952 /<y4:2|y3:0|y2:2|y1:2> :: 0.0130765 /<y4:3|y3:0|y2:2|y1:2> :: 0.00573952 /<y4:0|y3:1|y2:2|y1:2> :: 0.00532992 /<y4:1|y3:1|y2:2|y1:2> :: 0.00305408 /<y4:2|y3:1|y2:2|y1:2> :: 0.00532992 /<y4:3|y3:1|y2:2|y1:2> :: 0.00305408 /<y4:0|y3:2|y2:2|y1:2> :: 0.0130765 /<y4:1|y3:2|y2:2|y1:2> :: 0.00573952 /<y4:2|y3:2|y2:2|y1:2> :: 0.0130765 /<y4:3|y3:2|y2:2|y1:2> :: 0.00573952 /<y4:0|y3:3|y2:2|y1:2> :: 0.00532992 /<y4:1|y3:3|y2:2|y1:2> :: 0.00305408 /<y4:2|y3:3|y2:2|y1:2> :: 0.00532992 /<y4:3|y3:3|y2:2|y1:2> :: 0.00305408 /<y4:0|y3:0|y2:3|y1:2> :: 0.00545792 /<y4:1|y3:0|y2:3|y1:2> :: 0.00260608 /<y4:2|y3:0|y2:3|y1:2> :: 0.00545792 /<y4:3|y3:0|y2:3|y1:2> :: 0.00260608 /<y4:0|y3:1|y2:3|y1:2> :: 0.00288768 /<y4:1|y3:1|y2:3|y1:2> :: 0.00184832 /<y4:2|y3:1|y2:3|y1:2> :: 0.00288768 /<y4:3|y3:1|y2:3|y1:2> :: 0.00184832 /<y4:0|y3:2|y2:3|y1:2> :: 0.00545792 /<y4:1|y3:2|y2:3|y1:2> :: 0.00260608 /<y4:2|y3:2|y2:3|y1:2> :: 0.00545792 /<y4:3|y3:2|y2:3|y1:2> :: 0.00260608 /<y4:0|y3:3|y2:3|y1:2> :: 0.00288768 /<y4:1|y3:3|y2:3|y1:2> :: 0.00184832 /<y4:2|y3:3|y2:3|y1:2> :: 0.00288768 /<y4:3|y3:3|y2:3|y1:2> :: 0.00184832 /<y4:0|y3:0|y2:0|y1:3> :: 0.00638592 /<y4:1|y3:0|y2:0|y1:3> :: 0.00287808 /<y4:2|y3:0|y2:0|y1:3> :: 0.00638592 /<y4:3|y3:0|y2:0|y1:3> :: 0.00287808 /<y4:0|y3:1|y2:0|y1:3> :: 0.00283968 /<y4:1|y3:1|y2:0|y1:3> :: 0.00169632 /<y4:2|y3:1|y2:0|y1:3> :: 0.00283968 /<y4:3|y3:1|y2:0|y1:3> :: 0.00169632 /<y4:0|y3:2|y2:0|y1:3> :: 0.00638592 /<y4:1|y3:2|y2:0|y1:3> :: 0.00287808 /<y4:2|y3:2|y2:0|y1:3> :: 0.00638592 /<y4:3|y3:2|y2:0|y1:3> :: 0.00287808 /<y4:0|y3:3|y2:0|y1:3> :: 0.00283968 /<y4:1|y3:3|y2:0|y1:3> :: 0.00169632 /<y4:2|y3:3|y2:0|y1:3> :: 0.00283968 /<y4:3|y3:3|y2:0|y1:3> :: 0.00169632 /<y4:0|y3:0|y2:1|y1:3> :: 0.00351168 /<y4:1|y3:0|y2:1|y1:3> :: 0.00174432 /<y4:2|y3:0|y2:1|y1:3> :: 0.00351168 /<y4:3|y3:0|y2:1|y1:3> :: 0.00174432 /<y4:0|y3:1|y2:1|y1:3> :: 0.00207072 /<y4:1|y3:1|y2:1|y1:3> :: 0.00137328 /<y4:2|y3:1|y2:1|y1:3> :: 0.00207072 /<y4:3|y3:1|y2:1|y1:3> :: 0.00137328 /<y4:0|y3:2|y2:1|y1:3> :: 0.00351168 /<y4:1|y3:2|y2:1|y1:3> :: 0.00174432 /<y4:2|y3:2|y2:1|y1:3> :: 0.00351168 /<y4:3|y3:2|y2:1|y1:3> :: 0.00174432 /<y4:0|y3:3|y2:1|y1:3> :: 0.00207072 /<y4:1|y3:3|y2:1|y1:3> :: 0.00137328 /<y4:2|y3:3|y2:1|y1:3> :: 0.00207072 /<y4:3|y3:3|y2:1|y1:3> :: 0.00137328 /<y4:0|y3:0|y2:2|y1:3> :: 0.00638592 /<y4:1|y3:0|y2:2|y1:3> :: 0.00287808 /<y4:2|y3:0|y2:2|y1:3> :: 0.00638592 /<y4:3|y3:0|y2:2|y1:3> :: 0.00287808 /<y4:0|y3:1|y2:2|y1:3> :: 0.00283968 /<y4:1|y3:1|y2:2|y1:3> :: 0.00169632 /<y4:2|y3:1|y2:2|y1:3> :: 0.00283968 /<y4:3|y3:1|y2:2|y1:3> :: 0.00169632 /<y4:0|y3:2|y2:2|y1:3> :: 0.00638592 /<y4:1|y3:2|y2:2|y1:3> :: 0.00287808 /<y4:2|y3:2|y2:2|y1:3> :: 0.00638592 /<y4:3|y3:2|y2:2|y1:3> :: 0.00287808 /<y4:0|y3:3|y2:2|y1:3> :: 0.00283968 /<y4:1|y3:3|y2:2|y1:3> :: 0.00169632 /<y4:2|y3:3|y2:2|y1:3> :: 0.00283968 /<y4:3|y3:3|y2:2|y1:3> :: 0.00169632 /<y4:0|y3:0|y2:3|y1:3> :: 0.00351168 /<y4:1|y3:0|y2:3|y1:3> :: 0.00174432 /<y4:2|y3:0|y2:3|y1:3> :: 0.00351168 /<y4:3|y3:0|y2:3|y1:3> :: 0.00174432 /<y4:0|y3:1|y2:3|y1:3> :: 0.00207072 /<y4:1|y3:1|y2:3|y1:3> :: 0.00137328 /<y4:2|y3:1|y2:3|y1:3> :: 0.00207072 /<y4:3|y3:1|y2:3|y1:3> :: 0.00137328 /<y4:0|y3:2|y2:3|y1:3> :: 0.00351168 /<y4:1|y3:2|y2:3|y1:3> :: 0.00174432 /<y4:2|y3:2|y2:3|y1:3> :: 0.00351168 /<y4:3|y3:2|y2:3|y1:3> :: 0.00174432 /<y4:0|y3:3|y2:3|y1:3> :: 0.00207072 /<y4:1|y3:3|y2:3|y1:3> :: 0.00137328 /<y4:2|y3:3|y2:3|y1:3> :: 0.00207072 /<y4:3|y3:3|y2:3|y1:3> :: 0.00137328"
      ]
     },
     "execution_count": 9,
     "metadata": {},
     "output_type": "execute_result"
    }
   ],
   "source": [
    "pT = hmm.cpt(x1)*hmm.cpt(x2)*hmm.cpt(x3)*hmm.cpt(x4)*hmm.cpt(y1)*hmm.cpt(y2)*hmm.cpt(y3)*hmm.cpt(y4)\n",
    "\n",
    "pGTAC = pT.margSumOut(['x1', 'x2', 'x3', 'x4'])\n",
    "pGTAC"
   ]
  },
  {
   "cell_type": "code",
   "execution_count": 10,
   "metadata": {},
   "outputs": [
    {
     "data": {
      "text/plain": [
       "0.0026060800000000006"
      ]
     },
     "execution_count": 10,
     "metadata": {},
     "output_type": "execute_result"
    }
   ],
   "source": [
    "pGTAC[2,3,0,1]"
   ]
  },
  {
   "cell_type": "code",
   "execution_count": 46,
   "metadata": {},
   "outputs": [
    {
     "data": {
      "text/plain": [
       "0.0026060799999999998"
      ]
     },
     "execution_count": 46,
     "metadata": {},
     "output_type": "execute_result"
    }
   ],
   "source": [
    "ie=gum.LazyPropagation(hmm)\n",
    "ie.makeInference()\n",
    "ie.addJointTarget([y1,y2,y3,y4])\n",
    "ie.jointPosterior([y1,y2,y3,y4])[2,3,0,1]"
   ]
  },
  {
   "cell_type": "markdown",
   "metadata": {},
   "source": [
    "### $P(\\pi_3=S_1|x)$ where $\\pi_3$ is the state when the third symbol is emitted."
   ]
  },
  {
   "cell_type": "code",
   "execution_count": 12,
   "metadata": {},
   "outputs": [
    {
     "data": {
      "text/html": [
       "<table>\n",
       "<tr style='background-color:#AAAAAA'><th colspan='2'><center>x3</center></th></tr>\n",
       "<tr><th style='background-color:#BBBBBB'><center>0</center></th><th style='background-color:#BBBBBB'><center>1</center></th></tr>\n",
       "<tr><td style='background-color:#aecf64;text-align:right;'>0.6326</td><td style='background-color:#cfae64;text-align:right;'>0.3674</td></tr>\n",
       "</table>"
      ],
      "text/plain": [
       "(gum::Potential<double>@000001B8414993E0) <x3:0> :: 0.632613 /<x3:1> :: 0.367387"
      ]
     },
     "execution_count": 12,
     "metadata": {},
     "output_type": "execute_result"
    }
   ],
   "source": [
    "ie=gum.LazyPropagation(hmm)\n",
    "ie.setEvidence({'y1':2, 'y2': 3, 'y3': 0, 'y4': 1})\n",
    "ie.makeInference()\n",
    "ie.posterior(x3)"
   ]
  },
  {
   "cell_type": "markdown",
   "metadata": {},
   "source": [
    "### Most likely path of hidden states"
   ]
  },
  {
   "cell_type": "code",
   "execution_count": 13,
   "metadata": {},
   "outputs": [
    {
     "data": {
      "text/plain": [
       "[{'x2': 0, 'x3': 0, 'x4': 0, 'x1': 0}]"
      ]
     },
     "execution_count": 13,
     "metadata": {},
     "output_type": "execute_result"
    }
   ],
   "source": [
    "ie=gum.LazyPropagation(hmm)\n",
    "ie.addJointTarget([x1,x2,x3,x4])\n",
    "ie.setEvidence({'y1':2, 'y2': 3, 'y3': 0, 'y4': 1})\n",
    "ie.jointPosterior([x1,x2,x3,x4]).argmax()"
   ]
  },
  {
   "cell_type": "code",
   "execution_count": 14,
   "metadata": {},
   "outputs": [
    {
     "data": {
      "image/png": "[encoded data removed]"
     },
     "metadata": {},
     "output_type": "display_data"
    }
   ],
   "source": [
    "gnb.showInference(hmm,evs={'y1':2, 'y2': 3, 'y3': 0, 'y4': 1}, targets={'x1', 'x2', 'x3', 'x4'})"
   ]
  },
  {
   "cell_type": "markdown",
   "metadata": {},
   "source": [
    "### Exercice BN du partiel:\n",
    "\n",
    "Réseau bayésien sur (A,B,C,D,E):\n",
    "\n",
    "\\begin{align*}\n",
    "     P(C=1\\mid A=1,B=1) = 0.9 & & P(D=1\\mid B=1) = 0.9 \\\\\n",
    "     P(C=1\\mid A=1,B=0) = 0.5 & & P(D=1\\mid B=1) = 0.9 \\\\\n",
    "     P(C=1\\mid A=0,B=1) = 0.5 & & P(D=1\\mid B=1) = 0.9 \\\\\n",
    "     P(C=1\\mid A=0,B=0) = 0.1 & & P(D=1\\mid B=1) = 0.9 \\\\\\\\\n",
    "     P(D=1\\mid B=1) = 0.9 & & P(D=1\\mid B=0) &= 0.1 \\\\\n",
    "     P(E=1\\mid C=1) = 0.9 & &P(E=1\\mid C=0) &= 0.1 \\\\\\\\\n",
    "     P(A=1) = 0.5 & & P(B=1) = 0.5\n",
    "\\end{align*}\n",
    "\n",
    "- Montrer par inférence que $P(A=1,D=1\\mid E=0) \\neq P(A=1,D=1)$.\n",
    "- Supposons que $C$ et $B$ ne soient pas observées. Créer un échantillon de données et apprendre une structure avec $A$, $D$ et $E$. Les indépendances entre $A$, $D$ et $E$ sont elles bien encodées dans ce nouveau DAG ? "
   ]
  },
  {
   "cell_type": "markdown",
   "metadata": {},
   "source": [
    "### Construire le BN et ajouter les probabilites pour chaque noeud"
   ]
  },
  {
   "cell_type": "code",
   "execution_count": 15,
   "metadata": {},
   "outputs": [
    {
     "data": {
      "text/html": [
       "<svg height=\"188pt\" viewBox=\"0.00 0.00 134.00 188.00\" width=\"134pt\" xmlns=\"http://www.w3.org/2000/svg\" xmlns:xlink=\"http://www.w3.org/1999/xlink\">\n",
       "<g class=\"graph\" id=\"graph0\" transform=\"scale(1 1) rotate(0) translate(4 184)\">\n",
       "<title>G</title>\n",
       "<!-- a -->\n",
       "<g class=\"node\" id=\"node1\"><title>a</title>\n",
       "<g id=\"a_node1\"><a xlink:title=\"(0) a\">\n",
       "<ellipse cx=\"27\" cy=\"-162\" fill=\"#444444\" rx=\"27\" ry=\"18\" stroke=\"black\"/>\n",
       "<text fill=\"#ffffff\" font-family=\"Times New Roman,serif\" font-size=\"14.00\" text-anchor=\"middle\" x=\"27\" y=\"-158.3\">a</text>\n",
       "</a>\n",
       "</g>\n",
       "</g>\n",
       "<!-- c -->\n",
       "<g class=\"node\" id=\"node2\"><title>c</title>\n",
       "<g id=\"a_node2\"><a xlink:title=\"(1) c\">\n",
       "<ellipse cx=\"27\" cy=\"-90\" fill=\"#444444\" rx=\"27\" ry=\"18\" stroke=\"black\"/>\n",
       "<text fill=\"#ffffff\" font-family=\"Times New Roman,serif\" font-size=\"14.00\" text-anchor=\"middle\" x=\"27\" y=\"-86.3\">c</text>\n",
       "</a>\n",
       "</g>\n",
       "</g>\n",
       "<!-- a&#45;&gt;c -->\n",
       "<g class=\"edge\" id=\"edge1\"><title>a-&gt;c</title>\n",
       "<g id=\"a_edge1\"><a xlink:title=\"(0, 1) : \">\n",
       "<path d=\"M27,-143.697C27,-135.983 27,-126.712 27,-118.112\" fill=\"none\" stroke=\"#000000\"/>\n",
       "<polygon fill=\"#000000\" points=\"30.5001,-118.104 27,-108.104 23.5001,-118.104 30.5001,-118.104\" stroke=\"#000000\"/>\n",
       "</a>\n",
       "</g>\n",
       "</g>\n",
       "<!-- e -->\n",
       "<g class=\"node\" id=\"node4\"><title>e</title>\n",
       "<g id=\"a_node4\"><a xlink:title=\"(3) e\">\n",
       "<ellipse cx=\"27\" cy=\"-18\" fill=\"#444444\" rx=\"27\" ry=\"18\" stroke=\"black\"/>\n",
       "<text fill=\"#ffffff\" font-family=\"Times New Roman,serif\" font-size=\"14.00\" text-anchor=\"middle\" x=\"27\" y=\"-14.3\">e</text>\n",
       "</a>\n",
       "</g>\n",
       "</g>\n",
       "<!-- c&#45;&gt;e -->\n",
       "<g class=\"edge\" id=\"edge2\"><title>c-&gt;e</title>\n",
       "<g id=\"a_edge2\"><a xlink:title=\"(1, 3) : \">\n",
       "<path d=\"M27,-71.6966C27,-63.9827 27,-54.7125 27,-46.1124\" fill=\"none\" stroke=\"#000000\"/>\n",
       "<polygon fill=\"#000000\" points=\"30.5001,-46.1043 27,-36.1043 23.5001,-46.1044 30.5001,-46.1043\" stroke=\"#000000\"/>\n",
       "</a>\n",
       "</g>\n",
       "</g>\n",
       "<!-- b -->\n",
       "<g class=\"node\" id=\"node3\"><title>b</title>\n",
       "<g id=\"a_node3\"><a xlink:title=\"(2) b\">\n",
       "<ellipse cx=\"99\" cy=\"-162\" fill=\"#444444\" rx=\"27\" ry=\"18\" stroke=\"black\"/>\n",
       "<text fill=\"#ffffff\" font-family=\"Times New Roman,serif\" font-size=\"14.00\" text-anchor=\"middle\" x=\"99\" y=\"-158.3\">b</text>\n",
       "</a>\n",
       "</g>\n",
       "</g>\n",
       "<!-- b&#45;&gt;c -->\n",
       "<g class=\"edge\" id=\"edge4\"><title>b-&gt;c</title>\n",
       "<g id=\"a_edge4\"><a xlink:title=\"(2, 1) : \">\n",
       "<path d=\"M84.4297,-146.834C74.2501,-136.938 60.4761,-123.546 48.9694,-112.359\" fill=\"none\" stroke=\"#000000\"/>\n",
       "<polygon fill=\"#000000\" points=\"51.4055,-109.846 41.7957,-105.385 46.5259,-114.865 51.4055,-109.846\" stroke=\"#000000\"/>\n",
       "</a>\n",
       "</g>\n",
       "</g>\n",
       "<!-- d -->\n",
       "<g class=\"node\" id=\"node5\"><title>d</title>\n",
       "<g id=\"a_node5\"><a xlink:title=\"(4) d\">\n",
       "<ellipse cx=\"99\" cy=\"-90\" fill=\"#444444\" rx=\"27\" ry=\"18\" stroke=\"black\"/>\n",
       "<text fill=\"#ffffff\" font-family=\"Times New Roman,serif\" font-size=\"14.00\" text-anchor=\"middle\" x=\"99\" y=\"-86.3\">d</text>\n",
       "</a>\n",
       "</g>\n",
       "</g>\n",
       "<!-- b&#45;&gt;d -->\n",
       "<g class=\"edge\" id=\"edge3\"><title>b-&gt;d</title>\n",
       "<g id=\"a_edge3\"><a xlink:title=\"(2, 4) : \">\n",
       "<path d=\"M99,-143.697C99,-135.983 99,-126.712 99,-118.112\" fill=\"none\" stroke=\"#000000\"/>\n",
       "<polygon fill=\"#000000\" points=\"102.5,-118.104 99,-108.104 95.5001,-118.104 102.5,-118.104\" stroke=\"#000000\"/>\n",
       "</a>\n",
       "</g>\n",
       "</g>\n",
       "</g>\n",
       "</svg>"
      ],
      "text/plain": [
       "(gum::BayesNet<double>@000001B8429BAD80) BN{nodes: 5, arcs: 4, domainSize: 32, parameters: 20, compression ratio: 37% }"
      ]
     },
     "execution_count": 15,
     "metadata": {},
     "output_type": "execute_result"
    }
   ],
   "source": [
    "myBN=gum.fastBN(\"a->c;b->c;c->e;b->d\")\n",
    "myBN"
   ]
  },
  {
   "cell_type": "code",
   "execution_count": 16,
   "metadata": {},
   "outputs": [
    {
     "data": {
      "text/html": [
       "<table>\n",
       "<tr style='background-color:#AAAAAA'><th colspan='2'><center>a</center></th></tr>\n",
       "<tr><th style='background-color:#BBBBBB'><center>0</center></th><th style='background-color:#BBBBBB'><center>1</center></th></tr>\n",
       "<tr><td style='background-color:#bfbf64;text-align:right;'>0.5000</td><td style='background-color:#bfbf64;text-align:right;'>0.5000</td></tr>\n",
       "</table>"
      ],
      "text/plain": [
       "(gum::Potential<double>@000001B8495EA750) <a:0> :: 0.5 /<a:1> :: 0.5"
      ]
     },
     "execution_count": 16,
     "metadata": {},
     "output_type": "execute_result"
    }
   ],
   "source": [
    "myBN.cpt('a').fillWith([0.5, 0.5])\n",
    "myBN.cpt('a')"
   ]
  },
  {
   "cell_type": "code",
   "execution_count": 17,
   "metadata": {},
   "outputs": [
    {
     "data": {
      "text/html": [
       "<table>\n",
       "<tr style='background-color:#AAAAAA'><th colspan='2'><center>b</center></th></tr>\n",
       "<tr><th style='background-color:#BBBBBB'><center>0</center></th><th style='background-color:#BBBBBB'><center>1</center></th></tr>\n",
       "<tr><td style='background-color:#bfbf64;text-align:right;'>0.5000</td><td style='background-color:#bfbf64;text-align:right;'>0.5000</td></tr>\n",
       "</table>"
      ],
      "text/plain": [
       "(gum::Potential<double>@000001B8495EAD90) <b:0> :: 0.5 /<b:1> :: 0.5"
      ]
     },
     "execution_count": 17,
     "metadata": {},
     "output_type": "execute_result"
    }
   ],
   "source": [
    "myBN.cpt('b').fillWith([0.5, 0.5])\n",
    "myBN.cpt('b')"
   ]
  },
  {
   "cell_type": "code",
   "execution_count": 18,
   "metadata": {},
   "outputs": [
    {
     "data": {
      "text/html": [
       "<table>\n",
       "<tr><th colspan='2'></th><th colspan='2' style='background-color:#AAAAAA'><center>c</center></th></tr>\n",
       "<tr><th style='background-color:#AAAAAA'><center>a</center></th><th style='background-color:#AAAAAA'><center>b</center></th><th style='background-color:#BBBBBB'><center>0</center></th><th style='background-color:#BBBBBB'><center>1</center></th></tr>\n",
       "<tr><th style='background-color:#BBBBBB'><center>0</center></th><th style='background-color:#BBBBBB;' rowspan = '2'><center>0</center></th><td style='background-color:#8bf264;text-align:right;'>0.9000</td><td style='background-color:#f28b64;text-align:right;'>0.1000</td></tr>\n",
       "<tr><th style='background-color:#BBBBBB'><center>1</center></th><td style='background-color:#bfbf64;text-align:right;'>0.5000</td><td style='background-color:#bfbf64;text-align:right;'>0.5000</td></tr>\n",
       "<tr><th style='background-color:#BBBBBB'><center>0</center></th><th style='background-color:#BBBBBB;' rowspan = '2'><center>1</center></th><td style='background-color:#bfbf64;text-align:right;'>0.5000</td><td style='background-color:#bfbf64;text-align:right;'>0.5000</td></tr>\n",
       "<tr><th style='background-color:#BBBBBB'><center>1</center></th><td style='background-color:#f28b64;text-align:right;'>0.1000</td><td style='background-color:#8bf264;text-align:right;'>0.9000</td></tr>\n",
       "</table>"
      ],
      "text/plain": [
       "(gum::Potential<double>@000001B8495EA6F0) <c:0|a:0|b:0> :: 0.9 /<c:1|a:0|b:0> :: 0.1 /<c:0|a:1|b:0> :: 0.5 /<c:1|a:1|b:0> :: 0.5 /<c:0|a:0|b:1> :: 0.5 /<c:1|a:0|b:1> :: 0.5 /<c:0|a:1|b:1> :: 0.1 /<c:1|a:1|b:1> :: 0.9"
      ]
     },
     "execution_count": 18,
     "metadata": {},
     "output_type": "execute_result"
    }
   ],
   "source": [
    "myBN.cpt('c')[1, 1, :] = [0.1, 0.9]\n",
    "myBN.cpt('c')[1, 0, :] = [0.5, 0.5]\n",
    "myBN.cpt('c')[0, 1, :] = [0.5, 0.5]\n",
    "myBN.cpt('c')[0, 0, :] = [0.9, 0.1]\n",
    "myBN.cpt('c')"
   ]
  },
  {
   "cell_type": "code",
   "execution_count": 19,
   "metadata": {},
   "outputs": [
    {
     "data": {
      "text/html": [
       "<table>\n",
       "<tr><th colspan='1'></th><th colspan='2' style='background-color:#AAAAAA'><center>e</center></th></tr>\n",
       "<tr><th style='background-color:#AAAAAA'><center>c</center></th><th style='background-color:#BBBBBB'><center>0</center></th><th style='background-color:#BBBBBB'><center>1</center></th></tr>\n",
       "<tr><th style='background-color:#BBBBBB'><center>0</center></th><td style='background-color:#8bf264;text-align:right;'>0.9000</td><td style='background-color:#f28b64;text-align:right;'>0.1000</td></tr>\n",
       "<tr><th style='background-color:#BBBBBB'><center>1</center></th><td style='background-color:#f28b64;text-align:right;'>0.1000</td><td style='background-color:#8bf264;text-align:right;'>0.9000</td></tr>\n",
       "</table>"
      ],
      "text/plain": [
       "(gum::Potential<double>@000001B8495EABD0) <e:0|c:0> :: 0.9 /<e:1|c:0> :: 0.1 /<e:0|c:1> :: 0.1 /<e:1|c:1> :: 0.9"
      ]
     },
     "execution_count": 19,
     "metadata": {},
     "output_type": "execute_result"
    }
   ],
   "source": [
    "myBN.cpt('e')[{'c': 1}] = [0.1, 0.9]\n",
    "myBN.cpt('e')[{'c': 0}] = [0.9, 0.1]\n",
    "myBN.cpt('e')"
   ]
  },
  {
   "cell_type": "code",
   "execution_count": 20,
   "metadata": {},
   "outputs": [
    {
     "data": {
      "text/html": [
       "<table>\n",
       "<tr><th colspan='1'></th><th colspan='2' style='background-color:#AAAAAA'><center>d</center></th></tr>\n",
       "<tr><th style='background-color:#AAAAAA'><center>b</center></th><th style='background-color:#BBBBBB'><center>0</center></th><th style='background-color:#BBBBBB'><center>1</center></th></tr>\n",
       "<tr><th style='background-color:#BBBBBB'><center>0</center></th><td style='background-color:#8bf264;text-align:right;'>0.9000</td><td style='background-color:#f28b64;text-align:right;'>0.1000</td></tr>\n",
       "<tr><th style='background-color:#BBBBBB'><center>1</center></th><td style='background-color:#f28b64;text-align:right;'>0.1000</td><td style='background-color:#8bf264;text-align:right;'>0.9000</td></tr>\n",
       "</table>"
      ],
      "text/plain": [
       "(gum::Potential<double>@000001B8495EA9B0) <d:0|b:0> :: 0.9 /<d:1|b:0> :: 0.1 /<d:0|b:1> :: 0.1 /<d:1|b:1> :: 0.9"
      ]
     },
     "execution_count": 20,
     "metadata": {},
     "output_type": "execute_result"
    }
   ],
   "source": [
    "myBN.cpt('d')[:] = [[0.9, 0.1], [0.1, 0.9]]\n",
    "myBN.cpt('d')"
   ]
  },
  {
   "cell_type": "markdown",
   "metadata": {},
   "source": [
    "### Comparer la P(A = 1, D = 1 |  E = 0) et la P(A = 1, D = 1)"
   ]
  },
  {
   "cell_type": "code",
   "execution_count": 21,
   "metadata": {},
   "outputs": [
    {
     "data": {
      "text/html": [
       "<table>\n",
       "<tr><th colspan='4'></th><th colspan='2' style='background-color:#AAAAAA'><center>c</center></th></tr>\n",
       "<tr><th style='background-color:#AAAAAA'><center>e</center></th><th style='background-color:#AAAAAA'><center>b</center></th><th style='background-color:#AAAAAA'><center>d</center></th><th style='background-color:#AAAAAA'><center>a</center></th><th style='background-color:#BBBBBB'><center>0</center></th><th style='background-color:#BBBBBB'><center>1</center></th></tr>\n",
       "<tr><th style='background-color:#BBBBBB'><center>0</center></th><th style='background-color:#BBBBBB;' rowspan = '2'><center>0</center></th><th style='background-color:#BBBBBB;' rowspan = '4'><center>0</center></th><th style='background-color:#BBBBBB;' rowspan = '8'><center>0</center></th><td style='background-color:#e79664;text-align:right;'>0.1823</td><td style='background-color:#fe7f64;text-align:right;'>0.0023</td></tr>\n",
       "<tr><th style='background-color:#BBBBBB'><center>1</center></th><td style='background-color:#fc8164;text-align:right;'>0.0203</td><td style='background-color:#fc8164;text-align:right;'>0.0203</td></tr>\n",
       "<tr><th style='background-color:#BBBBBB'><center>0</center></th><th style='background-color:#BBBBBB;' rowspan = '2'><center>1</center></th><td style='background-color:#fd8064;text-align:right;'>0.0113</td><td style='background-color:#fe7f64;text-align:right;'>0.0013</td></tr>\n",
       "<tr><th style='background-color:#BBBBBB'><center>1</center></th><td style='background-color:#fe7f64;text-align:right;'>0.0013</td><td style='background-color:#fd8064;text-align:right;'>0.0113</td></tr>\n",
       "<tr><th style='background-color:#BBBBBB'><center>0</center></th><th style='background-color:#BBBBBB;' rowspan = '2'><center>0</center></th><th style='background-color:#BBBBBB;' rowspan = '4'><center>1</center></th><td style='background-color:#fc8164;text-align:right;'>0.0203</td><td style='background-color:#fe7f64;text-align:right;'>0.0003</td></tr>\n",
       "<tr><th style='background-color:#BBBBBB'><center>1</center></th><td style='background-color:#fe7f64;text-align:right;'>0.0023</td><td style='background-color:#fe7f64;text-align:right;'>0.0023</td></tr>\n",
       "<tr><th style='background-color:#BBBBBB'><center>0</center></th><th style='background-color:#BBBBBB;' rowspan = '2'><center>1</center></th><td style='background-color:#f28b64;text-align:right;'>0.1013</td><td style='background-color:#fd8064;text-align:right;'>0.0113</td></tr>\n",
       "<tr><th style='background-color:#BBBBBB'><center>1</center></th><td style='background-color:#fd8064;text-align:right;'>0.0113</td><td style='background-color:#f28b64;text-align:right;'>0.1013</td></tr>\n",
       "<tr><th style='background-color:#BBBBBB'><center>0</center></th><th style='background-color:#BBBBBB;' rowspan = '2'><center>0</center></th><th style='background-color:#BBBBBB;' rowspan = '4'><center>0</center></th><th style='background-color:#BBBBBB;' rowspan = '8'><center>1</center></th><td style='background-color:#f28b64;text-align:right;'>0.1013</td><td style='background-color:#fd8064;text-align:right;'>0.0113</td></tr>\n",
       "<tr><th style='background-color:#BBBBBB'><center>1</center></th><td style='background-color:#fd8064;text-align:right;'>0.0113</td><td style='background-color:#f28b64;text-align:right;'>0.1013</td></tr>\n",
       "<tr><th style='background-color:#BBBBBB'><center>0</center></th><th style='background-color:#BBBBBB;' rowspan = '2'><center>1</center></th><td style='background-color:#fe7f64;text-align:right;'>0.0023</td><td style='background-color:#fe7f64;text-align:right;'>0.0023</td></tr>\n",
       "<tr><th style='background-color:#BBBBBB'><center>1</center></th><td style='background-color:#fe7f64;text-align:right;'>0.0003</td><td style='background-color:#fc8164;text-align:right;'>0.0203</td></tr>\n",
       "<tr><th style='background-color:#BBBBBB'><center>0</center></th><th style='background-color:#BBBBBB;' rowspan = '2'><center>0</center></th><th style='background-color:#BBBBBB;' rowspan = '4'><center>1</center></th><td style='background-color:#fd8064;text-align:right;'>0.0113</td><td style='background-color:#fe7f64;text-align:right;'>0.0013</td></tr>\n",
       "<tr><th style='background-color:#BBBBBB'><center>1</center></th><td style='background-color:#fe7f64;text-align:right;'>0.0013</td><td style='background-color:#fd8064;text-align:right;'>0.0113</td></tr>\n",
       "<tr><th style='background-color:#BBBBBB'><center>0</center></th><th style='background-color:#BBBBBB;' rowspan = '2'><center>1</center></th><td style='background-color:#fc8164;text-align:right;'>0.0203</td><td style='background-color:#fc8164;text-align:right;'>0.0203</td></tr>\n",
       "<tr><th style='background-color:#BBBBBB'><center>1</center></th><td style='background-color:#fe7f64;text-align:right;'>0.0023</td><td style='background-color:#e79664;text-align:right;'>0.1823</td></tr>\n",
       "</table>"
      ],
      "text/plain": [
       "(gum::Potential<double>@000001B84964C5E0) <c:0|e:0|b:0|d:0|a:0> :: 0.18225 /<c:1|e:0|b:0|d:0|a:0> :: 0.00225 /<c:0|e:1|b:0|d:0|a:0> :: 0.02025 /<c:1|e:1|b:0|d:0|a:0> :: 0.02025 /<c:0|e:0|b:1|d:0|a:0> :: 0.01125 /<c:1|e:0|b:1|d:0|a:0> :: 0.00125 /<c:0|e:1|b:1|d:0|a:0> :: 0.00125 /<c:1|e:1|b:1|d:0|a:0> :: 0.01125 /<c:0|e:0|b:0|d:1|a:0> :: 0.02025 /<c:1|e:0|b:0|d:1|a:0> :: 0.00025 /<c:0|e:1|b:0|d:1|a:0> :: 0.00225 /<c:1|e:1|b:0|d:1|a:0> :: 0.00225 /<c:0|e:0|b:1|d:1|a:0> :: 0.10125 /<c:1|e:0|b:1|d:1|a:0> :: 0.01125 /<c:0|e:1|b:1|d:1|a:0> :: 0.01125 /<c:1|e:1|b:1|d:1|a:0> :: 0.10125 /<c:0|e:0|b:0|d:0|a:1> :: 0.10125 /<c:1|e:0|b:0|d:0|a:1> :: 0.01125 /<c:0|e:1|b:0|d:0|a:1> :: 0.01125 /<c:1|e:1|b:0|d:0|a:1> :: 0.10125 /<c:0|e:0|b:1|d:0|a:1> :: 0.00225 /<c:1|e:0|b:1|d:0|a:1> :: 0.00225 /<c:0|e:1|b:1|d:0|a:1> :: 0.00025 /<c:1|e:1|b:1|d:0|a:1> :: 0.02025 /<c:0|e:0|b:0|d:1|a:1> :: 0.01125 /<c:1|e:0|b:0|d:1|a:1> :: 0.00125 /<c:0|e:1|b:0|d:1|a:1> :: 0.00125 /<c:1|e:1|b:0|d:1|a:1> :: 0.01125 /<c:0|e:0|b:1|d:1|a:1> :: 0.02025 /<c:1|e:0|b:1|d:1|a:1> :: 0.02025 /<c:0|e:1|b:1|d:1|a:1> :: 0.00225 /<c:1|e:1|b:1|d:1|a:1> :: 0.18225"
      ]
     },
     "execution_count": 21,
     "metadata": {},
     "output_type": "execute_result"
    }
   ],
   "source": [
    "pABCDE = myBN.cpt('a')*myBN.cpt('b')*myBN.cpt('c')*myBN.cpt('d')*myBN.cpt('e')\n",
    "pABCDE"
   ]
  },
  {
   "cell_type": "code",
   "execution_count": 22,
   "metadata": {},
   "outputs": [
    {
     "data": {
      "text/html": [
       "<table>\n",
       "<tr><th colspan='2'></th><th colspan='2' style='background-color:#AAAAAA'><center>e</center></th></tr>\n",
       "<tr><th style='background-color:#AAAAAA'><center>d</center></th><th style='background-color:#AAAAAA'><center>a</center></th><th style='background-color:#BBBBBB'><center>0</center></th><th style='background-color:#BBBBBB'><center>1</center></th></tr>\n",
       "<tr><th style='background-color:#BBBBBB'><center>0</center></th><th style='background-color:#BBBBBB;' rowspan = '2'><center>0</center></th><td style='background-color:#bebf64;text-align:right;'>0.5000</td><td style='background-color:#bfbf64;text-align:right;'>0.5000</td></tr>\n",
       "<tr><th style='background-color:#BBBBBB'><center>1</center></th><td style='background-color:#bebf64;text-align:right;'>0.5000</td><td style='background-color:#bfbf64;text-align:right;'>0.5000</td></tr>\n",
       "<tr><th style='background-color:#BBBBBB'><center>0</center></th><th style='background-color:#BBBBBB;' rowspan = '2'><center>1</center></th><td style='background-color:#bfbf64;text-align:right;'>0.5000</td><td style='background-color:#bfbf64;text-align:right;'>0.5000</td></tr>\n",
       "<tr><th style='background-color:#BBBBBB'><center>1</center></th><td style='background-color:#bfbf64;text-align:right;'>0.5000</td><td style='background-color:#bfbf64;text-align:right;'>0.5000</td></tr>\n",
       "</table>"
      ],
      "text/plain": [
       "(gum::Potential<double>@000001B84964C540) <e:0|d:0|a:0> :: 0.5 /<e:1|d:0|a:0> :: 0.5 /<e:0|d:1|a:0> :: 0.5 /<e:1|d:1|a:0> :: 0.5 /<e:0|d:0|a:1> :: 0.5 /<e:1|d:0|a:1> :: 0.5 /<e:0|d:1|a:1> :: 0.5 /<e:1|d:1|a:1> :: 0.5"
      ]
     },
     "execution_count": 22,
     "metadata": {},
     "output_type": "execute_result"
    }
   ],
   "source": [
    "pADgivenE = (pABCDE.margSumOut([\"b\",\"c\",\"e\"])/pABCDE.margSumOut([\"a\",\"b\",\"c\",\"d\"]))\n",
    "pADgivenE"
   ]
  },
  {
   "cell_type": "code",
   "execution_count": 23,
   "metadata": {},
   "outputs": [
    {
     "data": {
      "text/html": [
       "<table>\n",
       "<tr><th colspan='1'></th><th colspan='2' style='background-color:#AAAAAA'><center>d</center></th></tr>\n",
       "<tr><th style='background-color:#AAAAAA'><center>a</center></th><th style='background-color:#BBBBBB'><center>0</center></th><th style='background-color:#BBBBBB'><center>1</center></th></tr>\n",
       "<tr><th style='background-color:#BBBBBB'><center>0</center></th><td style='background-color:#df9f64;text-align:right;'>0.2500</td><td style='background-color:#df9f64;text-align:right;'>0.2500</td></tr>\n",
       "<tr><th style='background-color:#BBBBBB'><center>1</center></th><td style='background-color:#df9f64;text-align:right;'>0.2500</td><td style='background-color:#df9f64;text-align:right;'>0.2500</td></tr>\n",
       "</table>"
      ],
      "text/plain": [
       "(gum::Potential<double>@000001B84964C620) <d:0|a:0> :: 0.25 /<d:1|a:0> :: 0.25 /<d:0|a:1> :: 0.25 /<d:1|a:1> :: 0.25"
      ]
     },
     "execution_count": 23,
     "metadata": {},
     "output_type": "execute_result"
    }
   ],
   "source": [
    "pAD = pABCDE.margSumOut([\"b\", \"c\", \"e\"])\n",
    "pAD"
   ]
  },
  {
   "cell_type": "markdown",
   "metadata": {},
   "source": [
    "#### Conclusion $P(A=1,D=1\\mid E=0) \\neq P(A=1,D=1)$"
   ]
  },
  {
   "cell_type": "markdown",
   "metadata": {},
   "source": [
    "### Generer les donnees et les stocker en CSV"
   ]
  },
  {
   "cell_type": "code",
   "execution_count": 24,
   "metadata": {},
   "outputs": [
    {
     "name": "stdout",
     "output_type": "stream",
     "text": [
      " data\\myBN.csv : [ ########################################################### ] 100%\n",
      "Log2-Likelihood : -18551.792423042047\n"
     ]
    },
    {
     "data": {
      "text/plain": [
       "-18551.792423042047"
      ]
     },
     "execution_count": 24,
     "metadata": {},
     "output_type": "execute_result"
    }
   ],
   "source": [
    "gum.generateCSV(myBN,os.path.join(\"data\",\"myBN.csv\"),5000,True)"
   ]
  },
  {
   "cell_type": "code",
   "execution_count": 25,
   "metadata": {},
   "outputs": [
    {
     "data": {
      "text/html": [
       "<div>\n",
       "<style scoped>\n",
       "    .dataframe tbody tr th:only-of-type {\n",
       "        vertical-align: middle;\n",
       "    }\n",
       "\n",
       "    .dataframe tbody tr th {\n",
       "        vertical-align: top;\n",
       "    }\n",
       "\n",
       "    .dataframe thead th {\n",
       "        text-align: right;\n",
       "    }\n",
       "</style>\n",
       "<table border=\"1\" class=\"dataframe\">\n",
       "  <thead>\n",
       "    <tr style=\"text-align: right;\">\n",
       "      <th></th>\n",
       "      <th>d</th>\n",
       "      <th>e</th>\n",
       "      <th>b</th>\n",
       "      <th>c</th>\n",
       "      <th>a</th>\n",
       "    </tr>\n",
       "  </thead>\n",
       "  <tbody>\n",
       "    <tr>\n",
       "      <th>0</th>\n",
       "      <td>0</td>\n",
       "      <td>1</td>\n",
       "      <td>0</td>\n",
       "      <td>1</td>\n",
       "      <td>0</td>\n",
       "    </tr>\n",
       "    <tr>\n",
       "      <th>1</th>\n",
       "      <td>0</td>\n",
       "      <td>0</td>\n",
       "      <td>0</td>\n",
       "      <td>0</td>\n",
       "      <td>0</td>\n",
       "    </tr>\n",
       "    <tr>\n",
       "      <th>2</th>\n",
       "      <td>0</td>\n",
       "      <td>1</td>\n",
       "      <td>0</td>\n",
       "      <td>1</td>\n",
       "      <td>1</td>\n",
       "    </tr>\n",
       "    <tr>\n",
       "      <th>3</th>\n",
       "      <td>0</td>\n",
       "      <td>1</td>\n",
       "      <td>0</td>\n",
       "      <td>0</td>\n",
       "      <td>1</td>\n",
       "    </tr>\n",
       "    <tr>\n",
       "      <th>4</th>\n",
       "      <td>1</td>\n",
       "      <td>0</td>\n",
       "      <td>1</td>\n",
       "      <td>1</td>\n",
       "      <td>1</td>\n",
       "    </tr>\n",
       "  </tbody>\n",
       "</table>\n",
       "</div>"
      ],
      "text/plain": [
       "   d  e  b  c  a\n",
       "0  0  1  0  1  0\n",
       "1  0  0  0  0  0\n",
       "2  0  1  0  1  1\n",
       "3  0  1  0  0  1\n",
       "4  1  0  1  1  1"
      ]
     },
     "execution_count": 25,
     "metadata": {},
     "output_type": "execute_result"
    }
   ],
   "source": [
    "import pandas\n",
    "myDF = pandas.read_csv(os.path.join(\"data\",\"myBN.csv\"))\n",
    "myDF.head()"
   ]
  },
  {
   "cell_type": "code",
   "execution_count": 26,
   "metadata": {},
   "outputs": [
    {
     "data": {
      "text/html": [
       "<div>\n",
       "<style scoped>\n",
       "    .dataframe tbody tr th:only-of-type {\n",
       "        vertical-align: middle;\n",
       "    }\n",
       "\n",
       "    .dataframe tbody tr th {\n",
       "        vertical-align: top;\n",
       "    }\n",
       "\n",
       "    .dataframe thead th {\n",
       "        text-align: right;\n",
       "    }\n",
       "</style>\n",
       "<table border=\"1\" class=\"dataframe\">\n",
       "  <thead>\n",
       "    <tr style=\"text-align: right;\">\n",
       "      <th></th>\n",
       "      <th>d</th>\n",
       "      <th>e</th>\n",
       "      <th>a</th>\n",
       "    </tr>\n",
       "  </thead>\n",
       "  <tbody>\n",
       "    <tr>\n",
       "      <th>0</th>\n",
       "      <td>0</td>\n",
       "      <td>1</td>\n",
       "      <td>0</td>\n",
       "    </tr>\n",
       "    <tr>\n",
       "      <th>1</th>\n",
       "      <td>0</td>\n",
       "      <td>0</td>\n",
       "      <td>0</td>\n",
       "    </tr>\n",
       "    <tr>\n",
       "      <th>2</th>\n",
       "      <td>0</td>\n",
       "      <td>1</td>\n",
       "      <td>1</td>\n",
       "    </tr>\n",
       "    <tr>\n",
       "      <th>3</th>\n",
       "      <td>0</td>\n",
       "      <td>1</td>\n",
       "      <td>1</td>\n",
       "    </tr>\n",
       "    <tr>\n",
       "      <th>4</th>\n",
       "      <td>1</td>\n",
       "      <td>0</td>\n",
       "      <td>1</td>\n",
       "    </tr>\n",
       "  </tbody>\n",
       "</table>\n",
       "</div>"
      ],
      "text/plain": [
       "   d  e  a\n",
       "0  0  1  0\n",
       "1  0  0  0\n",
       "2  0  1  1\n",
       "3  0  1  1\n",
       "4  1  0  1"
      ]
     },
     "execution_count": 26,
     "metadata": {},
     "output_type": "execute_result"
    }
   ],
   "source": [
    "myDF = myDF.drop(['b', 'c'], axis=1)\n",
    "myDF.head()"
   ]
  },
  {
   "cell_type": "code",
   "execution_count": 27,
   "metadata": {},
   "outputs": [],
   "source": [
    "myDF.to_csv(os.path.join(\"data\",\"myBNbis.csv\"))"
   ]
  },
  {
   "cell_type": "markdown",
   "metadata": {},
   "source": [
    "### Apprendre les donnees et construire le BN sans BC"
   ]
  },
  {
   "cell_type": "code",
   "execution_count": 28,
   "metadata": {},
   "outputs": [
    {
     "data": {
      "text/html": [
       "<svg height=\"44pt\" viewBox=\"0.00 0.00 206.00 44.00\" width=\"206pt\" xmlns=\"http://www.w3.org/2000/svg\" xmlns:xlink=\"http://www.w3.org/1999/xlink\">\n",
       "<g class=\"graph\" id=\"graph0\" transform=\"scale(1 1) rotate(0) translate(4 40)\">\n",
       "<title>G</title>\n",
       "<!-- a -->\n",
       "<g class=\"node\" id=\"node1\"><title>a</title>\n",
       "<g id=\"a_node1\"><a xlink:title=\"(0) a\">\n",
       "<ellipse cx=\"27\" cy=\"-18\" fill=\"#444444\" rx=\"27\" ry=\"18\" stroke=\"black\"/>\n",
       "<text fill=\"#ffffff\" font-family=\"Times New Roman,serif\" font-size=\"14.00\" text-anchor=\"middle\" x=\"27\" y=\"-14.3\">a</text>\n",
       "</a>\n",
       "</g>\n",
       "</g>\n",
       "<!-- d -->\n",
       "<g class=\"node\" id=\"node2\"><title>d</title>\n",
       "<g id=\"a_node2\"><a xlink:title=\"(1) d\">\n",
       "<ellipse cx=\"99\" cy=\"-18\" fill=\"#444444\" rx=\"27\" ry=\"18\" stroke=\"black\"/>\n",
       "<text fill=\"#ffffff\" font-family=\"Times New Roman,serif\" font-size=\"14.00\" text-anchor=\"middle\" x=\"99\" y=\"-14.3\">d</text>\n",
       "</a>\n",
       "</g>\n",
       "</g>\n",
       "<!-- e -->\n",
       "<g class=\"node\" id=\"node3\"><title>e</title>\n",
       "<g id=\"a_node3\"><a xlink:title=\"(2) e\">\n",
       "<ellipse cx=\"171\" cy=\"-18\" fill=\"#444444\" rx=\"27\" ry=\"18\" stroke=\"black\"/>\n",
       "<text fill=\"#ffffff\" font-family=\"Times New Roman,serif\" font-size=\"14.00\" text-anchor=\"middle\" x=\"171\" y=\"-14.3\">e</text>\n",
       "</a>\n",
       "</g>\n",
       "</g>\n",
       "</g>\n",
       "</svg>"
      ],
      "text/plain": [
       "(gum::BayesNet<double>@000001B8499EB4F0) BN{nodes: 3, arcs: 0, domainSize: 8, parameters: 6, compression ratio: 24% }"
      ]
     },
     "execution_count": 28,
     "metadata": {},
     "output_type": "execute_result"
    }
   ],
   "source": [
    "myBN2=gum.BayesNet('WaterSprinkler')\n",
    "a, d, e = [ myBN2.add(name, 2) for name in \"ade\" ]\n",
    "myBN2"
   ]
  },
  {
   "cell_type": "code",
   "execution_count": 29,
   "metadata": {},
   "outputs": [],
   "source": [
    "myLearner=gum.BNLearner(os.path.join(\"data\",\"myBNbis.csv\"),myBN2)"
   ]
  },
  {
   "cell_type": "code",
   "execution_count": 30,
   "metadata": {},
   "outputs": [
    {
     "name": "stdout",
     "output_type": "stream",
     "text": [
      "Learned in 0.217982ms\n"
     ]
    },
    {
     "data": {
      "text/html": [
       "<table style=\"border-style: hidden; border-collapse: collapse;\" width=\"100%\"><tr><td style=\"border-top:hidden;border-bottom:hidden;\"><div align=\"center\" style=\"\"><svg height=\"116pt\" viewBox=\"0.00 0.00 134.00 116.00\" width=\"134pt\" xmlns=\"http://www.w3.org/2000/svg\" xmlns:xlink=\"http://www.w3.org/1999/xlink\">\n",
       "<g class=\"graph\" id=\"graph0\" transform=\"scale(1 1) rotate(0) translate(4 112)\">\n",
       "<title>G</title>\n",
       "<!-- a -->\n",
       "<g class=\"node\" id=\"node1\"><title>a</title>\n",
       "<g id=\"a_node1\"><a xlink:title=\"(0) a\">\n",
       "<ellipse cx=\"27\" cy=\"-90\" fill=\"#444444\" rx=\"27\" ry=\"18\" stroke=\"black\"/>\n",
       "<text fill=\"#ffffff\" font-family=\"Times New Roman,serif\" font-size=\"14.00\" text-anchor=\"middle\" x=\"27\" y=\"-86.3\">a</text>\n",
       "</a>\n",
       "</g>\n",
       "</g>\n",
       "<!-- e -->\n",
       "<g class=\"node\" id=\"node3\"><title>e</title>\n",
       "<g id=\"a_node3\"><a xlink:title=\"(2) e\">\n",
       "<ellipse cx=\"63\" cy=\"-18\" fill=\"#444444\" rx=\"27\" ry=\"18\" stroke=\"black\"/>\n",
       "<text fill=\"#ffffff\" font-family=\"Times New Roman,serif\" font-size=\"14.00\" text-anchor=\"middle\" x=\"63\" y=\"-14.3\">e</text>\n",
       "</a>\n",
       "</g>\n",
       "</g>\n",
       "<!-- a&#45;&gt;e -->\n",
       "<g class=\"edge\" id=\"edge2\"><title>a-&gt;e</title>\n",
       "<g id=\"a_edge2\"><a xlink:title=\"(0, 2) : \">\n",
       "<path d=\"M35.3496,-72.7646C39.7115,-64.2831 45.1469,-53.7144 50.0413,-44.1974\" fill=\"none\" stroke=\"#000000\"/>\n",
       "<polygon fill=\"#000000\" points=\"53.2346,-45.6409 54.6957,-35.1473 47.0096,-42.4395 53.2346,-45.6409\" stroke=\"#000000\"/>\n",
       "</a>\n",
       "</g>\n",
       "</g>\n",
       "<!-- d -->\n",
       "<g class=\"node\" id=\"node2\"><title>d</title>\n",
       "<g id=\"a_node2\"><a xlink:title=\"(1) d\">\n",
       "<ellipse cx=\"99\" cy=\"-90\" fill=\"#444444\" rx=\"27\" ry=\"18\" stroke=\"black\"/>\n",
       "<text fill=\"#ffffff\" font-family=\"Times New Roman,serif\" font-size=\"14.00\" text-anchor=\"middle\" x=\"99\" y=\"-86.3\">d</text>\n",
       "</a>\n",
       "</g>\n",
       "</g>\n",
       "<!-- d&#45;&gt;e -->\n",
       "<g class=\"edge\" id=\"edge1\"><title>d-&gt;e</title>\n",
       "<g id=\"a_edge1\"><a xlink:title=\"(1, 2) : \">\n",
       "<path d=\"M90.6504,-72.7646C86.2885,-64.2831 80.8531,-53.7144 75.9587,-44.1974\" fill=\"none\" stroke=\"#000000\"/>\n",
       "<polygon fill=\"#000000\" points=\"78.9904,-42.4395 71.3043,-35.1473 72.7654,-45.6409 78.9904,-42.4395\" stroke=\"#000000\"/>\n",
       "</a>\n",
       "</g>\n",
       "</g>\n",
       "</g>\n",
       "</svg></div></td><td style=\"border-top:hidden;border-bottom:hidden;\"><div align=\"center\" style=\"\"><div align='center'><svg height=\"116pt\" viewBox=\"0.00 0.00 134.00 116.00\" width=\"134pt\" xmlns=\"http://www.w3.org/2000/svg\" xmlns:xlink=\"http://www.w3.org/1999/xlink\">\n",
       "<g class=\"graph\" id=\"graph0\" transform=\"scale(1 1) rotate(0) translate(4 112)\">\n",
       "<title>G</title>\n",
       "<!-- a -->\n",
       "<g class=\"node\" id=\"node1\"><title>a</title>\n",
       "<g id=\"a_node1\"><a xlink:title=\"(0) a : 0.99988\">\n",
       "<ellipse cx=\"27\" cy=\"-90\" fill=\"#816ab0\" rx=\"27\" ry=\"18\" stroke=\"black\"/>\n",
       "<text fill=\"#ffffff\" font-family=\"Times New Roman,serif\" font-size=\"14.00\" text-anchor=\"middle\" x=\"27\" y=\"-86.3\">a</text>\n",
       "</a>\n",
       "</g>\n",
       "</g>\n",
       "<!-- e -->\n",
       "<g class=\"node\" id=\"node3\"><title>e</title>\n",
       "<g id=\"a_node3\"><a xlink:title=\"(2) e : 0.99972\">\n",
       "<ellipse cx=\"63\" cy=\"-18\" fill=\"#4d0102\" rx=\"27\" ry=\"18\" stroke=\"black\"/>\n",
       "<text fill=\"#ffffff\" font-family=\"Times New Roman,serif\" font-size=\"14.00\" text-anchor=\"middle\" x=\"63\" y=\"-14.3\">e</text>\n",
       "</a>\n",
       "</g>\n",
       "</g>\n",
       "<!-- a&#45;&gt;e -->\n",
       "<g class=\"edge\" id=\"edge2\"><title>a-&gt;e</title>\n",
       "<g id=\"a_edge2\"><a xlink:title=\"(0, 2) : 0.07092291979106603\">\n",
       "<path d=\"M35.3496,-72.7646C39.7115,-64.2831 45.1469,-53.7144 50.0413,-44.1974\" fill=\"none\" stroke=\"#000000\" stroke-width=\"5.1\"/>\n",
       "<polygon fill=\"#000000\" points=\"54.0906,-46.0811 54.6957,-35.1473 46.1537,-41.9993 54.0906,-46.0811\" stroke=\"#000000\" stroke-width=\"5.1\"/>\n",
       "</a>\n",
       "</g>\n",
       "</g>\n",
       "<!-- d -->\n",
       "<g class=\"node\" id=\"node2\"><title>d</title>\n",
       "<g id=\"a_node2\"><a xlink:title=\"(1) d : 0.99995\">\n",
       "<ellipse cx=\"99\" cy=\"-90\" fill=\"#9898fd\" rx=\"27\" ry=\"18\" stroke=\"black\"/>\n",
       "<text fill=\"#000000\" font-family=\"Times New Roman,serif\" font-size=\"14.00\" text-anchor=\"middle\" x=\"99\" y=\"-86.3\">d</text>\n",
       "</a>\n",
       "</g>\n",
       "</g>\n",
       "<!-- d&#45;&gt;e -->\n",
       "<g class=\"edge\" id=\"edge1\"><title>d-&gt;e</title>\n",
       "<g id=\"a_edge1\"><a xlink:title=\"(1, 2) : 0.048123583746404935\">\n",
       "<path d=\"M90.6504,-72.7646C86.2885,-64.2831 80.8531,-53.7144 75.9587,-44.1974\" fill=\"none\" stroke=\"#000000\" stroke-width=\"0.1\"/>\n",
       "<polygon fill=\"#000000\" points=\"78.9904,-42.4395 71.3043,-35.1473 72.7654,-45.6409 78.9904,-42.4395\" stroke=\"#000000\" stroke-width=\"0.1\"/>\n",
       "</a>\n",
       "</g>\n",
       "</g>\n",
       "</g>\n",
       "</svg></div><div align='center'><font color='#4d0102'>0.999719178799983</font><img style='vertical-align:middle' src='data:image/png;base64,iVBORw0KGgoAAAANSUhEUgAAAiQAAABRCAYAAADig70rAAAABHNCSVQICAgIfAhkiAAAAAlwSFlz\n",
       "AAALEgAACxIB0t1+/AAAADl0RVh0U29mdHdhcmUAbWF0cGxvdGxpYiB2ZXJzaW9uIDMuMC4yLCBo\n",
       "dHRwOi8vbWF0cGxvdGxpYi5vcmcvOIA7rQAACQ9JREFUeJzt3XuoZVUdwPHvz8bU8dU4NwXzUQpS\n",
       "FjJKCL3URHJMzEpDe8Ckkv4RkZCBGJQZgmZgkGFUVCrVhG8lMcVHRirTqDM65msaBzOhGgxzzByc\n",
       "fv2x171z7r0zd865c+5Z+9zz/cDi7LP2OnuvtX/n8Ttn77N3ZCaSJEk17VS7A5IkSSYkkiSpOhMS\n",
       "SZJUnQmJJEmqzoREkiRVZ0IiSZKqMyGRJEnVmZBIkqTqTEgkSVJ1C3ppvG9Ebtpuq+iqOrbVbqYH\n",
       "b/chMzeYmBvdrru7sXTRsdKqP+PY0mwW23DqvVmOpb0x6W053T1sMNtkel9muU22+bAKz9PZxmVH\n",
       "192nbTj90dtbXn9j0TSd8lztdt3brJ7dNtl2TPr9fjXzOGJ77bpZZp/GUjsms98m3b7Gt9/ohRce\n",
       "+V1mLu1yxTPqKSHZBBwz8aQaH9B4YCbf32b9xBvO1PodX+bE/DnrY9uXNwx9bPvydnyZo/Y8nD7e\n",
       "9vVx+JY3DH1s1/JG8XnY7/ea2WzD886LMfrEXTaSJKk6ExJJklSdCYkkSarOhESSJFVnQiJJkqoz\n",
       "IZEkSdWZkEiSpOpMSCRJUnUmJJIkqToTEkmSVJ0JiSRJqs6ERJIkVWdCIkmSqjMhkSRJ1ZmQSJKk\n",
       "6kxIJElSdSYkkiSpOhMSSZJUnQmJJEmqzoREkiRVZ0IiSZKqMyGRJEnVmZBIkqTqTEgkSVJ1JiSS\n",
       "JKk6ExJJklSdCYkkSarOhESSJFVnQiJJkqozIZEkSdWZkEiSpOoiM7tvHHEnMDZ33Rk6Y8CG2p1Q\n",
       "z4zb8DJ2w8m4Da/txW5DZi7tx4p6Skg0WUSszMz31+6HemPchpexG07GbXgNMnbuspEkSdWZkEiS\n",
       "pOpMSHbMj2t3QLNi3IaXsRtOxm14DSx2HkMiSZKq8xcSSZJU3cglJBGxNCKeiYi1EXHhVuYfHBH3\n",
       "RMTjEXF/RBzQMe/yiFhTyhkd9cdHxKOl/pqIWFDqvx4Rq0pZExGbI2KfMm99RDxR5q0cxNiH2YDj\n",
       "tndE3B4RqyPiyYg4q+MxyyLiuVKWzfW454MWxW5zx+vxtrke97AbcNwWRcTNZVkrIuJ93fZD07Uo\n",
       "dr19zmXmyBTgLcBfgEOAtwKrgcOntLkeWFamjweuK9MnA3cDC4DdgZXAXjRJ3V+Bw0q7S4BztrLu\n",
       "U4B7O+6vB8Zqb5NhKIOOG3ARcHmZfjvwclnvPsC6cruoTC+qvX3aXNoSu3J/Y+3tMSylQtyuAL5V\n",
       "pt8N3NNtPyztjF25v54ePudG7ReSo4G1mbkuMzcBy4FTp7Q5HLinTN/XMf9w4PeZ+WZmvkYT5KXA\n",
       "YuCNzHy2tLsbOG0r6/4s8Ou+jWS0DDpuCewZEQHsQfOh9iZwInB3Zr6cmf8qj+nLCYHmsbbETr0Z\n",
       "dNwmlpWZTwPvjIj9uuyHJmtL7Ho2agnJO2iyvHEvlrpOq9myoT9F8+a2uNSfFBELI2IM+ChwIM0Z\n",
       "7HaOiPETx5xe6idExEKaoN7YUZ3AXRHxSEScu8Mjm98GHbergPcALwFPAF/NzP912Q9N1pbYAewa\n",
       "ESsj4uGI+GTfRjg/DTpuq4FPA0TE0cDBwAFd9kOTtSV20OPn3KglJLGVuql/M7oAODYiHgOOBf4G\n",
       "vJmZdwF3AA/S/NLxUKlP4EzgyohYAbzK9G9kpwB/zMyXO+o+lJlHAScBX46IY3ZsaPPaoON2IrAK\n",
       "2B9YAlwVEXt12Q9N1pbYARyUzRknPwd8PyIO7dMY56NBx+0yYFFErAK+AjxW5vma611bYgc9fs4t\n",
       "6GmYw+9FJv96cQDNN6kJmfkSW7K9PYDTMvOVMu9S4NIy71fAc6X+IeAjpf5jwGFT1nsmU3bXlPWQ\n",
       "mf+IiJtpfmZ7YIdHOD8NOm5nAZeVF+HaiHieZt/oi8BxU/pxf5/GOF+1JXYrOl5z6yLifuBImn3t\n",
       "mm6gccvMf9PEjrK77flSFm6vH5qmLbHr/XNurg6saWOhScDWAe9iy8E+753SZgzYqUxfClySWw4U\n",
       "WlymjwDWAAvK/X3L7S40+9KO71je3jT7sXfvqNsd2LNj+kFgae3t09Yy6LgBVwMXl+n9aL49jNEc\n",
       "zPo8zQGti8r0PrW3T5tLi2K3CNilY33P4cGRbYrb29hy8PGXgGu77YeltbHr+XOu+sarEKyPA8/S\n",
       "fDP6Rqm7BPhEmT69vFk9C/y0401sV+DPpTwMLOlY5hXAU8AzwPlT1vdFYPmUukPKk2Q18OR4Pyzt\n",
       "iBvNz/130RyDsAb4Qse8s4G1pZxVe7sMQ2lD7IAPlrrV5XbaP+EsVeP2gbKsp4Gb6Pj32tb6YWl/\n",
       "7JjF55xnapUkSdWN2kGtkiSphUxIJElSdSYkkiSpOhMSSZJUnQmJJEmqbtROjCaNtIjYTPO313HL\n",
       "M/OyGdofB2zKzAfnum+SRpsJiTRaXs/MJT20Pw7YSHNSo0kiYkFmeuE6SX3heUikERIRGzNzj63U\n",
       "rweuobnu0s7AZ4D/0pwcaTPwT5rrVJxDc+bhI4FHac7y+DOakyD9Bzg3Mx+PiIuBQ2ku6nUg8N3M\n",
       "/ElEXAfckJm3lvX+EvhNZt42V2OWNBw8hkQaLbtFxKqOckbHvA3ZXAjrauCCzFwP/Ai4MjOXZOYf\n",
       "SrvDgBMy82vAt4HHMvMI4CLg2o7lHQGcTHMmx29GxP40Z4Ucv+7F3jRnUL1jrgYraXi4y0YaLTPt\n",
       "srmp3D5CufDWNlyfmZvL9IcplzHPzHsjYnFJNABuzczXgdcj4j7g6My8JSJ+GBH7lnXc6G4fSWBC\n",
       "ImmLN8rtZmZ+b3itY3qmS51P3R88fv864PM0V8E+u8c+Spqn3GUjaSavAnvOMP8BmuRi/B85G7K5\n",
       "HDnAqRGxa0Qspjk49k+l/hfA+QCZ+WT/uyxpGPkLiTRadouIVR3378zMC2dofztwQ0ScSnNQ61QX\n",
       "Az+PiMdpDmpd1jFvBfBb4CDgO5n5EkBm/j0ingJumf0wJM03/stGUt+Vf9lszMzvbWXeQppzoRyV\n",
       "ma8Mum+S2sldNpIGJiJOAJ4GfmAyIqmTv5BIkqTq/IVEkiRVZ0IiSZKqMyGRJEnVmZBIkqTqTEgk\n",
       "SVJ1JiSSJKm6/wMqZD1CUPrUmAAAAABJRU5ErkJggg==\n",
       "'><font color='#9898fd'>0.9999538517275908</font></div></div></td></tr></table>"
      ],
      "text/plain": [
       "<IPython.core.display.HTML object>"
      ]
     },
     "metadata": {},
     "output_type": "display_data"
    }
   ],
   "source": [
    "myLearner.useK2([0,1,2])\n",
    "_bn2=myLearner.learnBN()\n",
    "print(\"Learned in {0}ms\".format(1000*myLearner.currentTime()))\n",
    "gnb.sideBySide(_bn2,gnb.getInformation(_bn2))"
   ]
  },
  {
   "cell_type": "code",
   "execution_count": 31,
   "metadata": {},
   "outputs": [
    {
     "data": {
      "text/plain": [
       "{'klPQ': 0.0,\n",
       " 'errorPQ': 0,\n",
       " 'klQP': 0.0,\n",
       " 'errorQP': 8,\n",
       " 'hellinger': 0.9999999999999999,\n",
       " 'bhattacharya': inf}"
      ]
     },
     "execution_count": 31,
     "metadata": {},
     "output_type": "execute_result"
    }
   ],
   "source": [
    "kl=gum.BruteForceKL(myBN2,_bn2)\n",
    "kl.compute()"
   ]
  },
  {
   "cell_type": "code",
   "execution_count": null,
   "metadata": {},
   "outputs": [],
   "source": []
  },
  {
   "cell_type": "code",
   "execution_count": null,
   "metadata": {},
   "outputs": [],
   "source": []
  }
 ],
 "metadata": {
  "kernelspec": {
   "display_name": "Python 3",
   "language": "python",
   "name": "python3"
  },
  "language_info": {
   "codemirror_mode": {
    "name": "ipython",
    "version": 3
   },
   "file_extension": ".py",
   "mimetype": "text/x-python",
   "name": "python",
   "nbconvert_exporter": "python",
   "pygments_lexer": "ipython3",
   "version": "3.7.2"
  }
 },
 "nbformat": 4,
 "nbformat_minor": 2
}
