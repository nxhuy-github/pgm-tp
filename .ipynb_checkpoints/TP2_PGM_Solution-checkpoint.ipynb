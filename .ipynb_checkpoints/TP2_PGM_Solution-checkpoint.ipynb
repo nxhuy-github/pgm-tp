{
 "cells": [
  {
   "cell_type": "markdown",
   "metadata": {},
   "source": [
    "# Master Data Science, Lyon 1\n",
    "# TP2 PGM (durée 6h) \n",
    "\n",
    "Alex Aussem (alexandre.aussem@univ-lyon1.fr)\n",
    "\n",
    "***\n",
    "\n",
    "## Chatbot with a sequence to sequence network and attention\n",
    "*************************************************************\n",
    "\n",
    "In this tutrial, you will learn how to teach a recurrent neural network to anwers various questions about the admission to the master in Data Science of Lyon 1** to varying degrees of success... \n",
    "\n",
    "From Siri to Google Translate, deep neural networks have enabled breakthroughs in machine understanding of natural language. Most of these models treat language as a flat sequence of words or characters, and use a kind of model called a recurrent neural network (RNN) to process this sequence\n",
    "\n",
    "The code was adapated by Alex Aussem from the Pytorch example \"Translation with a Sequence to Sequence Network and Attention\". **Author**: `Sean Robertson <https://github.com/spro/practical-pytorch>`\n",
    "\n",
    "Sentences are in French. Example: [> input, = target, < output]\n",
    "\n",
    "    \n",
    "    > pourriez vous me renseigner ?\n",
    "    = oui volontiers d ou venez vous ?\n",
    "    < oui volontiers <EOS>\n",
    "\n",
    "    > quel est le corps professoral ?\n",
    "    = il est compose de chercheurs du liris \n",
    "    < il est compose de chercheurs du liris  <EOS>\n",
    "    \n",
    "To deal with these types of variable-length input and output, we need to use a recurrent neural network (RNN). Feed-forward neural networks, such as convolutional neural networks, do not maintain internal state other than the network’s own parameters. An RNN maintains its internal state while reading a sequence of inputs, which in our case will be a sequence of words, thereby being able to process an input of any length.\n",
    "\n",
    "This is made possible by the simple but powerful idea of the `sequence\n",
    "to sequence network <http://arxiv.org/abs/1409.3215>`, in which two\n",
    "recurrent neural networks work together to transform one sequence to\n",
    "another. An encoder network condenses an input sequence into a vector,\n",
    "and a decoder network unfolds that vector into a new sequence.\n",
    "\n",
    "To improve upon this model we'll use an **attention mechanism**, which lets the decoder\n",
    "learn to focus over a specific range of the input sequence. The approach of incorporating attention mechanism has become one of the hottest topics in deep learning recently (<https://arxiv.org/abs/1507.01053>, <https://arxiv.org/abs/1409.0473>`).\n",
    "\n",
    "\n",
    "**Recommended Reading:**\n",
    "\n",
    "-  http://pytorch.org/ For installation instructions\n",
    "-  doc:`/beginner/deep_learning_60min_blitz` to get started with PyTorch in general\n",
    "-  doc:`/beginner/pytorch_with_examples` for a wide and deep overview\n",
    "\n",
    "\n",
    "It would also be useful to know about Sequence to Sequence networks and\n",
    "how they work:\n",
    "\n",
    "-  'Recursive Neural Networks with PyTorch with a recurrent tracker and TreeLSTM nodes\n",
    "    <https://devblogs.nvidia.com/parallelforall/recursive-neural-networks-pytorch>`\n",
    "-  `Learning Phrase Representations using RNN Encoder-Decoder for\n",
    "   Statistical Machine Translation <http://arxiv.org/abs/1406.1078>`\n",
    "-  `Sequence to Sequence Learning with Neural\n",
    "   Networks <http://arxiv.org/abs/1409.3215>`\n",
    "-  `Neural Machine Translation by Jointly Learning to Align and\n",
    "   Translate <https://arxiv.org/abs/1409.0473>`\n",
    "-  `A Neural Conversational Model <http://arxiv.org/abs/1506.05869>`\n",
    "-  `Sequence to Sequence Learning with Neural\n",
    "   Networks <http://arxiv.org/abs/1409.3215>`\n",
    "-  `Neural Machine Translation by Jointly Learning to Align and\n",
    "   Translate <https://arxiv.org/abs/1409.0473>`\n",
    "-  `A Neural Conversational Model <http://arxiv.org/abs/1506.05869>`\n"
   ]
  },
  {
   "cell_type": "code",
   "execution_count": 1,
   "metadata": {},
   "outputs": [],
   "source": [
    "from __future__ import unicode_literals, print_function, division\n",
    "from io import open\n",
    "import unicodedata\n",
    "import string\n",
    "import re\n",
    "import random\n",
    "import numpy as np\n",
    "\n",
    "import torch\n",
    "import torch.nn as nn\n",
    "from torch.autograd import Variable\n",
    "from torch import optim\n",
    "import torch.nn.functional as F"
   ]
  },
  {
   "cell_type": "code",
   "execution_count": 2,
   "metadata": {},
   "outputs": [],
   "source": [
    "%matplotlib inline"
   ]
  },
  {
   "cell_type": "code",
   "execution_count": 3,
   "metadata": {},
   "outputs": [],
   "source": [
    "import warnings\n",
    "warnings.filterwarnings(\"ignore\")"
   ]
  },
  {
   "cell_type": "markdown",
   "metadata": {},
   "source": [
    "Loading data files\n",
    "==================\n",
    "\n",
    "The data for this project is a set of questions/anwers pairs.\n"
   ]
  },
  {
   "cell_type": "markdown",
   "metadata": {},
   "source": [
    "We will be representing each word in a language as a one-hot\n",
    "vector, or giant vector of zeros except for a single one (at the index\n",
    "of the word). Compared to the dozens of characters that might exist in a\n",
    "language, there are many many more words, so the encoding vector is much\n",
    "larger. We will however cheat a bit and trim the data to only use a few\n",
    "hundred words per language."
   ]
  },
  {
   "cell_type": "markdown",
   "metadata": {},
   "source": [
    "We'll need a unique index per word to use as the inputs and targets of\n",
    "the networks later. To keep track of all this we will use a helper class\n",
    "called ``Lang`` which has word → index (``word2index``) and index → word\n",
    "(``index2word``) dictionaries, as well as a count of each word\n",
    "``word2count`` to use to later replace rare words.\n",
    "\n",
    "\n"
   ]
  },
  {
   "cell_type": "code",
   "execution_count": 4,
   "metadata": {},
   "outputs": [],
   "source": [
    "SOS_token = 0\n",
    "EOS_token = 1\n",
    "\n",
    "class Lang:\n",
    "    def __init__(self, name):\n",
    "        self.name = name\n",
    "        self.word2index = {}\n",
    "        self.word2count = {}\n",
    "        self.index2word = {0: \"SOS\", 1: \"EOS\"}\n",
    "        self.n_words = 2  # Count SOS and EOS\n",
    "\n",
    "    def addSentence(self, sentence):\n",
    "        for word in sentence.split():\n",
    "            if word == '':\n",
    "                print('****************',sentence)\n",
    "            self.addWord(word)\n",
    "         \n",
    "    def addWord(self, word):\n",
    "        if word not in self.word2index:\n",
    "            self.word2index[word] = self.n_words\n",
    "            self.word2count[word] = 1\n",
    "            self.index2word[self.n_words] = word\n",
    "            self.n_words += 1\n",
    "        else:\n",
    "            self.word2count[word] += 1"
   ]
  },
  {
   "cell_type": "markdown",
   "metadata": {},
   "source": [
    "The files are all in Unicode, to simplify we will turn Unicode\n",
    "characters to ASCII, make everything lowercase, and trim most\n",
    "punctuation.\n",
    "\n",
    "\n"
   ]
  },
  {
   "cell_type": "code",
   "execution_count": 5,
   "metadata": {},
   "outputs": [],
   "source": [
    "# Turn a Unicode string to plain ASCII, thanks to\n",
    "# http://stackoverflow.com/a/518232/2809427\n",
    "def unicodeToAscii(s):\n",
    "    return ''.join(\n",
    "        c for c in unicodedata.normalize('NFD', s)\n",
    "        if unicodedata.category(c) != 'Mn'\n",
    "    )\n",
    "\n",
    "# Lowercase, trim, and remove non-letter characters except digits\n",
    "def normalizeString(s):\n",
    "    s = unicodeToAscii(s.lower().strip())\n",
    "    #s = re.sub(r\"([.!?])\", r\" \\1\", s)\n",
    "    #s = re.sub(r\"[^a-zA-Z.!?]+\", r\" \", s)\n",
    "    #s = re.sub(r\"[^a-zA-Z0-9?]+\", r\" \", s)\n",
    "    #s = re.sub(r\"[^a-zA-Z0-9?&\\'\\’\\%\\-]+\", r\" \", s)\n",
    "    s = re.sub(r\"[^a-zA-Z0-9?&\\%\\-]+\", r\" \", s)\n",
    "    return s"
   ]
  },
  {
   "cell_type": "code",
   "execution_count": 6,
   "metadata": {},
   "outputs": [
    {
     "name": "stdout",
     "output_type": "stream",
     "text": [
      "il eut ete bien de s inscrire en 2017 n est-ce pas ?\n"
     ]
    }
   ],
   "source": [
    "s=\"Il eût été bien de s'inscrire en 2017 !! N'est-ce pas ?\"\n",
    "s = normalizeString(s)\n",
    "print(s)"
   ]
  },
  {
   "cell_type": "markdown",
   "metadata": {},
   "source": [
    "To read the data file we will split the file into lines, and then split\n",
    "lines into pairs. If we want to infer the question from the answers, the ``reverse``\n",
    "flag is added to reverse the pairs.\n"
   ]
  },
  {
   "cell_type": "code",
   "execution_count": 7,
   "metadata": {},
   "outputs": [],
   "source": [
    "def readLangs(questions, answers, reverse=False):\n",
    "    print(\"Reading lines...\")\n",
    "        \n",
    "    lines = open('data/chatbot-M2-DS.txt', encoding='utf-8').\\\n",
    "        read().strip().split('\\n')\n",
    "    # Split every line into pairs and normalize\n",
    "    pairs = [[normalizeString(s) for s in l.split('\\t')] for l in lines]\n",
    "\n",
    "    # Reverse pairs, make Lang instances\n",
    "    if reverse:\n",
    "        pairs = [list(reversed(p)) for p in pairs]\n",
    "        input_lang = Lang(answers)\n",
    "        output_lang = Lang(questions)\n",
    "    else:\n",
    "        input_lang = Lang(questions)\n",
    "        output_lang = Lang(answers)\n",
    "\n",
    "    return input_lang, output_lang, pairs"
   ]
  },
  {
   "cell_type": "markdown",
   "metadata": {},
   "source": [
    "Here we set a limit to the length of input words (that includes ending punctuation + EOS token). The maximum input sentence length has to be determined in advance in order to parametrize the attention mechanism."
   ]
  },
  {
   "cell_type": "code",
   "execution_count": 8,
   "metadata": {},
   "outputs": [],
   "source": [
    "MAX_LENGTH = 12\n",
    "\n",
    "#stopwords = 'de du des d le la les l ce c ci ça m me ma si t sur n en s si a y au un une on il nous vous je j'.split()\n",
    "\n",
    "stopwords = []\n",
    "\n",
    "def TrimWordsSentence(sentence):\n",
    "    resultwords = [word for word in sentence.split() if word.lower() not in stopwords]\n",
    "    resultwords = ' '.join(resultwords)\n",
    "    return resultwords\n",
    "\n",
    "def TrimWords(pairs):\n",
    "    for pair in pairs: \n",
    "        pair[0] = TrimWordsSentence(pair[0])\n",
    "        #pair[1] = pair[1].strip()\n",
    "    return pairs\n",
    "\n",
    "def filterPair(p):\n",
    "    return len(p[0].split()) < MAX_LENGTH and \\\n",
    "        len(p[1].split()) < MAX_LENGTH \n",
    "\n",
    "def filterPairs(pairs):\n",
    "    return [pair for pair in pairs if filterPair(pair)]"
   ]
  },
  {
   "cell_type": "code",
   "execution_count": 9,
   "metadata": {},
   "outputs": [
    {
     "name": "stdout",
     "output_type": "stream",
     "text": [
      "Il eût été bien de s'inscrire en 2017 !! N'est-ce pas ?\n",
      "il eut ete bien de s inscrire en 2017 n est-ce pas ?\n",
      "il eut ete bien de s inscrire en 2017 n est-ce pas ?\n"
     ]
    }
   ],
   "source": [
    "s=\"Il eût été bien de s'inscrire en 2017 !! N'est-ce pas ?\"\n",
    "print(s)\n",
    "s = normalizeString(s)\n",
    "print(s)\n",
    "s = TrimWordsSentence(s)\n",
    "print(s)"
   ]
  },
  {
   "cell_type": "markdown",
   "metadata": {},
   "source": [
    "The full process for preparing the data is:\n",
    "\n",
    "-  Read text file and split into lines, split lines into pairs\n",
    "-  Normalize text, filter by length and content\n",
    "-  Make word lists from sentences in pairs\n",
    "\n",
    "\n"
   ]
  },
  {
   "cell_type": "code",
   "execution_count": 10,
   "metadata": {},
   "outputs": [],
   "source": [
    "def prepareData(lang1, lang2, reverse=False):\n",
    "    input_lang, output_lang, pairs = readLangs(lang1, lang2, reverse)\n",
    "    print(\"Read %s sentence pairs\" % len(pairs))\n",
    "    pairs = TrimWords(pairs)\n",
    "    \n",
    "    for pair in [pair for pair in pairs if not filterPair(pair)]:\n",
    "        print('%s (%d) -> %s (%d)' % (pair[0],len(pair[0].split()),pair[1],len(pair[1].split())))  \n",
    "    \n",
    "    pairs = filterPairs(pairs)\n",
    "    \n",
    "    print('')\n",
    "    print(\"Trimmed to %s sentence pairs\" % len(pairs))\n",
    "    print(\"Counting words...\")\n",
    "    for pair in pairs:\n",
    "        input_lang.addSentence(pair[0])\n",
    "        output_lang.addSentence(pair[1])\n",
    "        if '' in output_lang.word2index: print(pair[1].split())\n",
    "    print(\"Counted words:\")\n",
    "    print(input_lang.name, input_lang.n_words)\n",
    "    print(output_lang.name, output_lang.n_words)\n",
    "    return input_lang, output_lang, pairs"
   ]
  },
  {
   "cell_type": "code",
   "execution_count": 11,
   "metadata": {},
   "outputs": [
    {
     "name": "stdout",
     "output_type": "stream",
     "text": [
      "Reading lines...\n",
      "Read 193 sentence pairs\n",
      "si je n ai pas fait mon m1 a lyon 1 ? (12) -> 5 places pour ceux qui ont un m1 francais (9)\n",
      "\n",
      "Trimmed to 192 sentence pairs\n",
      "Counting words...\n",
      "Counted words:\n",
      "questions 244\n",
      "answers 198\n",
      "['quels sont les cours ?', 'il faut regarder sur notre site web']\n"
     ]
    }
   ],
   "source": [
    "input_lang, output_lang, pairs = prepareData('questions', 'answers', False)\n",
    "print(random.choice(pairs))\n",
    "#print(indexesFromSentence(input_lang,'bonjour'))\n",
    "#print(input_lang.index2word[102], '->',input_lang.word2index['bonjour'])"
   ]
  },
  {
   "cell_type": "code",
   "execution_count": 12,
   "metadata": {},
   "outputs": [
    {
     "name": "stdout",
     "output_type": "stream",
     "text": [
      "{'il', 'recherche', 'voudrais', 'j', 'bio', 'visualization', 'me', 'renseignements', 'par', 'dernier', 'suis', 'informatique', 'sont-ils', 'cordialement', 'quand', 'encore', 'annee', 'ects', 'annees', 'quels', 'detaillee', 'compris', 'pardon', 'possible', 'chimie', 'combien', 'samedis', 'pedagogie', 'aide', 'dure', 'learning', 'redoublants', 'passees', 'atouts', 'etudes', 'forme', 'bonjour', 'machine', 'puis-je', 'parcours', 'paris', 'a-t-il', 'angers', 'quoi', 'si', 'ai', 'le', 'date', 'alternance', 'tout', 'fais', 'enseignes', 'questions', 'contenu', 'besoin', 'renseignement', 'an', 'indecise', '1', 'unites', 'metier', 'pas', 'faire', 'formation', 'c', 'professionnel', 'est-ce', 's', 'ce', 'apres', 'auriez-vous', 'comment', 'metiers', 'etre', 'rappels', 'beaucoup', 'pourcentage', 'ancien', 'rentree', 'bien', 'strasbourg', 'sur', 'quelle', 'renseigner', 'big', 'professoral', 'interesse', 'marseille', 'deux', 'oriente', 'au', 'liens', 'merci', 'contact', 'ne', 'synergies', '2018', 'debouche', 'a', 'ues', 'etrangers', 'donnes', 'mes', 'these', 'avons-nous', 'sympa', 'peur', 'vacances', 'd', 'question', 'quel', 'enseignement', 'week-end', 'inscrire', 'pouvez', 'places', 'corps', 'peut', 'lyon', 'est-il', 'durs', 'langages', 'duree', 'pau', 'demandees', 'trouver', 'ans', 'prerequis', 'rater', 'postuler', 'ont', 'super', 'reconnu', 'difficile', 'avez-vous', 'salutations', 'peux', 'avoir', 'et', 'reims', 'votre', 'n', 'apprentissages', 'professeur', 'la', 'debouches', 'pour', 'detail', 'nantes', 'fait', 'prepare', 't-il', 'enseignants', 'cours', 'de', 'gentil', 'mentions', 'je', 'cursus', 'un', 'quelles', 'etranger', 'emploi', '2', 'viens', 'eleve', 'hesite', 'maquette', 'necessaires?', 'pro', 'programmation', 'consiste', 'cela', 'langue', 'embauche', 'peut-on', 'connaissances', 'dispenses', 'etudiants', 'doctorat', 'titulaire', 'du', 'veux', 'reputation', 'cours-ils', 'aime', 'science', 'aurais-je', 'en', 'faut', 'chaque', 'reussir', 'grenoble', 'gens', 'est', 'niveau', 'm2', 'aimerais', 'une', 'cools', 'l', 'rate', 'physique', 'indecis', 'souhaite', 'm', 'proposees', 'avec', 'on', 'des', 'entreprise', 'python', 'qui', 'monde', 'suivre', 'data', 'aider', 'intelligence', '?', 'artificielle', 'stage', 'pourriez-vous', 'fin', 'mathematiques', 'parallele', 'monsieur', 'candidats', 'y', 'qualite', 'graphes', 'dans', 'eu', 'inscriptions', 'master', 'm1', 'les', 'ou', 'vous', 'mining', 'ouvert', 'sont', 'temps'}\n"
     ]
    }
   ],
   "source": [
    "print(set(input_lang.word2index))"
   ]
  },
  {
   "cell_type": "code",
   "execution_count": 13,
   "metadata": {},
   "outputs": [
    {
     "name": "stdout",
     "output_type": "stream",
     "text": [
      "{'il', 'selection', 'septembre', 'mention', 'j', 'sa', 'pile', 'titulaires', 'suis', 'informatique', 'math', 'disponibles', 'cordialement', 'faites-vous', 'ects', 'nombreuses', 'bon', 'sciences', 'six', 'pardon', 'doivent', 'possible', 'face', 'mais', 'learning', 'pedagogie', 'choix', 'etudes', 'web', 'pourrez', 'bonjour', 'motivation', 'machine', 'posez', 'site', 'ai', 'le', 'tout', 'seul', 'questions', 'calendrier', 'an', 'francais', 'envoyee', 'environs', 'ecandidat', 'chercheurs', 'metier', 'pas', 'appliquees', 'faire', 'c', 'professionnel', 'lyonnais', 's', 'apres', 'ce', 'etre', 'piece', 'entre', 'rentree', 'rien', 'plutot', 'bien', '6', 'synergie', 'sur', 'fondee', 'profil', 'note', 'mois', 'mieux', 'scientist', 'big', 'renseigner', 'font', 'deux', 'rude', 'socle', 'au', 'merci', 'compose', 'ne', '2018', 'a', 'cents', 'ecl', 'etrangers', 'ceux', 'forte', 'vacances', 'd', 'question', 'prends', '20', 'quel', 'point', 'ue', 'non', '100%', 'places', 'anglais', 'jointe', 'ont', 'postuler', 'cas', 'essentiellement', 'ds', 'consulter', 'mars', 'et', 'agit', 'forum', 'votre', 'la', 'pour', 'aux', '10', 'ouverte', 'oublie', 'refaire', 'cours', 'de', 'bu', 'preferable', 'volontiers', 'je', 'un', 'oui', 'que', 'liris', '2', 'ouvre', 'trois', 'retours', 'milieu', 'tirez', 'connaissances', 'etudiants', 'du', 'reputation', 'en', 'faut', 'est', 'niveau', 'm2', 'se', 'une', 'l', 'avis', 'tps', 'contacter', 'venez', 'indifferencie', 'statistiques', '5', 'cinq', 'experience', 'regarder', 'academique', 'techniques', 'des', 'effectivement', 'python', 'qui', 'monde', 'vos', 'data', 'aider', 'hors', 'scolarite', '?', 'stage', 'acquerir', 'mathematiques', 'devient', 'y', 'assidument', 'graphes', 'dans', 'toujours', 'inscriptions', 'master', 'm1', 'ou', 'les', 'travailler', 'vous', 'sauf', 'dix', 'mining', 'notre', 'vingt', 'partir', 'sont', 'certains'}\n"
     ]
    }
   ],
   "source": [
    "print(set(output_lang.word2index))"
   ]
  },
  {
   "cell_type": "code",
   "execution_count": 14,
   "metadata": {},
   "outputs": [
    {
     "data": {
      "text/plain": [
       "[['quels sont les parcours ?',\n",
       "  'le m2 ouvre en informatique et mathematiques appliquees'],\n",
       " ['c est un m2 ou un m1 ?', 'c est un m2'],\n",
       " ['quels mentions ?', 'mention informatique ou mathematiques'],\n",
       " ['je souhaite m inscrire', 'les inscriptions 2018 se font sur ecandidat'],\n",
       " ['je veux m inscrire', 'les inscriptions 2018 se font sur ecandidat'],\n",
       " ['je souhaite postuler', 'les inscriptions 2018 se font sur ecandidat'],\n",
       " ['je souhaite postuler au master en 2018',\n",
       "  'les inscriptions se font sur ecandidat'],\n",
       " ['quels apprentissages ?',\n",
       "  'acquerir un socle de connaissances techniques en machine learning'],\n",
       " ['quels cours ?',\n",
       "  'acquerir un socle de connaissances techniques en machine learning'],\n",
       " ['les atouts de ce parcours ?',\n",
       "  'une pedagogie fondee sur de nombreuses etudes de cas'],\n",
       " ['quels atouts ?', 'une pedagogie fondee sur des retours d experience'],\n",
       " ['quelle pedagogie ?',\n",
       "  'une pedagogie fondee sur de nombreuses etudes de cas'],\n",
       " ['quel est le corps professoral ?', 'il est compose de chercheurs du liris '],\n",
       " ['quelles synergies ?',\n",
       "  'forte synergie entre milieu academique et monde professionnel'],\n",
       " ['des liens avec le monde professionnel ?',\n",
       "  'forte synergie entre milieu academique et monde professionnel'],\n",
       " ['dans quelle langue ?', 'en francais certains cours sont en anglais'],\n",
       " ['doctorat ?', 'oui c est possible apres le master'],\n",
       " ['these ?', 'oui c est possible apres le master'],\n",
       " ['quelle date de rentree ?', 'la rentree est le 5 septembre'],\n",
       " ['quand ?', 'c est le 5 septembre'],\n",
       " ['la date de rentree ?', 'le 5 septembre'],\n",
       " ['c est quand la rentree ?', 'le 5 septembre'],\n",
       " ['combien de places ?', 'il y a 20 places en tout'],\n",
       " ['quels sont les prerequis ?', 'les mathematiques et les statistiques'],\n",
       " ['si je suis etranger ?', 'il y a 10 places pour les etudiants etrangers'],\n",
       " ['si je viens de nantes ?', 'il y a 5 places'],\n",
       " ['si je viens de lyon ?', 'il y a 20 places'],\n",
       " ['si je viens de paris ?', 'il y a 5 places'],\n",
       " ['si je viens de marseille ?', 'il y a 5 places'],\n",
       " ['quelle date ?', 'c est le cinq septembre'],\n",
       " ['quand ?', 'le cinq septembre'],\n",
       " ['combien de places ?', 'il y a 20 places en tout'],\n",
       " ['il faut des prerequis ?', 'en mathematiques et statistiques oui'],\n",
       " ['comment faire si je suis etranger ?',\n",
       "  'il y a dix places aux etudiants hors ue'],\n",
       " ['si je viens de lyon ?', 'il y a vingt places pour les lyonnais'],\n",
       " ['si je viens de paris ?',\n",
       "  'cinq places pour les titulaires d un master francais'],\n",
       " ['si je viens de marseille ?', 'il y a 5 places'],\n",
       " ['quelle date est la rentree ?', 'la rentree est le 5 septembre 2018'],\n",
       " ['quand est-ce ?', 'le cinq septembre'],\n",
       " ['combien de places ?', 'il y a 20 places en tout'],\n",
       " ['y a-t-il des prerequis necessaires?',\n",
       "  'oui en mathematiques et statistiques'],\n",
       " ['si je suis etranger ?', 'il y a 10 places pour les etudiants etrangers'],\n",
       " ['si je viens de nantes ?',\n",
       "  'cinq places pour les titulaires d un master francais'],\n",
       " ['si je viens de lyon ?', 'il y a 20 places'],\n",
       " ['si je viens de pau ?',\n",
       "  'cinq places pour les titulaires d un master francais'],\n",
       " ['si je viens de marseille ?', '5 places pour ceux qui ont un m1 francais'],\n",
       " ['quelle date ?', 'le cinq septembre'],\n",
       " ['c est quand la rentree ?', 'le 5 septembre'],\n",
       " ['combien de places ?', 'il y a 20 places en tout'],\n",
       " ['quels sont les connaissances demandees ?', 'mathematiques et statistiques'],\n",
       " ['si je suis etranger ?', 'il y a 10 places pour les etudiants etrangers'],\n",
       " ['si je viens de nantes ?',\n",
       "  '5 places pour les titulaires d un master francais'],\n",
       " ['si je viens de lyon ?', 'il y a 20 places pour vous'],\n",
       " ['si je viens de reims ?',\n",
       "  'cinq places pour les titulaires d un master francais'],\n",
       " ['si je viens de marseille ?', '5 places pour ceux qui ont un m1 francais'],\n",
       " ['a quelle date ?', 'le 5 septembre 2018'],\n",
       " ['quand ?', 'c est le 5 septembre 2018'],\n",
       " ['combien de places en tout ?', 'il y a 20 places en tout'],\n",
       " ['quels prerequis ?', 'mathematiques et statistiques'],\n",
       " ['et pour les etrangers ?', 'il y a 10 places pour les etudiants etrangers'],\n",
       " ['si je viens de angers ?',\n",
       "  '5 places pour les titulaires d un master francais'],\n",
       " ['si je viens de paris ?',\n",
       "  '5 places pour les titulaires d un master francais'],\n",
       " ['si je viens de grenoble ?', '5 places pour ceux qui ont un m1 francais'],\n",
       " ['le master forme a quel metier ?', 'au metier de data scientist'],\n",
       " ['le master forme a quels metiers ?', 'au metier de data scientist'],\n",
       " ['le master prepare a quel emploi ?', 'au metier de data scientist'],\n",
       " ['le master prepare a quel metier ?', 'au metier de data scientist'],\n",
       " ['quels sont les debouches ?', 'les data sciences'],\n",
       " ['cela debouche sur quoi ?', 'au metier de data scientist'],\n",
       " ['quel metier apres ?', 'le metier de data scientist'],\n",
       " ['c est un formation de qualite', 'merci'],\n",
       " ['c est un super master', 'merci'],\n",
       " ['c est un master reconnu', 'oui il le devient'],\n",
       " ['je suis interesse', 'merci j en prends note'],\n",
       " ['j aimerais faire votre master', 'merci j en prends note'],\n",
       " ['je veux faire ce master', 'merci j en prends note'],\n",
       " ['votre master m interesse', 'merci j en prends note'],\n",
       " ['cordialement', 'cordialement'],\n",
       " ['salutations', 'cordialement'],\n",
       " ['bonjour', 'bonjour'],\n",
       " ['bonjour monsieur', 'bonjour'],\n",
       " ['bonjour professeur', 'bonjour'],\n",
       " ['merci monsieur', 'de rien'],\n",
       " ['merci bien', 'de rien'],\n",
       " ['merci de votre aide', 'de rien'],\n",
       " ['merci pour les renseignements', 'de rien'],\n",
       " ['c est gentil', 'merci'],\n",
       " ['pourriez-vous me renseigner', 'oui volontiers quel est votre profil ?'],\n",
       " ['j ai besoin d aide', 'oui volontiers quel est votre profil ?'],\n",
       " ['j ai une question', 'oui posez votre question'],\n",
       " ['j ai des questions', 'oui posez vos questions'],\n",
       " ['c est possible de s inscrire ?', 'oui d ou venez vous ?'],\n",
       " ['mes salutations', 'bonjour'],\n",
       " ['il y a un stage a faire ?', 'oui de six mois a partir de mars'],\n",
       " ['il faut faire un stage ?', 'oui de six mois a partir de mars'],\n",
       " ['la duree du stage ?', 'six mois'],\n",
       " ['le stage dure combien de temps ?', 'six mois'],\n",
       " ['il faut etre titulaire d un master en informatique ?',\n",
       "  'oui c est preferable'],\n",
       " ['j ai un master un en bio informatique',\n",
       "  'il faut refaire un master un en informatique'],\n",
       " ['j ai un master un en mathematiques', 'il faut postuler au master ds math'],\n",
       " ['j ai un master un en chimie',\n",
       "  'il faut refaire un master un en informatique'],\n",
       " ['j ai fait master un en bio informatique',\n",
       "  'il faut refaire un master un en informatique'],\n",
       " ['j ai fait master un en mathematiques',\n",
       "  'il faut postuler au master ds math'],\n",
       " ['j ai un master un en physique',\n",
       "  'il faut refaire un master un en informatique'],\n",
       " ['quel est le contenu de la formation ?',\n",
       "  'il faut regarder sur notre site web'],\n",
       " ['quels sont les cours dispenses ?', 'il faut regarder sur notre site web'],\n",
       " ['quels sont les cours donnes ?', 'il faut regarder sur notre site web'],\n",
       " ['quels sont les cours enseignes ?', 'il faut regarder sur notre site web'],\n",
       " ['quels sont les cours ?', 'il faut regarder sur notre site web'],\n",
       " ['quelles sont les unites d enseignement ?',\n",
       "  'il faut regarder sur notre site web'],\n",
       " ['il y a des cours de graphes ?', 'oui'],\n",
       " ['il y a des cours de data visualization ?', 'oui'],\n",
       " ['il y a des cours de big data ?', 'oui il y a un cours en big data'],\n",
       " ['il y a des cours de python ?', 'oui il y a des tps de python'],\n",
       " ['il y a des cours de data mining ?', 'oui il y a un cours de data mining'],\n",
       " ['il y a des cours de graphes ?', 'oui il y a un cours de graphes'],\n",
       " ['il y a des cours de machine learning ?',\n",
       "  'oui il y a 2 cours de machine learning'],\n",
       " ['il y a des rappels de mathematiques ?',\n",
       "  'oui pour les etudiants de ds informatique'],\n",
       " ['il y a des rappels d informatique ?', 'oui pour les etudiants de ds math'],\n",
       " ['quels langages de programmation ?', 'python essentiellement'],\n",
       " ['il y a des cours de graphes ?', 'oui'],\n",
       " ['il y a de la data visualization ?', 'oui'],\n",
       " ['il y a du big data ?', 'oui'],\n",
       " ['il y a du python ?', 'oui'],\n",
       " ['y a-t-il du data mining ?', 'oui'],\n",
       " ['il y a des cours de graphes ?', 'oui'],\n",
       " ['il y a des cours de machine learning ?',\n",
       "  'oui il y a 2 cours de machine learning'],\n",
       " ['il y a des rappels de mathematiques ?',\n",
       "  'oui pour les etudiants de ds informatique'],\n",
       " ['il y a des rappels d informatique ?', 'oui pour les etudiants de ds math'],\n",
       " ['combien d ects par cours ?', 'trois ects'],\n",
       " ['il y a combien de candidats ?',\n",
       "  'deux cents environs la selection est rude'],\n",
       " ['il y a beaucoup de candidats chaque annee ?',\n",
       "  'deux cents environs la selection est rude'],\n",
       " ['le niveau est-il eleve ?', 'le niveau est plutot bon oui '],\n",
       " ['quel est le niveau ?', 'le niveau est plutot bon'],\n",
       " ['les cours sont durs ?', 'non mais il faut travailler assidument'],\n",
       " ['le master est-il difficile a suivre ?',\n",
       "  'non mais il faut travailler assidument'],\n",
       " ['les cours-ils difficile a suivre ?',\n",
       "  'non mais il faut travailler assidument'],\n",
       " ['vous pouvez m aider ?', 'oui je suis la pour vous renseigner'],\n",
       " ['j ai besoin d aide', 'je suis la pour vous renseigner'],\n",
       " ['j ai besoin d un renseignement', 'je suis la pour vous renseigner'],\n",
       " ['j ai besoin de renseignements', 'je suis la pour vous renseigner'],\n",
       " ['j ai des questions', 'je suis la pour vous aider'],\n",
       " ['le master est-il ouvert en alternance ?', 'non'],\n",
       " ['on peut le faire en alternance ?', 'non'],\n",
       " ['on peut faire ce m2 en alternance ?', 'non'],\n",
       " ['il est possible de faire ce m2 en alternance ?', 'non'],\n",
       " ['comment faire pour s inscrire ?', 'il faut contacter la scolarite'],\n",
       " ['et pour s inscrire je fais comment ?', 'il faut contacter la scolarite'],\n",
       " ['est-il encore possible de s inscrire ?', 'il faut contacter la scolarite'],\n",
       " ['je voudrais m inscrire', '', 'il faut contacter la scolarite'],\n",
       " ['et pour les inscriptions on fait comment ?',\n",
       "  'il faut contacter la scolarite'],\n",
       " ['est-il encore possible de s inscrire ?', 'il faut consulter le calendrier'],\n",
       " ['puis-je encore m inscrire ?', 'il faut consulter le calendrier'],\n",
       " ['je peux encore m inscrire ?', 'il faut consulter le calendrier'],\n",
       " ['c est un master en 2 ans ?', 'non c est un m2 d un an '],\n",
       " ['est-ce un master en deux ans ?', 'non c est un m2 d un an '],\n",
       " ['le master dure 2 ans ?', 'non c est un m2 d un an '],\n",
       " ['c est un master en 1 an ?', 'oui c est un m2 d un an '],\n",
       " ['est-ce un master en un an ?', 'oui c est un m2 d un an '],\n",
       " ['le master dure un an ?', 'oui c est un m2 d un an'],\n",
       " ['y a t-il eu des redoublants les annees passees ?', 'non un seul'],\n",
       " ['est-ce un master oriente recherche ou entreprise ?',\n",
       "  'il s agit d un m2 indifferencie'],\n",
       " ['avez-vous une maquette detaillee de ce master ?',\n",
       "  'oui je vous l ai envoyee en piece jointe'],\n",
       " ['ou puis-je trouver le detail des ues proposees ?',\n",
       "  'sur le site du master '],\n",
       " ['est-ce un master pro ou recherche ?', 'il s agit d un m2 indifferencie'],\n",
       " ['auriez-vous une maquette de ce master ?',\n",
       "  'oui je vous l ai envoyee en piece jointe'],\n",
       " ['peut-on faire un stage en entreprise ?', 'oui'],\n",
       " ['je viens de strasbourg', 'il y a cinq places disponibles dans ce master '],\n",
       " ['aurais-je des vacances ?',\n",
       "  'les vacances ne doivent pas etre votre motivation '],\n",
       " ['quel est la reputation du master ?',\n",
       "  'c est a vous de faire sa reputation '],\n",
       " ['quel est le pourcentage d embauche en fin d etudes ?',\n",
       "  'en data sciences 100% '],\n",
       " ['comment sont les enseignants ?', 'a vous de vous faire votre avis '],\n",
       " ['je suis indecis', 'tirez a pile ou face '],\n",
       " ['je suis indecise', 'tirez a pile ou face '],\n",
       " ['quel est le temps a lyon ?', 'plutot bon '],\n",
       " ['les gens sont-ils cools a lyon ?', 'a vous de vous faire votre avis '],\n",
       " ['les gens sont-ils sympa a lyon ?', 'a vous de vous faire votre avis '],\n",
       " ['j ai peur de ne pas reussir', 'c est toujours mieux que ne rien faire '],\n",
       " ['j ai peur de rater', 'c est toujours mieux que ne rien faire '],\n",
       " ['combien d etudiants ont rate l an dernier ?', 'un seul '],\n",
       " ['j hesite avec le master intelligence artificielle',\n",
       "  'il faut effectivement faire un choix '],\n",
       " ['peut-on suivre deux cursus en parallele',\n",
       "  'non sauf les etudiants de l ecl '],\n",
       " ['j aime la data science', 'c est un bon point '],\n",
       " ['je n aime pas la data science', 'que faites-vous sur ce forum ?'],\n",
       " ['avons-nous cours les samedis ?',\n",
       "  'non mais vous pourrez travailler a la bu'],\n",
       " ['avons-nous cours le week-end ?', 'non mais la bu est ouverte'],\n",
       " ['puis-je avoir le contact d un ancien eleve ?', 'oui bien sur'],\n",
       " ['peut-on faire le master en alternance ?', 'non'],\n",
       " ['je n ai pas compris', 'j ai oublie votre question pardon'],\n",
       " ['pardon ?', 'j ai oublie votre question pardon'],\n",
       " ['qui sont les enseignants du master ?', 'des chercheurs du liris'],\n",
       " ['en quoi le master consiste ?', '6 mois de cours et 5 mois de stage']]"
      ]
     },
     "execution_count": 14,
     "metadata": {},
     "output_type": "execute_result"
    }
   ],
   "source": [
    "pairs"
   ]
  },
  {
   "cell_type": "markdown",
   "metadata": {},
   "source": [
    "The Seq2Seq Model\n",
    "=================\n",
    "\n",
    "A Recurrent Neural Network, or RNN, is a network that operates on a\n",
    "sequence and uses its own output as input for subsequent steps.\n",
    "\n",
    "A `Sequence to Sequence network <http://arxiv.org/abs/1409.3215>`__, or\n",
    "seq2seq network, or `Encoder Decoder\n",
    "network <https://arxiv.org/pdf/1406.1078v3.pdf>`__, is a model\n",
    "consisting of two RNNs called the encoder and decoder. The encoder reads\n",
    "an input sequence and outputs a single vector, and the decoder reads\n",
    "that vector to produce an output sequence.\n",
    "\n",
    "Unlike sequence prediction with a single RNN, where every input\n",
    "corresponds to an output, the seq2seq model frees us from sequence\n",
    "length and order, which makes it ideal for dialogue systems.\n",
    "\n",
    "With a seq2seq model the encoder creates a single vector which, in the\n",
    "ideal case, encodes the \"meaning\" of the input sequence into a single\n",
    "vector — a single point in some N dimensional space of sentences.\n",
    "\n",
    "\n"
   ]
  },
  {
   "cell_type": "markdown",
   "metadata": {},
   "source": [
    "The Encoder\n",
    "-----------\n",
    "\n",
    "The encoder of a seq2seq network is a RNN that outputs some value for\n",
    "every word from the input sentence. For every input word the encoder\n",
    "outputs a vector and a hidden state, and uses the hidden state for the\n",
    "next input word.\n"
   ]
  },
  {
   "cell_type": "code",
   "execution_count": 15,
   "metadata": {},
   "outputs": [],
   "source": [
    "class EncoderRNN(nn.Module):\n",
    "    def __init__(self, input_size, hidden_size, n_layers=1):\n",
    "        super(EncoderRNN, self).__init__()\n",
    "        self.n_layers = n_layers\n",
    "        self.hidden_size = hidden_size\n",
    "\n",
    "        self.embedding = nn.Embedding(input_size, hidden_size)\n",
    "        self.gru = nn.GRU(hidden_size, hidden_size)\n",
    "\n",
    "    def forward(self, input, hidden):\n",
    "        embedded = self.embedding(input).view(1, 1, -1)\n",
    "        output = embedded\n",
    "        for i in range(self.n_layers):\n",
    "            output, hidden = self.gru(output, hidden)\n",
    "        return output, hidden\n",
    "\n",
    "    def initHidden(self):\n",
    "        result = Variable(torch.zeros(1, 1, self.hidden_size))\n",
    "        return result"
   ]
  },
  {
   "cell_type": "markdown",
   "metadata": {},
   "source": [
    "A standard RNN Decoder\n",
    "-----------\n",
    "\n",
    "The decoder is another RNN that takes the encoder output vector(s) and\n",
    "outputs a sequence of words to produce the answer.\n",
    "\n",
    "\n"
   ]
  },
  {
   "cell_type": "markdown",
   "metadata": {},
   "source": [
    "**Simple Decoder**\n",
    "\n",
    "In the simplest seq2seq decoder we use only last output of the encoder.\n",
    "This last output is sometimes called the *context vector* as it encodes\n",
    "context from the entire sequence. This context vector is used as the\n",
    "initial hidden state of the decoder.\n",
    "\n",
    "At every step of decoding, the decoder is given an input token and\n",
    "hidden state. The initial input token is the start-of-string ``<SOS>``\n",
    "token, and the first hidden state is the context vector (the encoder's\n",
    "last hidden state).\n",
    "\n"
   ]
  },
  {
   "cell_type": "code",
   "execution_count": 16,
   "metadata": {},
   "outputs": [],
   "source": [
    "class DecoderRNN(nn.Module):\n",
    "    def __init__(self, hidden_size, output_size, n_layers=1):\n",
    "        super(DecoderRNN, self).__init__()\n",
    "        self.n_layers = n_layers\n",
    "        self.hidden_size = hidden_size\n",
    "\n",
    "        self.embedding = nn.Embedding(output_size, hidden_size)\n",
    "        self.gru = nn.GRU(hidden_size, hidden_size)\n",
    "        self.out = nn.Linear(hidden_size, output_size)\n",
    "        self.softmax = nn.LogSoftmax(dim=1)\n",
    "\n",
    "    def forward(self, input, hidden):\n",
    "        output = self.embedding(input).view(1, 1, -1)\n",
    "        for i in range(self.n_layers):\n",
    "            output = F.relu(output)\n",
    "            output, hidden = self.gru(output, hidden)\n",
    "        output = self.softmax(self.out(output[0]),dim=1)\n",
    "        return output, hidden\n",
    "\n",
    "    def initHidden(self):\n",
    "        result = Variable(torch.zeros(1, 1, self.hidden_size))\n",
    "        return result"
   ]
  },
  {
   "cell_type": "markdown",
   "metadata": {},
   "source": [
    "# Attention Decoder\n",
    "\n",
    "\n",
    "If only the context vector is passed betweeen the encoder and decoder,\n",
    "that single vector carries the burden of encoding the entire sentence.\n",
    "\n",
    "Attention allows the decoder network to \"focus\" on a different part of\n",
    "the encoder's outputs for every step of the decoder's own outputs. First\n",
    "we calculate a set of *attention weights*. These will be multiplied by\n",
    "the encoder output vectors to create a weighted combination. The result\n",
    "(called ``attn_applied`` in the code) should contain information about\n",
    "that specific part of the input sequence, and thus help the decoder\n",
    "choose the right output words.\n",
    "\n",
    "Calculating the attention weights is done with another feed-forward\n",
    "layer ``attn``, using the decoder's input and hidden state as inputs.\n",
    "Because there are sentences of all sizes in the training data, to\n",
    "actually create and train this layer we have to choose a maximum\n",
    "sentence length (input length, for encoder outputs) that it can apply\n",
    "to. Sentences of the maximum length will use all the attention weights,\n",
    "while shorter sentences will only use the first few.\n",
    "\n"
   ]
  },
  {
   "cell_type": "code",
   "execution_count": 17,
   "metadata": {},
   "outputs": [],
   "source": [
    "class AttnDecoderRNN(nn.Module):\n",
    "    def __init__(self, hidden_size, output_size, n_layers=1, dropout_p=0.1, max_length=MAX_LENGTH):\n",
    "        super(AttnDecoderRNN, self).__init__()\n",
    "        self.hidden_size = hidden_size\n",
    "        self.output_size = output_size\n",
    "        self.n_layers = n_layers\n",
    "        self.dropout_p = dropout_p\n",
    "        self.max_length = max_length\n",
    "\n",
    "        self.embedding = nn.Embedding(self.output_size, self.hidden_size)\n",
    "        self.attn = nn.Linear(self.hidden_size * 2, self.max_length)\n",
    "        self.attn_combine = nn.Linear(self.hidden_size * 2, self.hidden_size)\n",
    "        self.dropout = nn.Dropout(self.dropout_p)\n",
    "        self.gru = nn.GRU(self.hidden_size, self.hidden_size)\n",
    "        self.out = nn.Linear(self.hidden_size, self.output_size)\n",
    "\n",
    "    def forward(self, input, hidden, encoder_outputs):\n",
    "        embedded = self.embedding(input).view(1, 1, -1)\n",
    "        embedded = self.dropout(embedded)\n",
    "\n",
    "        attn_weights = F.softmax(\n",
    "            self.attn(torch.cat((embedded[0], hidden[0]), 1)))#, dim=1)\n",
    "        attn_applied = torch.bmm(attn_weights.unsqueeze(0),\n",
    "                                 encoder_outputs.unsqueeze(0))\n",
    "\n",
    "        output = torch.cat((embedded[0], attn_applied[0]), 1)\n",
    "        output = self.attn_combine(output).unsqueeze(0)\n",
    "\n",
    "        for i in range(self.n_layers):\n",
    "            output = F.relu(output)\n",
    "            output, hidden = self.gru(output, hidden)\n",
    "\n",
    "        output = F.log_softmax(self.out(output[0]))#, dim=1)\n",
    "        return output, hidden, attn_weights\n",
    "\n",
    "    def initHidden(self):\n",
    "        result = Variable(torch.zeros(1, 1, self.hidden_size))\n",
    "        return result"
   ]
  },
  {
   "cell_type": "markdown",
   "metadata": {},
   "source": [
    "Note: There are other forms of attention that work around the length\n",
    "  limitation by using a relative position approach. Read about \"local\n",
    "  attention\" in `Effective Approaches to Attention-based Neural Machine\n",
    "  Translation <https://arxiv.org/abs/1508.04025>`\n",
    "\n",
    "# Training\n",
    "\n",
    "\n",
    "Preparing Training Data\n",
    "-----------------------\n",
    "\n",
    "To train, for each pair we will need an input tensor (indexes of the\n",
    "words in the input sentence) and target tensor (indexes of the words in\n",
    "the target sentence). While creating these vectors we will append the\n",
    "EOS token to both sequences.\n",
    "\n",
    "\n"
   ]
  },
  {
   "cell_type": "code",
   "execution_count": 18,
   "metadata": {},
   "outputs": [],
   "source": [
    "def indexesFromSentence(lang, sentence):\n",
    "    return [lang.word2index[word] for word in sentence.split()]\n",
    "\n",
    "def variableFromSentence(lang, sentence):\n",
    "    indexes = indexesFromSentence(lang, sentence)\n",
    "    indexes.append(EOS_token)\n",
    "    result = Variable(torch.LongTensor(indexes).view(-1, 1))\n",
    "    return result\n",
    "\n",
    "def variablesFromPair(pair):\n",
    "    input_variable = variableFromSentence(input_lang, pair[0])\n",
    "    target_variable = variableFromSentence(output_lang, pair[1])\n",
    "    return (input_variable, target_variable)"
   ]
  },
  {
   "cell_type": "markdown",
   "metadata": {},
   "source": [
    "Training the Model\n",
    "------------------\n",
    "\n",
    "To train we run the input sentence through the encoder, and keep track\n",
    "of every output and the latest hidden state. Then the decoder is given\n",
    "the ``<SOS>`` token as its first input, and the last hidden state of the\n",
    "encoder as its first hidden state.\n",
    "\n",
    "\"Teacher forcing\" is the concept of using the real target outputs as\n",
    "each next input, instead of using the decoder's guess as the next input.\n",
    "Using teacher forcing causes it to converge faster but `when the trained\n",
    "network is exploited, it may exhibit\n",
    "instability <http://minds.jacobs-university.de/sites/default/files/uploads/papers/ESNTutorialRev.pdf>`.\n",
    "\n",
    "You can observe outputs of teacher-forced networks that read with\n",
    "coherent grammar but wander far from the correct answer -\n",
    "intuitively it has learned to represent the output grammar and can \"pick\n",
    "up\" the meaning once the teacher tells it the first few words, but it\n",
    "has not properly learned how to create the sentence from the answer\n",
    "in the first place.\n",
    "\n",
    "Because of the freedom PyTorch's autograd gives us, we can randomly\n",
    "choose to use teacher forcing or not with a simple if statement. Turn\n",
    "``teacher_forcing_ratio`` up to use more of it.\n",
    "\n",
    "\n"
   ]
  },
  {
   "cell_type": "code",
   "execution_count": 19,
   "metadata": {},
   "outputs": [],
   "source": [
    "teacher_forcing_ratio = 0.5\n",
    "\n",
    "def train(input_variable, target_variable, encoder, decoder, encoder_optimizer, decoder_optimizer, criterion, max_length=MAX_LENGTH):\n",
    "    encoder_hidden = encoder.initHidden()\n",
    "\n",
    "    encoder_optimizer.zero_grad()\n",
    "    decoder_optimizer.zero_grad()\n",
    "\n",
    "    input_length = input_variable.size()[0]\n",
    "    target_length = target_variable.size()[0]\n",
    "\n",
    "    encoder_outputs = Variable(torch.zeros(max_length, encoder.hidden_size))\n",
    "\n",
    "    loss = 0\n",
    "\n",
    "    for ei in range(input_length):\n",
    "        encoder_output, encoder_hidden = encoder(\n",
    "            input_variable[ei], encoder_hidden)\n",
    "        encoder_outputs[ei] = encoder_output[0][0]\n",
    "\n",
    "    decoder_input = Variable(torch.LongTensor([[SOS_token]]))\n",
    "    decoder_input = decoder_input\n",
    "\n",
    "    decoder_hidden = encoder_hidden\n",
    "\n",
    "    use_teacher_forcing = True if random.random() < teacher_forcing_ratio else False\n",
    "\n",
    "    if use_teacher_forcing:\n",
    "        # Teacher forcing: Feed the target as the next input\n",
    "        for di in range(target_length):\n",
    "            \n",
    "            decoder_output, decoder_hidden, decoder_attention = decoder(\n",
    "                decoder_input, decoder_hidden, encoder_outputs)\n",
    "            \n",
    "            #decoder_output, decoder_hidden = decoder(\n",
    "             #   decoder_input, decoder_hidden)\n",
    "            \n",
    "            loss += criterion(decoder_output, target_variable[di])\n",
    "            decoder_input = target_variable[di]  # Teacher forcing\n",
    "\n",
    "    else:\n",
    "        # Without teacher forcing: use its own predictions as the next input\n",
    "        for di in range(target_length):\n",
    "            \n",
    "            decoder_output, decoder_hidden, decoder_attention = decoder(\n",
    "                decoder_input, decoder_hidden, encoder_outputs)\n",
    "            \n",
    "            #decoder_output, decoder_hidden = decoder(\n",
    "             #   decoder_input, decoder_hidden)       \n",
    "            \n",
    "            topv, topi = decoder_output.data.topk(1)\n",
    "            ni = topi[0][0]\n",
    "\n",
    "            decoder_input = Variable(torch.LongTensor([[ni]]))\n",
    "            decoder_input = decoder_input\n",
    "\n",
    "            loss += criterion(decoder_output, target_variable[di])\n",
    "            if ni == EOS_token:\n",
    "                break\n",
    "\n",
    "    loss.backward()\n",
    "\n",
    "    encoder_optimizer.step()\n",
    "    decoder_optimizer.step()\n",
    "\n",
    "    return loss.data[0] / target_length"
   ]
  },
  {
   "cell_type": "markdown",
   "metadata": {},
   "source": [
    "This is a helper function to print time elapsed and estimated time\n",
    "remaining given the current time and progress %."
   ]
  },
  {
   "cell_type": "code",
   "execution_count": 20,
   "metadata": {},
   "outputs": [],
   "source": [
    "import time\n",
    "import math\n",
    "\n",
    "def asMinutes(s):\n",
    "    m = math.floor(s / 60)\n",
    "    s -= m * 60\n",
    "    return '%dm %ds' % (m, s)\n",
    "\n",
    "def timeSince(since, percent):\n",
    "    now = time.time()\n",
    "    s = now - since\n",
    "    es = s / (percent)\n",
    "    rs = es - s\n",
    "    return '%s (- %s)' % (asMinutes(s), asMinutes(rs))"
   ]
  },
  {
   "cell_type": "markdown",
   "metadata": {},
   "source": [
    "The whole training process looks like this:\n",
    "\n",
    "-  Start a timer\n",
    "-  Initialize optimizers and criterion\n",
    "-  Create set of training pairs\n",
    "-  Start empty losses array for plotting\n",
    "\n",
    "Then we call ``train`` many times and occasionally print the progress (%\n",
    "of examples, time so far, estimated time) and average loss.\n",
    "\n",
    "\n"
   ]
  },
  {
   "cell_type": "code",
   "execution_count": 21,
   "metadata": {},
   "outputs": [],
   "source": [
    "def trainIters(encoder, decoder, n_iters, print_every=1000, plot_every=100, learning_rate=0.05):\n",
    "    start = time.time()\n",
    "    plot_losses = []\n",
    "    print_loss_total = 0  # Reset every print_every\n",
    "    plot_loss_total = 0  # Reset every plot_every\n",
    "\n",
    "    encoder_optimizer = optim.SGD(encoder.parameters(), lr=learning_rate)\n",
    "    decoder_optimizer = optim.SGD(decoder.parameters(), lr=learning_rate)\n",
    "    \n",
    "    training_pairs = [variablesFromPair(random.choice(pairs))\n",
    "                      for i in range(n_iters)]\n",
    "    criterion = nn.NLLLoss()\n",
    "\n",
    "    for iter in range(1, n_iters + 1):\n",
    "        training_pair = training_pairs[iter - 1]\n",
    "        input_variable = training_pair[0]\n",
    "        target_variable = training_pair[1]\n",
    "\n",
    "        loss = train(input_variable, target_variable, encoder,\n",
    "                     decoder, encoder_optimizer, decoder_optimizer, criterion)\n",
    "        print_loss_total += loss\n",
    "        plot_loss_total += loss\n",
    "\n",
    "        if iter % print_every == 0:\n",
    "            print_loss_avg = print_loss_total / print_every\n",
    "            print_loss_total = 0\n",
    "            print('%s (%d %d%%) %.4f' % (timeSince(start, iter / n_iters),\n",
    "                                         iter, iter / n_iters * 100, print_loss_avg))\n",
    "\n",
    "        if iter % plot_every == 0:\n",
    "            plot_loss_avg = plot_loss_total / plot_every\n",
    "            plot_losses.append(plot_loss_avg)\n",
    "            plot_loss_total = 0\n",
    "\n",
    "    showPlot(plot_losses)"
   ]
  },
  {
   "cell_type": "markdown",
   "metadata": {},
   "source": [
    "Plotting results\n",
    "----------------\n",
    "\n",
    "Plotting is done with matplotlib, using the array of loss values\n",
    "``plot_losses`` saved while training.\n",
    "\n",
    "\n"
   ]
  },
  {
   "cell_type": "code",
   "execution_count": 22,
   "metadata": {},
   "outputs": [],
   "source": [
    "import matplotlib.pyplot as plt\n",
    "import matplotlib.ticker as ticker\n",
    "import numpy as np\n",
    "\n",
    "\n",
    "def showPlot(points):\n",
    "    plt.figure()\n",
    "    fig, ax = plt.subplots()\n",
    "    # this locator puts ticks at regular intervals\n",
    "    loc = ticker.MultipleLocator(base=0.2)\n",
    "    ax.yaxis.set_major_locator(loc)\n",
    "    plt.plot(points)"
   ]
  },
  {
   "cell_type": "markdown",
   "metadata": {},
   "source": [
    "Evaluation\n",
    "==========\n",
    "\n",
    "Evaluation is mostly the same as training, but there are no targets so\n",
    "we simply feed the decoder's predictions back to itself for each step.\n",
    "Every time it predicts a word we add it to the output string, and if it\n",
    "predicts the EOS token we stop there. We also store the decoder's\n",
    "attention outputs for display later.\n",
    "\n",
    "\n"
   ]
  },
  {
   "cell_type": "code",
   "execution_count": 27,
   "metadata": {},
   "outputs": [],
   "source": [
    "def evaluate(encoder, decoder, sentence, max_length=MAX_LENGTH):\n",
    "    input_variable = variableFromSentence(input_lang, sentence)\n",
    "    input_length = input_variable.size()[0]\n",
    "    encoder_hidden = encoder.initHidden()\n",
    "\n",
    "    encoder_outputs = Variable(torch.zeros(max_length, encoder.hidden_size))\n",
    "    encoder_outputs = encoder_outputs\n",
    "\n",
    "    for ei in range(input_length):\n",
    "        encoder_output, encoder_hidden = encoder(input_variable[ei],\n",
    "                                                 encoder_hidden)\n",
    "        encoder_outputs[ei] = encoder_outputs[ei] + encoder_output[0][0]\n",
    "\n",
    "    decoder_input = Variable(torch.LongTensor([[SOS_token]]))  # SOS\n",
    "    decoder_input = decoder_input\n",
    "\n",
    "    decoder_hidden = encoder_hidden\n",
    "\n",
    "    decoded_words = []\n",
    "    decoder_attentions = torch.zeros(max_length, max_length)\n",
    "\n",
    "    for di in range(max_length):\n",
    "        \n",
    "        #decoder_output, decoder_hidden = decoder(\n",
    "         #   decoder_input, decoder_hidden)\n",
    "\n",
    "        decoder_output, decoder_hidden, decoder_attention = decoder(\n",
    "            decoder_input, decoder_hidden, encoder_outputs)\n",
    "        decoder_attentions[di] = decoder_attention.data\n",
    "\n",
    "        topv, topi = decoder_output.data.topk(1)\n",
    "        ni = topi[0][0].item()\n",
    "\n",
    "        if ni == EOS_token:\n",
    "            decoded_words.append('<EOS>')\n",
    "            break\n",
    "        else:\n",
    "            decoded_words.append(output_lang.index2word[ni])\n",
    "\n",
    "        decoder_input = Variable(torch.LongTensor([[ni]]))\n",
    "\n",
    "    return decoded_words, decoder_attentions[:di + 1]\n",
    "    #return decoded_words"
   ]
  },
  {
   "cell_type": "markdown",
   "metadata": {},
   "source": [
    "We can evaluate random sentences from the training set and print out the\n",
    "input, target, and output to make some subjective quality judgements:\n",
    "\n",
    "\n"
   ]
  },
  {
   "cell_type": "code",
   "execution_count": 28,
   "metadata": {},
   "outputs": [],
   "source": [
    "def evaluateRandomly(encoder, decoder, n=10):\n",
    "    for i in range(n):\n",
    "        pair = random.choice(pairs)\n",
    "        print('>', pair[0])\n",
    "        print('=', pair[1])\n",
    "        \n",
    "        output_words, attentions = evaluate(encoder, decoder, pair[0])\n",
    "        #output_words = evaluate(encoder, decoder, pair[0])\n",
    "     \n",
    "        output_sentence = ' '.join(output_words)\n",
    "        print('<', output_sentence)\n",
    "        print('')"
   ]
  },
  {
   "cell_type": "markdown",
   "metadata": {},
   "source": [
    "Training and Evaluating\n",
    "=======================\n",
    "\n",
    "With all these helper functions in place (it looks like extra work, but\n",
    "it's easier to run multiple experiments easier) we can actually\n",
    "initialize a network and start training.\n",
    "\n",
    "Remember that they are very few input sentences. For this small\n",
    "dataset we can use relatively small networks of 100 hidden nodes and a\n",
    "single GRU layer. After about 3 minutes on a MacBook CPU we'll get some\n",
    "reasonable results.\n",
    "\n",
    ".. Note::\n",
    "   If you run this notebook you can train, interrupt the kernel,\n",
    "   evaluate, and continue training later. Comment out the lines where the\n",
    "   encoder and decoder are initialized and run ``trainIters`` again.\n",
    "\n",
    "\n"
   ]
  },
  {
   "cell_type": "code",
   "execution_count": 29,
   "metadata": {},
   "outputs": [
    {
     "name": "stdout",
     "output_type": "stream",
     "text": [
      "0m 13s (- 0m 0s) (1000 100%) 2.3143\n"
     ]
    },
    {
     "data": {
      "text/plain": [
       "<Figure size 432x288 with 0 Axes>"
      ]
     },
     "metadata": {},
     "output_type": "display_data"
    },
    {
     "data": {
      "image/png": "[encoded data removed]",
      "text/plain": [
       "<Figure size 432x288 with 1 Axes>"
      ]
     },
     "metadata": {
      "needs_background": "light"
     },
     "output_type": "display_data"
    }
   ],
   "source": [
    "hidden_size = 256\n",
    "#hidden_size = 100\n",
    "encoder1 = EncoderRNN(input_lang.n_words, hidden_size)\n",
    "\n",
    "attn_decoder1 = AttnDecoderRNN(hidden_size, output_lang.n_words,\n",
    "                               1, dropout_p=0.1)\n",
    "#attn_decoder1 = DecoderRNN(hidden_size, output_lang.n_words,1)\n",
    "\n",
    "#trainIters(encoder1, attn_decoder1, 75000, print_every=5000)\n",
    "trainIters(encoder1, attn_decoder1, 1000, print_every=1000)"
   ]
  },
  {
   "cell_type": "code",
   "execution_count": 30,
   "metadata": {},
   "outputs": [
    {
     "name": "stdout",
     "output_type": "stream",
     "text": [
      "> et pour les etrangers ?\n",
      "= il y a 10 places pour les etudiants etrangers\n",
      "< il y a 10 places pour les etudiants etrangers etrangers <EOS>\n",
      "\n",
      "> j aime la data science\n",
      "= c est un bon point \n",
      "< que sur ce ? <EOS>\n",
      "\n",
      "> doctorat ?\n",
      "= oui c est possible apres le master\n",
      "< oui <EOS>\n",
      "\n",
      "> cela debouche sur quoi ?\n",
      "= au metier de data scientist\n",
      "< au metier de <EOS>\n",
      "\n",
      "> si je viens de lyon ?\n",
      "= il y a 20 places pour vous\n",
      "< il y a 20 places pour les etudiants etrangers <EOS>\n",
      "\n",
      "> comment faire si je suis etranger ?\n",
      "= il y a dix places aux etudiants hors ue\n",
      "< il y a 10 places pour les etudiants etrangers etrangers <EOS>\n",
      "\n",
      "> bonjour\n",
      "= bonjour\n",
      "< bonjour <EOS>\n",
      "\n",
      "> j ai besoin d aide\n",
      "= je suis la pour vous renseigner\n",
      "< oui suis la pour vous <EOS>\n",
      "\n",
      "> les gens sont-ils sympa a lyon ?\n",
      "= a vous de vous faire votre avis \n",
      "< au metier de <EOS>\n",
      "\n",
      "> et pour les inscriptions on fait comment ?\n",
      "= il faut contacter la scolarite\n",
      "< il faut contacter la scolarite la scolarite <EOS>\n",
      "\n"
     ]
    }
   ],
   "source": [
    "evaluateRandomly(encoder1, attn_decoder1)"
   ]
  },
  {
   "cell_type": "markdown",
   "metadata": {},
   "source": [
    "New questions\n",
    "=========\n",
    "\n",
    "Ask new questions (never seen during training) using only the words that appear in your input vocabulary. "
   ]
  },
  {
   "cell_type": "code",
   "execution_count": 31,
   "metadata": {},
   "outputs": [
    {
     "name": "stdout",
     "output_type": "stream",
     "text": [
      "['Bonjour', 'je suis intéressé par la data science', \"C'est quand la rentrée\", 'Il y a quels cours']\n",
      "bonjour\n",
      "Bonjour\n",
      "= bonjour\n",
      "-> bonjour <EOS>\n",
      "\n",
      "je suis interesse par la data science\n",
      "je suis intéressé par la data science\n",
      "= je suis interesse par la data science\n",
      "-> que sur ce ? <EOS>\n",
      "\n",
      "c est quand la rentree\n",
      "C'est quand la rentrée\n",
      "= c est quand la rentree\n",
      "-> le 5 septembre 2018 <EOS>\n",
      "\n",
      "il y a quels cours\n",
      "Il y a quels cours\n",
      "= il y a quels cours\n",
      "-> oui ects <EOS>\n",
      "\n"
     ]
    }
   ],
   "source": [
    "mail=\"Bonjour, je suis intéressé par la data science. C'est quand la rentrée ? Il y a quels cours ?\"\n",
    "\n",
    "sentences = [s.strip() for s in re.split('[\\.\\,\\?\\!]' , mail)]\n",
    "print(sentences[:-1])\n",
    "sentences = sentences[:-1]\n",
    "\n",
    "for sentence in sentences : #sentence.split() :\n",
    "    sentence2= TrimWordsSentence(normalizeString(sentence))\n",
    "    print(sentence2)\n",
    "    output_words, attentions = evaluate(encoder1, attn_decoder1, sentence2)\n",
    "    output_sentence = ' '.join(output_words)\n",
    "    print(sentence)\n",
    "    print('=', sentence2)\n",
    "    print('->', output_sentence)\n",
    "    print('')\n",
    "    "
   ]
  },
  {
   "cell_type": "markdown",
   "metadata": {},
   "source": [
    "Visualizing Attention\n",
    "---------------------\n",
    "\n",
    "A useful property of the attention mechanism is its highly interpretable\n",
    "outputs. Because it is used to weight specific encoder outputs of the\n",
    "input sequence, we can imagine looking where the network is focused most\n",
    "at each time step.\n",
    "\n",
    "We simply run ``plt.matshow(attentions)`` to see attention output\n",
    "displayed as a matrix, with the columns being input steps and rows being\n",
    "output steps:"
   ]
  },
  {
   "cell_type": "markdown",
   "metadata": {},
   "source": [
    "For a better viewing experience we will do the extra work of adding axes\n",
    "and labels:\n",
    "\n",
    "\n"
   ]
  },
  {
   "cell_type": "code",
   "execution_count": 32,
   "metadata": {},
   "outputs": [
    {
     "data": {
      "image/png": "[encoded data removed]",
      "text/plain": [
       "<Figure size 432x288 with 2 Axes>"
      ]
     },
     "metadata": {
      "needs_background": "light"
     },
     "output_type": "display_data"
    },
    {
     "data": {
      "image/png": "[encoded data removed]",
      "text/plain": [
       "<Figure size 432x288 with 2 Axes>"
      ]
     },
     "metadata": {
      "needs_background": "light"
     },
     "output_type": "display_data"
    }
   ],
   "source": [
    "def showAttention(input_sentence, output_words, attentions):\n",
    "    # Set up figure with colorbar\n",
    "    fig = plt.figure()\n",
    "    ax = fig.add_subplot(111)\n",
    "    cax = ax.matshow(attentions.numpy(), cmap='bone')\n",
    "    fig.colorbar(cax)\n",
    "\n",
    "    # Set up axes\n",
    "    ax.set_xticklabels([''] + input_sentence.split(' ') +\n",
    "                       ['<EOS>'], rotation=90)\n",
    "    ax.set_yticklabels([''] + output_words)\n",
    "\n",
    "    # Show label at every tick\n",
    "    ax.xaxis.set_major_locator(ticker.MultipleLocator(1))\n",
    "    ax.yaxis.set_major_locator(ticker.MultipleLocator(1))\n",
    "\n",
    "    plt.show()\n",
    "\n",
    "def evaluateAndShowAttention(input_sentence):\n",
    "    output_words, attentions = evaluate(\n",
    "        encoder1, attn_decoder1, input_sentence)\n",
    "    showAttention(input_sentence, output_words, attentions)\n",
    "\n",
    "evaluateAndShowAttention(TrimWordsSentence(\"quelle est la date de la rentree 2018 ?\"))\n",
    "evaluateAndShowAttention(TrimWordsSentence(\"a quel metier prepare la formation ?\"))"
   ]
  },
  {
   "cell_type": "markdown",
   "metadata": {},
   "source": [
    "Further improvements\n",
    "=========\n",
    "\n",
    "-  Discuss the weaknesses of this simple approach\n",
    "-  Allow words in the new questions that were unseen during training.\n",
    "-  Allow questions of > 10 words (for instance, by selecting 10 words at random in the sentence).\n",
    "-  Adapt the code to handle several sequences at once (like an email)\n",
    "-  Replace the embeddings with pre-trained word embeddings such as word2vec (or GloVe).\n",
    "-  Try with more layers, more/less hidden units, and more sentences. Compare\n",
    "   the training time and performance.\n",
    "-  Define and plot other loss functions for this specific task (e.g. % correct words)\n"
   ]
  },
  {
   "cell_type": "markdown",
   "metadata": {},
   "source": [
    "Solution\n",
    "=========\n",
    "-  Allow words in the new questions that are unseen during training.\n",
    "-  Allow questions of > 10 words (for instance, by selecting 10 words at random in the sentence)."
   ]
  },
  {
   "cell_type": "code",
   "execution_count": 33,
   "metadata": {},
   "outputs": [],
   "source": [
    "def indexesFromSentence(lang, sentence):\n",
    "    indexes=[]\n",
    "    # ignore unknown words\n",
    "    for word in sentence.split(' '):\n",
    "        if word in set(lang.word2index):\n",
    "            indexes.append(lang.word2index[word])   \n",
    "        else:\n",
    "            print(\"Unknwon word : \",word)\n",
    "    # remove exceeding words, exept first word and '?'\n",
    "    while len(indexes) >= MAX_LENGTH:\n",
    "        indexes.pop(random.randint(1,len(indexes)-1))\n",
    "    return indexes\n",
    "\n",
    "def SentenceFromIndexes(lang, indexes):\n",
    "    sentence = []\n",
    "    for i in indexes:\n",
    "        sentence.append(input_lang.index2word[i])\n",
    "    sentence = ' '.join(sentence)\n",
    "    return sentence"
   ]
  },
  {
   "cell_type": "code",
   "execution_count": 34,
   "metadata": {},
   "outputs": [
    {
     "name": "stdout",
     "output_type": "stream",
     "text": [
      "Unknwon word :  pourriez\n",
      "Unknwon word :  dire\n",
      "Unknwon word :  chercheurs\n",
      "Unknwon word :  laboratoire\n",
      "Unknwon word :  vont\n",
      "Unknwon word :  encadrer\n",
      "Unknwon word :  mon\n",
      "Unknwon word :  etude\n",
      "Unknwon word :  plait\n",
      "pourriez vous me dire quels sont les enseignants ou les chercheurs du laboratoire qui vont encadrer mon stage de fin d'étude s'il vous plaît ?\n",
      "-> vous me quels sont les enseignants ou stage fin vous ?\n"
     ]
    },
    {
     "data": {
      "image/png": "[encoded data removed]",
      "text/plain": [
       "<Figure size 432x288 with 2 Axes>"
      ]
     },
     "metadata": {
      "needs_background": "light"
     },
     "output_type": "display_data"
    }
   ],
   "source": [
    "new_sentence = \"pourriez vous me dire quels sont les enseignants ou les \\\n",
    "chercheurs du laboratoire qui vont encadrer mon stage de fin \\\n",
    "d'étude s'il vous plaît ?\"\n",
    "indexes = indexesFromSentence(input_lang, TrimWordsSentence(normalizeString(new_sentence)))\n",
    "#print(indexes)\n",
    "sentence2 = SentenceFromIndexes(input_lang, indexes)\n",
    "print(new_sentence)\n",
    "print('->', sentence2)\n",
    "evaluateAndShowAttention(sentence2)"
   ]
  },
  {
   "cell_type": "markdown",
   "metadata": {},
   "source": [
    "# Use pre-trained word2vec embeddings #\n",
    "\n",
    "- We use frWaC: a 1.6 billion word corpus constructed from the Web limiting the crawl to the .fr domain and using medium-frequency words from the Le Monde Diplomatique corpus and basic French vocabulary lists as seeds.\n",
    "- Load a pre-trained word2vec models in French: Dim = 700, Cutoff = 100, trained with CBOW available at:\n",
    "\n",
    "See Fauconnier, Jean-Philippe, French Word Embeddings, http://fauconnier.github.io, 2015.\n"
   ]
  },
  {
   "cell_type": "code",
   "execution_count": null,
   "metadata": {},
   "outputs": [],
   "source": [
    "from gensim.models import KeyedVectors\n",
    "#filename = 'data/frWiki_no_phrase_no_postag_700_cbow_cut100.bin'\n",
    "filename = 'data/frWac_non_lem_no_postag_no_phrase_200_cbow_cut100.bin'\n",
    "model = KeyedVectors.load_word2vec_format(filename, binary=True)"
   ]
  },
  {
   "cell_type": "code",
   "execution_count": null,
   "metadata": {},
   "outputs": [],
   "source": [
    "result = model.most_similar(positive=['femme', 'roi'], negative=['homme'], topn=1)\n",
    "print(\"La femme est à l'homme, ce que la\", result[0][0], 'est au roi')\n",
    "result = model.most_similar(positive=['femme', 'voiture'], negative=['homme'], topn=1)\n",
    "print(\"La voiture est à l'homme, ce que la\", result[0][0], 'est à la femme')\n",
    "result = model.most_similar(positive=['stupidité', 'vulgarité'], negative=['intelligence'], topn=1)\n",
    "print(\"La stupidité est à l'intelligence, ce que la\", result[0][0], 'est à la beauté')\n",
    "result = model.most_similar(positive=['ennui', 'femme'], negative=['passion'], topn=1)\n",
    "print(\"La passion est à l'ennui, ce que la\", result[0][0], 'est à la femme')\n",
    "result = model.most_similar(positive=['travailleur', 'salarié'], negative=['employeur'], topn=1)\n",
    "print(\"La salarié est à l'employeur, ce que la\", result[0][0], 'est au travailleur')\n",
    "result = model.most_similar(positive=['innovation', 'analogique'], negative=['entreprise'], topn=1)\n",
    "print(\"L'innovation est à l'entreprise, ce que le\", result[0][0], \"est à l'analogique\")\n",
    "result = model.most_similar(positive=['commerce', 'finance'], negative=['ingénierie'], topn=1)\n",
    "print(\"Le commerce est à l'ingénierie, ce que le\", result[0][0], \"est à la finance\")\n",
    "\n",
    "result = model.most_similar(positive=['littérature', 'femme'], negative=['homme'], topn=1)\n",
    "print(\"Le littérature est à l'homme, ce que le\", result[0][0], \"est à la femme\")\n",
    "\n",
    "\n",
    "result = model.most_similar(positive=['homme'], topn=2)\n",
    "print(\"Un homme s'intéresse à la\", result[1][0])\n",
    "result = model.most_similar(positive=['femme'], topn=2)\n",
    "print(\"Une femme s'intéresse à son\", result[1][0])\n",
    "\n",
    "result = model.most_similar(positive=['intelligence'], topn=1)\n",
    "print(\"L'intelligence est\", result[0][0])"
   ]
  },
  {
   "cell_type": "code",
   "execution_count": null,
   "metadata": {},
   "outputs": [],
   "source": [
    "#print(model['science'])\n",
    "result = model.doesnt_match(\"manger boire déjeuner travailler\".split())\n",
    "print(result)\n",
    "result = model.similarity('informatique', 'progrès')\n",
    "print(result)\n",
    "result = model.similarity('informatique', 'innovation')\n",
    "print(result)"
   ]
  },
  {
   "cell_type": "code",
   "execution_count": null,
   "metadata": {},
   "outputs": [],
   "source": [
    "words = list(model.vocab)\n",
    "print(set(input_lang.word2index).intersection(words))\n",
    "l1 = len(list(set(input_lang.word2index).intersection(words)))\n",
    "print('Percentage of common words w.r.t. input_lang : %0.2f%%' % (100 * l1/input_lang.n_words))\n",
    "print('Percentage of common words w.r.t. word2vec vocab : %0.2f%%' % (100 * l1/len(words)))"
   ]
  },
  {
   "cell_type": "markdown",
   "metadata": {},
   "source": [
    "- At this stage, we may either merge the two vocabularies (run the cell below) or keep only our input_lang vocab (skip the cell)"
   ]
  },
  {
   "cell_type": "code",
   "execution_count": null,
   "metadata": {},
   "outputs": [],
   "source": [
    "# merge vocabularies\n",
    "#for word in words:\n",
    "#    input_lang.addWord(word)\n",
    "#print(input_lang.name, input_lang.n_words)\n",
    "#print(\"Word2Vec vocab\", len(words))"
   ]
  },
  {
   "cell_type": "markdown",
   "metadata": {},
   "source": [
    "- In case you keep the input_lang vocab, the following function searches for the most similar word in input_vocab if the word is unknwon"
   ]
  },
  {
   "cell_type": "code",
   "execution_count": null,
   "metadata": {},
   "outputs": [],
   "source": [
    "print(words[11000:11200])"
   ]
  },
  {
   "cell_type": "code",
   "execution_count": null,
   "metadata": {},
   "outputs": [],
   "source": [
    "def indexesFromSentence(lang, sentence):\n",
    "    indexes=[]\n",
    "    # search for unknown words\n",
    "    for word in sentence.split():\n",
    "        if word in set(lang.word2index):\n",
    "            indexes.append(lang.word2index[word])\n",
    "        elif word in model.vocab:\n",
    "            # check if most similar word is in input_vocab \n",
    "            new_word = model.most_similar(positive=[word], topn=1)[0][0]\n",
    "            if new_word in set(lang.word2index):\n",
    "                indexes.append(lang.word2index[new_word])\n",
    "                print(word,'->',new_word)\n",
    "        else:\n",
    "            print(\"Unknwon word in model vocab: \",word)\n",
    "    # remove exceeding words, exept first word and '?'\n",
    "    while len(indexes) >= MAX_LENGTH:\n",
    "        indexes.pop(random.randint(1,len(indexes)-2))\n",
    "    return indexes"
   ]
  },
  {
   "cell_type": "code",
   "execution_count": null,
   "metadata": {},
   "outputs": [],
   "source": [
    "new_sentence = \"Je suis vif, auriez-vous l'amabiliité de me dire quels sont les enseignants ou les chercheurs \\\n",
    "du laboratoire qui vont encadrer mon stage de fin d'étude cette année et qui est le responsable du master s'il vous plaît ?\"\n",
    "trimmed_sentence = TrimWordsSentence(normalizeString(new_sentence))\n",
    "indexes = indexesFromSentence(input_lang, trimmed_sentence)\n",
    "print(indexes)\n",
    "print(new_sentence)\n",
    "print('->', trimmed_sentence)\n",
    "print('->', SentenceFromIndexes(input_lang, indexes))"
   ]
  },
  {
   "cell_type": "code",
   "execution_count": null,
   "metadata": {},
   "outputs": [],
   "source": [
    "vocab_dim = 200 # dimensionality of your word vectors\n",
    "n_symbols = input_lang.n_words + 1 # adding 1 to account for 0th index (for masking)\n",
    "\n",
    "embedding_weights = np.zeros((n_symbols, vocab_dim))\n",
    "for word,index in input_lang.word2index.items():\n",
    "    try:\n",
    "        embedding_weights[index, :] = model.get_vector(word)\n",
    "    except KeyError:\n",
    "        pass\n",
    "\n",
    "print(embedding_weights.shape)\n",
    "print(len(model.vocab))"
   ]
  },
  {
   "cell_type": "code",
   "execution_count": null,
   "metadata": {},
   "outputs": [],
   "source": [
    "hidden_size = vocab_dim\n",
    "\n",
    "class EncoderRNN_with_trained_embedding(nn.Module):\n",
    "    def __init__(self, input_size, n_symbols, pretrained_embed, n_layers=1):\n",
    "        super(EncoderRNN_with_trained_embedding, self).__init__()\n",
    "        self.n_layers = n_layers\n",
    "        self.hidden_size = hidden_size\n",
    "\n",
    "        self.embedding = nn.Embedding(input_size, hidden_size)\n",
    "        pretrained_embed = torch.Tensor(pretrained_embed)\n",
    "        self.embedding.weight = nn.Parameter(pretrained_embed)\n",
    "        self.gru = nn.GRU(hidden_size, hidden_size)\n",
    "\n",
    "    def forward(self, input, hidden):\n",
    "        embedded = self.embedding(input).view(1, 1, -1)\n",
    "        output = embedded\n",
    "        for i in range(self.n_layers):\n",
    "            output, hidden = self.gru(output, hidden)\n",
    "        return output, hidden\n",
    "\n",
    "    def initHidden(self):\n",
    "        result = Variable(torch.zeros(1, 1, self.hidden_size))\n",
    "        return result\n",
    "\n",
    "class AttnDecoderRNN_with_trained_embedding(nn.Module):\n",
    "    def __init__(self, hidden_size, output_size, pretrained_embed, n_layers=1, dropout_p=0.1, max_length=MAX_LENGTH):\n",
    "        super(AttnDecoderRNN_with_trained_embedding, self).__init__()\n",
    "        self.hidden_size = hidden_size\n",
    "        self.output_size = output_size\n",
    "        self.n_layers = n_layers\n",
    "        self.dropout_p = dropout_p\n",
    "        self.max_length = max_length\n",
    "\n",
    "        self.embedding = nn.Embedding(self.output_size, self.hidden_size)\n",
    "        pretrained_embed = torch.Tensor(pretrained_embed)\n",
    "        self.embedding.weight = nn.Parameter(pretrained_embed)\n",
    "        self.attn = nn.Linear(self.hidden_size * 2, self.max_length)\n",
    "        self.attn_combine = nn.Linear(self.hidden_size * 2, self.hidden_size)\n",
    "        self.dropout = nn.Dropout(self.dropout_p)\n",
    "        self.gru = nn.GRU(self.hidden_size, self.hidden_size)\n",
    "        self.out = nn.Linear(self.hidden_size, self.output_size)\n",
    "\n",
    "    def forward(self, input, hidden, encoder_outputs):\n",
    "        embedded = self.embedding(input).view(1, 1, -1)\n",
    "        embedded = self.dropout(embedded)\n",
    "\n",
    "        attn_weights = F.softmax(\n",
    "            self.attn(torch.cat((embedded[0], hidden[0]), 1)))#, dim=1)\n",
    "        attn_applied = torch.bmm(attn_weights.unsqueeze(0),\n",
    "                                 encoder_outputs.unsqueeze(0))\n",
    "\n",
    "        output = torch.cat((embedded[0], attn_applied[0]), 1)\n",
    "        output = self.attn_combine(output).unsqueeze(0)\n",
    "\n",
    "        for i in range(self.n_layers):\n",
    "            output = F.relu(output)\n",
    "            output, hidden = self.gru(output, hidden)\n",
    "\n",
    "        output = F.log_softmax(self.out(output[0]))\n",
    "        return output, hidden, attn_weights\n",
    "\n",
    "    def initHidden(self):\n",
    "        result = Variable(torch.zeros(1, 1, self.hidden_size))\n",
    "        return result"
   ]
  },
  {
   "cell_type": "code",
   "execution_count": null,
   "metadata": {},
   "outputs": [],
   "source": [
    "#hidden_size = vocab_dim\n",
    "encoder1 = EncoderRNN_with_trained_embedding(input_lang.n_words, hidden_size, embedding_weights)\n",
    "attn_decoder1 = AttnDecoderRNN_with_trained_embedding(hidden_size, output_lang.n_words,\n",
    "                                                      embedding_weights,1, dropout_p=0.1)"
   ]
  },
  {
   "cell_type": "code",
   "execution_count": null,
   "metadata": {},
   "outputs": [],
   "source": [
    "#trainIters(encoder1, attn_decoder1, 75000, print_every=5000)\n",
    "trainIters(encoder1, attn_decoder1, 5000, print_every=100)"
   ]
  },
  {
   "cell_type": "code",
   "execution_count": null,
   "metadata": {},
   "outputs": [],
   "source": [
    "evaluateRandomly(encoder1, attn_decoder1)"
   ]
  },
  {
   "cell_type": "code",
   "execution_count": null,
   "metadata": {},
   "outputs": [],
   "source": [
    "new_sentence = \"Bonjour, je suis en intérim, je vis sur un promontoire, je porte un crucifix autour du cou, suis-je en mesure de faire un stage de fin d'étude sans souci ?\"\n",
    "\n",
    "#new_sentence = \"Quel est le salaire moyen d'un étudiant en stage ?\"\n",
    "\n",
    "#new_sentence = \"Bonjour, Titulaire d'un Master 2 mention informatique et actuellement doctorante en deuxième année spécialité Bioinformatique. Je souhaite savoir si mes deux ans de doctorat pourront constituer un obstacle lors de ma demande de candidature en Master 2 mention informatique parcours \\ Data Science au sein de votre université.  Cordialement.\"\n",
    "\n",
    "trimmed_sentence = TrimWordsSentence(normalizeString(new_sentence))\n",
    "indexes = indexesFromSentence(input_lang, trimmed_sentence)\n",
    "print(indexes)\n",
    "print(new_sentence)\n",
    "print('->', trimmed_sentence)\n",
    "final_sentence = SentenceFromIndexes(input_lang, indexes)\n",
    "print('->', final_sentence)\n",
    "evaluateAndShowAttention(final_sentence)"
   ]
  },
  {
   "cell_type": "markdown",
   "metadata": {},
   "source": [
    "# Further ideas\n",
    "- Use \"negative sampling\", i.e. sampling random words to form incorrect questions (answering the question with something like 'I don't understand your question, sorry.' in order to enforce the model recognize a questions that are not syntactically (and semantically) correct. \n",
    "The probability for selecting a word as a negative sample should be related to its frequency, with more frequent words being more likely to be selected as negative samples. \n",
    "- To reduce the size of the input vocabulary and thus the computational burden, try to replace all the unknwon words with an unknown token <UNK> instead of ignoring them.\n",
    "-  Adapt the decoder to infer directly the word embeddings (semantic) in the output sentence.  \n",
    "\n"
   ]
  },
  {
   "cell_type": "code",
   "execution_count": null,
   "metadata": {},
   "outputs": [],
   "source": [
    "import spacy\n",
    "nlp_fr = spacy.load('fr_core_news_md')\n",
    "#nlp_fr = spacy.load(\"fr\")"
   ]
  },
  {
   "cell_type": "code",
   "execution_count": null,
   "metadata": {},
   "outputs": [],
   "source": [
    "# On crée un texte composé de plusieurs phrases\n",
    "mail = \"Bonjour Monsieur Aussem, je suis titulaire d'un Master 2 mention informatique et actuellement \\\n",
    "doctorante en deuxième année spécialité Bioinformatique. Je souhaite savoir si mes deux ans de doctorat \\\n",
    "pourront constituer un obstacle lors de ma demande de candidature en Master 2 mention informatique parcours \\\n",
    "Data Science au sein de votre université. Cordialement.\"\n",
    "\n",
    "text_fr = nlp_fr(unidecode(mail))\n",
    "\n",
    "#text_fr = \"je suis en intérim depuis le 13 mai 2017, je vis sur un promontoire, je porte un crucifix autour du cou, suis-je en mesure de faire un stage de fin d'étude sans souci ?\"\n",
    "\n",
    "for token in text_fr:\n",
    "    print(token.text, token.lemma_, '\\t', token.pos_, token.tag_, token.dep_,\n",
    "          token.shape_, token.is_alpha, token.is_stop)"
   ]
  },
  {
   "cell_type": "code",
   "execution_count": null,
   "metadata": {},
   "outputs": [],
   "source": [
    "#for token in text_fr:\n",
    "#    print(token.text, token.has_vector, token.vector_norm, token.is_oov)\n",
    "\n",
    "token1 = nlp_fr(unidecode('bonjour'))\n",
    "token2 = nlp_fr(unidecode('monsieur'))\n",
    "\n",
    "print(token1.similarity(token2))\n",
    "print(token1.vector)"
   ]
  },
  {
   "cell_type": "code",
   "execution_count": null,
   "metadata": {},
   "outputs": [],
   "source": [
    "text = []\n",
    "stop_tags = {'PUNC','ADP_','DET_'}\n",
    "for w in text_fr:\n",
    "    if w.tag_[0:4] not in stop_tags:\n",
    "        print(\"%s\\t%s\\t%s\" % (w, w.tag_[0:4], w.dep_))    \n",
    "        #print(\"%s\\t%s\" % (w, w.tag_[0:4]))\n",
    "        text.append(w.text)\n",
    "text2 = ' '.join(text)\n",
    "print(text2)\n",
    "\n",
    "#evaluateAndShowAttention(text2.lower())"
   ]
  },
  {
   "cell_type": "code",
   "execution_count": null,
   "metadata": {},
   "outputs": [],
   "source": [
    "doc_fr = text_fr\n",
    " \n",
    "# On affiche les phrases\n",
    "for sent in doc_fr.sents:\n",
    "    print(sent)"
   ]
  },
  {
   "cell_type": "code",
   "execution_count": null,
   "metadata": {},
   "outputs": [],
   "source": [
    "# On récupère et on affiche les tokens\n",
    "words = [w.text for w in doc_fr]\n",
    "print(words)"
   ]
  },
  {
   "cell_type": "code",
   "execution_count": null,
   "metadata": {},
   "outputs": [],
   "source": [
    "import unidecode\n",
    "from unidecode import unidecode\n",
    "\n",
    "unidecode(\"Il eût été bien de s'inscrire en 2017 !! N'est-ce pas ?\")"
   ]
  },
  {
   "cell_type": "code",
   "execution_count": null,
   "metadata": {
    "scrolled": true
   },
   "outputs": [],
   "source": [
    "import nltk\n",
    "#nltk.download()"
   ]
  },
  {
   "cell_type": "code",
   "execution_count": null,
   "metadata": {},
   "outputs": [],
   "source": [
    "tokens = nltk.word_tokenize(unidecode(text_fr))\n",
    "print(tokens)"
   ]
  },
  {
   "cell_type": "code",
   "execution_count": null,
   "metadata": {},
   "outputs": [],
   "source": [
    "tagged = nltk.pos_tag(tokens)\n",
    "print(tagged)"
   ]
  },
  {
   "cell_type": "code",
   "execution_count": null,
   "metadata": {},
   "outputs": [],
   "source": [
    "entities = nltk.chunk.ne_chunk(tagged)\n",
    "entities"
   ]
  },
  {
   "cell_type": "code",
   "execution_count": null,
   "metadata": {},
   "outputs": [],
   "source": [
    "#from nltk.corpus import treebank\n",
    "#t = treebank.parsed_sents('wsj_0001.mrg')[0]\n",
    "#t.draw()"
   ]
  },
  {
   "cell_type": "code",
   "execution_count": null,
   "metadata": {},
   "outputs": [],
   "source": [
    "import gensim\n",
    "message = gensim.utils.to_unicode(text_fr, 'latin1').strip()\n",
    "print(message)\n",
    "message = list(gensim.utils.tokenize(message, lower=True))\n",
    "print(message)\n",
    "text = ' '.join(message)\n",
    "print(text)"
   ]
  },
  {
   "cell_type": "code",
   "execution_count": null,
   "metadata": {},
   "outputs": [],
   "source": []
  },
  {
   "cell_type": "code",
   "execution_count": null,
   "metadata": {},
   "outputs": [],
   "source": []
  }
 ],
 "metadata": {
  "kernelspec": {
   "display_name": "Python 3",
   "language": "python",
   "name": "python3"
  },
  "language_info": {
   "codemirror_mode": {
    "name": "ipython",
    "version": 3
   },
   "file_extension": ".py",
   "mimetype": "text/x-python",
   "name": "python",
   "nbconvert_exporter": "python",
   "pygments_lexer": "ipython3",
   "version": "3.7.0"
  }
 },
 "nbformat": 4,
 "nbformat_minor": 1
}
